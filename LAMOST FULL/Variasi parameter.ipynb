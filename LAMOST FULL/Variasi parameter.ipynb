{
 "cells": [
  {
   "cell_type": "markdown",
   "id": "bdbe69c7",
   "metadata": {},
   "source": [
    "# Data preparation"
   ]
  },
  {
   "cell_type": "code",
   "execution_count": 1,
   "id": "4bb21979",
   "metadata": {},
   "outputs": [],
   "source": [
    "import pandas as pd\n",
    "import matplotlib.pyplot as plt\n",
    "import seaborn as sns\n",
    "import numpy as np"
   ]
  },
  {
   "cell_type": "code",
   "execution_count": 2,
   "id": "f4d147b4",
   "metadata": {},
   "outputs": [],
   "source": [
    "data = pd.read_csv('data olah.csv')\n",
    "data = data.drop('Unnamed: 0', axis = 1)\n",
    "\n",
    "data.drop(data.columns[2410:3579], axis=1, inplace=True)"
   ]
  },
  {
   "cell_type": "code",
   "execution_count": 3,
   "id": "5ef14eae",
   "metadata": {},
   "outputs": [],
   "source": [
    "dadaz = [\n",
    "    'DA' \n",
    "]\n",
    "\n",
    "data['wd_subclass'] = np.where(data['wd_subclass'].isin(dadaz), 1, 0)"
   ]
  },
  {
   "cell_type": "code",
   "execution_count": 4,
   "id": "7c09630d",
   "metadata": {},
   "outputs": [
    {
     "data": {
      "text/plain": [
       "1    90.148686\n",
       "0     9.851314\n",
       "Name: wd_subclass, dtype: float64"
      ]
     },
     "execution_count": 4,
     "metadata": {},
     "output_type": "execute_result"
    }
   ],
   "source": [
    "data['wd_subclass'].value_counts(normalize=True)*100"
   ]
  },
  {
   "cell_type": "markdown",
   "id": "d836eedd",
   "metadata": {},
   "source": [
    "# Train-test split"
   ]
  },
  {
   "cell_type": "code",
   "execution_count": 5,
   "id": "2fb892ee",
   "metadata": {},
   "outputs": [
    {
     "data": {
      "text/plain": [
       "((11783, 2410), (2946, 2410))"
      ]
     },
     "execution_count": 5,
     "metadata": {},
     "output_type": "execute_result"
    }
   ],
   "source": [
    "#train test set\n",
    "\n",
    "from sklearn.model_selection import train_test_split\n",
    "\n",
    "X = data.drop('wd_subclass', axis=1)\n",
    "y = data['wd_subclass']\n",
    "\n",
    "X_train, X_test, y_train, y_test = train_test_split(X, y, test_size=0.2, random_state=42)\n",
    "\n",
    "X_train.shape, X_test.shape"
   ]
  },
  {
   "cell_type": "code",
   "execution_count": 6,
   "id": "df330236",
   "metadata": {},
   "outputs": [],
   "source": [
    "from sklearn.model_selection import train_test_split\n",
    "from sklearn.ensemble import RandomForestClassifier\n",
    "from sklearn.metrics import roc_curve, roc_auc_score"
   ]
  },
  {
   "cell_type": "code",
   "execution_count": 7,
   "id": "8870d08f",
   "metadata": {},
   "outputs": [],
   "source": [
    "#Definisikan fungsi untuk memvariasikan parameter\n",
    "\n",
    "def model(n_estimators, max_features):\n",
    "\n",
    "    X = data.drop('wd_subclass', axis=1)\n",
    "    y = data['wd_subclass']\n",
    "\n",
    "    X_train, X_test, y_train, y_test = train_test_split(X, y, test_size=0.2, random_state=42)\n",
    "    \n",
    "    rfc = RandomForestClassifier(n_estimators = n_estimators, max_features = max_features)\n",
    "    rfc.fit(X_train, y_train)\n",
    "    \n",
    "    y_pred_proba = rfc.predict_proba(X_test)[:][:,1]\n",
    "\n",
    "    df_actual_predicted = pd.concat([pd.DataFrame(np.array(y_test), columns=['y_actual']), pd.DataFrame(y_pred_proba, columns=['y_pred_proba'])], axis=1)\n",
    "    df_actual_predicted.index = y_test.index\n",
    "    \n",
    "    auc = roc_auc_score(df_actual_predicted['y_actual'], df_actual_predicted['y_pred_proba'])\n",
    "    print('Nilai AUC : ',auc)"
   ]
  },
  {
   "cell_type": "markdown",
   "id": "b84780dd",
   "metadata": {},
   "source": [
    "### Variasi parameter n_estimator"
   ]
  },
  {
   "cell_type": "code",
   "execution_count": 8,
   "id": "6810da63",
   "metadata": {},
   "outputs": [
    {
     "name": "stdout",
     "output_type": "stream",
     "text": [
      "Nilai AUC :  0.8169508015799255\n"
     ]
    }
   ],
   "source": [
    "model(100,50)"
   ]
  },
  {
   "cell_type": "code",
   "execution_count": null,
   "id": "58f75876",
   "metadata": {},
   "outputs": [],
   "source": [
    "model(500,50)"
   ]
  },
  {
   "cell_type": "code",
   "execution_count": 18,
   "id": "f72106bf",
   "metadata": {},
   "outputs": [
    {
     "name": "stdout",
     "output_type": "stream",
     "text": [
      "Nilai AUC :  0.8247836315055761\n"
     ]
    }
   ],
   "source": [
    "model(1000,50)"
   ]
  },
  {
   "cell_type": "markdown",
   "id": "51c56b4c",
   "metadata": {},
   "source": [
    "### Variasi parameter max_features"
   ]
  },
  {
   "cell_type": "code",
   "execution_count": 19,
   "id": "8b5cebe1",
   "metadata": {},
   "outputs": [],
   "source": [
    "# model(100,50) == 0.81806"
   ]
  },
  {
   "cell_type": "code",
   "execution_count": 20,
   "id": "6c0a87b3",
   "metadata": {},
   "outputs": [
    {
     "name": "stdout",
     "output_type": "stream",
     "text": [
      "Nilai AUC :  0.819004124070632\n"
     ]
    }
   ],
   "source": [
    "model(100,100)"
   ]
  },
  {
   "cell_type": "code",
   "execution_count": 21,
   "id": "10ab026b",
   "metadata": {},
   "outputs": [
    {
     "name": "stdout",
     "output_type": "stream",
     "text": [
      "Nilai AUC :  0.817379908224907\n"
     ]
    }
   ],
   "source": [
    "model(100,500)"
   ]
  },
  {
   "cell_type": "code",
   "execution_count": 22,
   "id": "79feb816",
   "metadata": {},
   "outputs": [
    {
     "name": "stdout",
     "output_type": "stream",
     "text": [
      "Nilai AUC :  0.8102099790892193\n"
     ]
    }
   ],
   "source": [
    "model(100,800)"
   ]
  },
  {
   "cell_type": "code",
   "execution_count": 23,
   "id": "744551e8",
   "metadata": {},
   "outputs": [
    {
     "name": "stdout",
     "output_type": "stream",
     "text": [
      "Nilai AUC :  0.8230432446561338\n"
     ]
    }
   ],
   "source": [
    "model(1000,100)"
   ]
  },
  {
   "cell_type": "code",
   "execution_count": null,
   "id": "1da72756",
   "metadata": {},
   "outputs": [],
   "source": [
    " "
   ]
  },
  {
   "cell_type": "code",
   "execution_count": null,
   "id": "33fb8817",
   "metadata": {},
   "outputs": [],
   "source": []
  },
  {
   "cell_type": "code",
   "execution_count": 25,
   "id": "b027127a",
   "metadata": {},
   "outputs": [
    {
     "data": {
      "text/plain": [
       "((11783, 2410), (2946, 2410))"
      ]
     },
     "execution_count": 25,
     "metadata": {},
     "output_type": "execute_result"
    }
   ],
   "source": [
    "#train test set\n",
    "\n",
    "from sklearn.model_selection import train_test_split\n",
    "\n",
    "X = data.drop('wd_subclass', axis=1)\n",
    "y = data['wd_subclass']\n",
    "\n",
    "X_train, X_test, y_train, y_test = train_test_split(X, y, test_size=0.2, random_state=42)\n",
    "\n",
    "X_train.shape, X_test.shape"
   ]
  },
  {
   "cell_type": "code",
   "execution_count": 26,
   "id": "e22b7eb9",
   "metadata": {},
   "outputs": [
    {
     "data": {
      "text/html": [
       "<div>\n",
       "<style scoped>\n",
       "    .dataframe tbody tr th:only-of-type {\n",
       "        vertical-align: middle;\n",
       "    }\n",
       "\n",
       "    .dataframe tbody tr th {\n",
       "        vertical-align: top;\n",
       "    }\n",
       "\n",
       "    .dataframe thead th {\n",
       "        text-align: right;\n",
       "    }\n",
       "</style>\n",
       "<table border=\"1\" class=\"dataframe\">\n",
       "  <thead>\n",
       "    <tr style=\"text-align: right;\">\n",
       "      <th></th>\n",
       "      <th>feature</th>\n",
       "      <th>importance</th>\n",
       "    </tr>\n",
       "  </thead>\n",
       "  <tbody>\n",
       "    <tr>\n",
       "      <th>2320</th>\n",
       "      <td>6564.4766</td>\n",
       "      <td>0.002646</td>\n",
       "    </tr>\n",
       "    <tr>\n",
       "      <th>2321</th>\n",
       "      <td>6565.9883</td>\n",
       "      <td>0.002477</td>\n",
       "    </tr>\n",
       "    <tr>\n",
       "      <th>49</th>\n",
       "      <td>3891.3484</td>\n",
       "      <td>0.002151</td>\n",
       "    </tr>\n",
       "    <tr>\n",
       "      <th>47</th>\n",
       "      <td>3889.5566</td>\n",
       "      <td>0.001756</td>\n",
       "    </tr>\n",
       "    <tr>\n",
       "      <th>46</th>\n",
       "      <td>3888.6611</td>\n",
       "      <td>0.001751</td>\n",
       "    </tr>\n",
       "    <tr>\n",
       "      <th>...</th>\n",
       "      <td>...</td>\n",
       "      <td>...</td>\n",
       "    </tr>\n",
       "    <tr>\n",
       "      <th>1201</th>\n",
       "      <td>5073.4116</td>\n",
       "      <td>0.000194</td>\n",
       "    </tr>\n",
       "    <tr>\n",
       "      <th>1170</th>\n",
       "      <td>5037.3267</td>\n",
       "      <td>0.000194</td>\n",
       "    </tr>\n",
       "    <tr>\n",
       "      <th>1236</th>\n",
       "      <td>5114.464</td>\n",
       "      <td>0.000191</td>\n",
       "    </tr>\n",
       "    <tr>\n",
       "      <th>1180</th>\n",
       "      <td>5048.939</td>\n",
       "      <td>0.000188</td>\n",
       "    </tr>\n",
       "    <tr>\n",
       "      <th>1215</th>\n",
       "      <td>5089.793</td>\n",
       "      <td>0.000184</td>\n",
       "    </tr>\n",
       "  </tbody>\n",
       "</table>\n",
       "<p>2410 rows × 2 columns</p>\n",
       "</div>"
      ],
      "text/plain": [
       "        feature  importance\n",
       "2320  6564.4766    0.002646\n",
       "2321  6565.9883    0.002477\n",
       "49    3891.3484    0.002151\n",
       "47    3889.5566    0.001756\n",
       "46    3888.6611    0.001751\n",
       "...         ...         ...\n",
       "1201  5073.4116    0.000194\n",
       "1170  5037.3267    0.000194\n",
       "1236   5114.464    0.000191\n",
       "1180   5048.939    0.000188\n",
       "1215   5089.793    0.000184\n",
       "\n",
       "[2410 rows x 2 columns]"
      ]
     },
     "execution_count": 26,
     "metadata": {},
     "output_type": "execute_result"
    }
   ],
   "source": [
    "from sklearn.ensemble import RandomForestClassifier\n",
    "\n",
    "rfc = RandomForestClassifier(n_estimators=1000, max_features = 50)\n",
    "rfc.fit(X_train, y_train)\n",
    "\n",
    "arr_feature_importances = rfc.feature_importances_\n",
    "arr_feature_names = X_train.columns.values\n",
    "    \n",
    "df_feature_importance = pd.DataFrame(index=range(len(arr_feature_importances)), columns=['feature', 'importance'])\n",
    "df_feature_importance['feature'] = arr_feature_names\n",
    "df_feature_importance['importance'] = arr_feature_importances\n",
    "df_all_features = df_feature_importance.sort_values(by='importance', ascending=False)\n",
    "#df_all_features.head(30)\n",
    "df_all_features"
   ]
  },
  {
   "cell_type": "code",
   "execution_count": 27,
   "id": "49abcea8",
   "metadata": {},
   "outputs": [],
   "source": [
    "y_pred_proba = rfc.predict_proba(X_test)[:][:,1]\n",
    "\n",
    "df_actual_predicted = pd.concat([pd.DataFrame(np.array(y_test), columns=['y_actual']), pd.DataFrame(y_pred_proba, columns=['y_pred_proba'])], axis=1)\n",
    "df_actual_predicted.index = y_test.index"
   ]
  },
  {
   "cell_type": "code",
   "execution_count": 28,
   "id": "ea534284",
   "metadata": {},
   "outputs": [
    {
     "data": {
      "text/plain": [
       "<matplotlib.legend.Legend at 0x1bf8ef7d7c0>"
      ]
     },
     "execution_count": 28,
     "metadata": {},
     "output_type": "execute_result"
    },
    {
     "data": {
      "image/png": "[encoded data removed]",
      "text/plain": [
       "<Figure size 432x288 with 1 Axes>"
      ]
     },
     "metadata": {
      "needs_background": "light"
     },
     "output_type": "display_data"
    }
   ],
   "source": [
    "from sklearn.metrics import roc_curve, roc_auc_score\n",
    "\n",
    "fpr, tpr, tr = roc_curve(df_actual_predicted['y_actual'], df_actual_predicted['y_pred_proba'])\n",
    "auc = roc_auc_score(df_actual_predicted['y_actual'], df_actual_predicted['y_pred_proba'])\n",
    "\n",
    "plt.plot(fpr, tpr, label='AUC = %0.4f' %auc)\n",
    "plt.plot(fpr, fpr, linestyle = '--', color='k')\n",
    "plt.xlabel('False Positive Rate')\n",
    "plt.ylabel('True Positive Rate')\n",
    "plt.title('ROC Curve')\n",
    "plt.legend()"
   ]
  },
  {
   "cell_type": "code",
   "execution_count": 29,
   "id": "d2d92ea9",
   "metadata": {},
   "outputs": [
    {
     "name": "stdout",
     "output_type": "stream",
     "text": [
      "[0.998 0.997 0.928 ... 0.981 0.551 0.992]\n"
     ]
    },
    {
     "data": {
      "image/png": "[encoded data removed]",
      "text/plain": [
       "<Figure size 432x288 with 2 Axes>"
      ]
     },
     "metadata": {
      "needs_background": "light"
     },
     "output_type": "display_data"
    }
   ],
   "source": [
    "y_pred = []\n",
    "for i in y_pred_proba:\n",
    "    if i > 0.5 :\n",
    "        y_pred.append(1)\n",
    "    elif i <= 0.5 :\n",
    "        y_pred.append(0)\n",
    "print (y_pred_proba)\n",
    "\n",
    "from sklearn.metrics import confusion_matrix, ConfusionMatrixDisplay\n",
    "cm = confusion_matrix(y_test, y_pred, labels=[1,0])\n",
    "disp = ConfusionMatrixDisplay(confusion_matrix=cm, \n",
    "                              display_labels=['DA','DAZ'])\n",
    "disp.plot(cmap='Blues')\n",
    "plt.title('Confusion Matrix')\n",
    "plt.show()"
   ]
  },
  {
   "cell_type": "code",
   "execution_count": 30,
   "id": "343b0dfb",
   "metadata": {},
   "outputs": [
    {
     "data": {
      "text/html": [
       "<div>\n",
       "<style scoped>\n",
       "    .dataframe tbody tr th:only-of-type {\n",
       "        vertical-align: middle;\n",
       "    }\n",
       "\n",
       "    .dataframe tbody tr th {\n",
       "        vertical-align: top;\n",
       "    }\n",
       "\n",
       "    .dataframe thead th {\n",
       "        text-align: right;\n",
       "    }\n",
       "</style>\n",
       "<table border=\"1\" class=\"dataframe\">\n",
       "  <thead>\n",
       "    <tr style=\"text-align: right;\">\n",
       "      <th></th>\n",
       "      <th>3847.6904</th>\n",
       "      <th>3848.5764</th>\n",
       "      <th>3849.4626</th>\n",
       "      <th>3850.349</th>\n",
       "      <th>3851.2358</th>\n",
       "      <th>3852.1228</th>\n",
       "      <th>3853.0098</th>\n",
       "      <th>3853.897</th>\n",
       "      <th>3854.7847</th>\n",
       "      <th>3855.6724</th>\n",
       "      <th>...</th>\n",
       "      <th>6688.059</th>\n",
       "      <th>6689.5996</th>\n",
       "      <th>6691.14</th>\n",
       "      <th>6692.6807</th>\n",
       "      <th>6694.222</th>\n",
       "      <th>6695.7637</th>\n",
       "      <th>6697.3057</th>\n",
       "      <th>6698.8477</th>\n",
       "      <th>6700.3906</th>\n",
       "      <th>wd_subclass</th>\n",
       "    </tr>\n",
       "  </thead>\n",
       "  <tbody>\n",
       "    <tr>\n",
       "      <th>0</th>\n",
       "      <td>1.401641</td>\n",
       "      <td>-15.924921</td>\n",
       "      <td>12.17053</td>\n",
       "      <td>43.935257</td>\n",
       "      <td>13.352866</td>\n",
       "      <td>-0.958922</td>\n",
       "      <td>30.751305</td>\n",
       "      <td>17.331050</td>\n",
       "      <td>11.543040</td>\n",
       "      <td>-10.870653</td>\n",
       "      <td>...</td>\n",
       "      <td>4.525449</td>\n",
       "      <td>5.095497</td>\n",
       "      <td>4.234928</td>\n",
       "      <td>4.794764</td>\n",
       "      <td>5.965820</td>\n",
       "      <td>4.234310</td>\n",
       "      <td>4.073895</td>\n",
       "      <td>6.162295</td>\n",
       "      <td>4.391887</td>\n",
       "      <td>1</td>\n",
       "    </tr>\n",
       "    <tr>\n",
       "      <th>1</th>\n",
       "      <td>0.340451</td>\n",
       "      <td>39.321850</td>\n",
       "      <td>96.95255</td>\n",
       "      <td>59.952780</td>\n",
       "      <td>49.579453</td>\n",
       "      <td>2.106772</td>\n",
       "      <td>30.853228</td>\n",
       "      <td>68.127846</td>\n",
       "      <td>38.738255</td>\n",
       "      <td>30.705740</td>\n",
       "      <td>...</td>\n",
       "      <td>8.622414</td>\n",
       "      <td>10.219061</td>\n",
       "      <td>9.293289</td>\n",
       "      <td>8.402941</td>\n",
       "      <td>7.801483</td>\n",
       "      <td>7.767938</td>\n",
       "      <td>7.887807</td>\n",
       "      <td>9.083275</td>\n",
       "      <td>10.359595</td>\n",
       "      <td>1</td>\n",
       "    </tr>\n",
       "    <tr>\n",
       "      <th>2</th>\n",
       "      <td>90.410576</td>\n",
       "      <td>72.741806</td>\n",
       "      <td>80.37630</td>\n",
       "      <td>81.740350</td>\n",
       "      <td>95.025150</td>\n",
       "      <td>96.718460</td>\n",
       "      <td>59.218792</td>\n",
       "      <td>91.619460</td>\n",
       "      <td>76.982025</td>\n",
       "      <td>79.829170</td>\n",
       "      <td>...</td>\n",
       "      <td>32.816840</td>\n",
       "      <td>32.305386</td>\n",
       "      <td>30.800816</td>\n",
       "      <td>35.627293</td>\n",
       "      <td>34.485073</td>\n",
       "      <td>33.750920</td>\n",
       "      <td>30.536829</td>\n",
       "      <td>30.124290</td>\n",
       "      <td>32.247017</td>\n",
       "      <td>1</td>\n",
       "    </tr>\n",
       "    <tr>\n",
       "      <th>3</th>\n",
       "      <td>82.717730</td>\n",
       "      <td>104.292206</td>\n",
       "      <td>87.98204</td>\n",
       "      <td>97.919210</td>\n",
       "      <td>95.674380</td>\n",
       "      <td>96.730340</td>\n",
       "      <td>121.290480</td>\n",
       "      <td>92.193184</td>\n",
       "      <td>115.548490</td>\n",
       "      <td>109.607440</td>\n",
       "      <td>...</td>\n",
       "      <td>23.460505</td>\n",
       "      <td>22.019167</td>\n",
       "      <td>23.856443</td>\n",
       "      <td>22.434275</td>\n",
       "      <td>23.262499</td>\n",
       "      <td>24.345755</td>\n",
       "      <td>23.040964</td>\n",
       "      <td>21.792454</td>\n",
       "      <td>21.794620</td>\n",
       "      <td>1</td>\n",
       "    </tr>\n",
       "    <tr>\n",
       "      <th>4</th>\n",
       "      <td>-0.785483</td>\n",
       "      <td>2.712233</td>\n",
       "      <td>16.83574</td>\n",
       "      <td>1.124182</td>\n",
       "      <td>4.654962</td>\n",
       "      <td>7.689255</td>\n",
       "      <td>4.296149</td>\n",
       "      <td>7.754487</td>\n",
       "      <td>2.004906</td>\n",
       "      <td>8.411777</td>\n",
       "      <td>...</td>\n",
       "      <td>7.451107</td>\n",
       "      <td>8.597365</td>\n",
       "      <td>6.658686</td>\n",
       "      <td>5.471281</td>\n",
       "      <td>4.953662</td>\n",
       "      <td>4.457098</td>\n",
       "      <td>4.703722</td>\n",
       "      <td>5.737448</td>\n",
       "      <td>4.277687</td>\n",
       "      <td>1</td>\n",
       "    </tr>\n",
       "    <tr>\n",
       "      <th>...</th>\n",
       "      <td>...</td>\n",
       "      <td>...</td>\n",
       "      <td>...</td>\n",
       "      <td>...</td>\n",
       "      <td>...</td>\n",
       "      <td>...</td>\n",
       "      <td>...</td>\n",
       "      <td>...</td>\n",
       "      <td>...</td>\n",
       "      <td>...</td>\n",
       "      <td>...</td>\n",
       "      <td>...</td>\n",
       "      <td>...</td>\n",
       "      <td>...</td>\n",
       "      <td>...</td>\n",
       "      <td>...</td>\n",
       "      <td>...</td>\n",
       "      <td>...</td>\n",
       "      <td>...</td>\n",
       "      <td>...</td>\n",
       "      <td>...</td>\n",
       "    </tr>\n",
       "    <tr>\n",
       "      <th>14724</th>\n",
       "      <td>119.218735</td>\n",
       "      <td>122.291740</td>\n",
       "      <td>143.37620</td>\n",
       "      <td>128.855580</td>\n",
       "      <td>138.123340</td>\n",
       "      <td>158.631320</td>\n",
       "      <td>146.257490</td>\n",
       "      <td>162.929980</td>\n",
       "      <td>132.273040</td>\n",
       "      <td>146.933460</td>\n",
       "      <td>...</td>\n",
       "      <td>70.146580</td>\n",
       "      <td>68.331080</td>\n",
       "      <td>68.249510</td>\n",
       "      <td>68.377240</td>\n",
       "      <td>68.215225</td>\n",
       "      <td>66.501010</td>\n",
       "      <td>72.868650</td>\n",
       "      <td>71.160660</td>\n",
       "      <td>68.891426</td>\n",
       "      <td>0</td>\n",
       "    </tr>\n",
       "    <tr>\n",
       "      <th>14725</th>\n",
       "      <td>344.490400</td>\n",
       "      <td>363.754640</td>\n",
       "      <td>364.44135</td>\n",
       "      <td>386.169220</td>\n",
       "      <td>409.724820</td>\n",
       "      <td>396.924200</td>\n",
       "      <td>413.828740</td>\n",
       "      <td>408.936770</td>\n",
       "      <td>413.745820</td>\n",
       "      <td>439.973800</td>\n",
       "      <td>...</td>\n",
       "      <td>104.147490</td>\n",
       "      <td>104.090340</td>\n",
       "      <td>105.733864</td>\n",
       "      <td>104.910370</td>\n",
       "      <td>104.441530</td>\n",
       "      <td>103.763590</td>\n",
       "      <td>104.047270</td>\n",
       "      <td>106.301230</td>\n",
       "      <td>103.239624</td>\n",
       "      <td>0</td>\n",
       "    </tr>\n",
       "    <tr>\n",
       "      <th>14726</th>\n",
       "      <td>89.677960</td>\n",
       "      <td>106.991066</td>\n",
       "      <td>99.13749</td>\n",
       "      <td>84.553040</td>\n",
       "      <td>98.929405</td>\n",
       "      <td>91.442870</td>\n",
       "      <td>78.809525</td>\n",
       "      <td>120.445990</td>\n",
       "      <td>93.562960</td>\n",
       "      <td>102.938820</td>\n",
       "      <td>...</td>\n",
       "      <td>33.222122</td>\n",
       "      <td>34.986860</td>\n",
       "      <td>35.193813</td>\n",
       "      <td>33.162850</td>\n",
       "      <td>36.758280</td>\n",
       "      <td>33.305927</td>\n",
       "      <td>35.070080</td>\n",
       "      <td>34.179325</td>\n",
       "      <td>33.457424</td>\n",
       "      <td>0</td>\n",
       "    </tr>\n",
       "    <tr>\n",
       "      <th>14727</th>\n",
       "      <td>95.172730</td>\n",
       "      <td>110.889690</td>\n",
       "      <td>102.95127</td>\n",
       "      <td>91.985290</td>\n",
       "      <td>108.232720</td>\n",
       "      <td>109.160030</td>\n",
       "      <td>119.648895</td>\n",
       "      <td>123.737160</td>\n",
       "      <td>123.762250</td>\n",
       "      <td>103.204800</td>\n",
       "      <td>...</td>\n",
       "      <td>43.743217</td>\n",
       "      <td>43.360050</td>\n",
       "      <td>42.514526</td>\n",
       "      <td>42.498783</td>\n",
       "      <td>44.003550</td>\n",
       "      <td>43.714222</td>\n",
       "      <td>43.537315</td>\n",
       "      <td>43.766170</td>\n",
       "      <td>43.294464</td>\n",
       "      <td>0</td>\n",
       "    </tr>\n",
       "    <tr>\n",
       "      <th>14728</th>\n",
       "      <td>167.539600</td>\n",
       "      <td>144.183150</td>\n",
       "      <td>147.07208</td>\n",
       "      <td>145.442430</td>\n",
       "      <td>156.914230</td>\n",
       "      <td>186.050690</td>\n",
       "      <td>156.053450</td>\n",
       "      <td>161.927300</td>\n",
       "      <td>162.630810</td>\n",
       "      <td>180.433760</td>\n",
       "      <td>...</td>\n",
       "      <td>46.942040</td>\n",
       "      <td>46.112476</td>\n",
       "      <td>44.598430</td>\n",
       "      <td>46.446392</td>\n",
       "      <td>47.369510</td>\n",
       "      <td>45.315998</td>\n",
       "      <td>46.542700</td>\n",
       "      <td>46.919926</td>\n",
       "      <td>45.181763</td>\n",
       "      <td>0</td>\n",
       "    </tr>\n",
       "  </tbody>\n",
       "</table>\n",
       "<p>14729 rows × 2411 columns</p>\n",
       "</div>"
      ],
      "text/plain": [
       "        3847.6904   3848.5764  3849.4626    3850.349   3851.2358   3852.1228  \\\n",
       "0        1.401641  -15.924921   12.17053   43.935257   13.352866   -0.958922   \n",
       "1        0.340451   39.321850   96.95255   59.952780   49.579453    2.106772   \n",
       "2       90.410576   72.741806   80.37630   81.740350   95.025150   96.718460   \n",
       "3       82.717730  104.292206   87.98204   97.919210   95.674380   96.730340   \n",
       "4       -0.785483    2.712233   16.83574    1.124182    4.654962    7.689255   \n",
       "...           ...         ...        ...         ...         ...         ...   \n",
       "14724  119.218735  122.291740  143.37620  128.855580  138.123340  158.631320   \n",
       "14725  344.490400  363.754640  364.44135  386.169220  409.724820  396.924200   \n",
       "14726   89.677960  106.991066   99.13749   84.553040   98.929405   91.442870   \n",
       "14727   95.172730  110.889690  102.95127   91.985290  108.232720  109.160030   \n",
       "14728  167.539600  144.183150  147.07208  145.442430  156.914230  186.050690   \n",
       "\n",
       "        3853.0098    3853.897   3854.7847   3855.6724  ...    6688.059  \\\n",
       "0       30.751305   17.331050   11.543040  -10.870653  ...    4.525449   \n",
       "1       30.853228   68.127846   38.738255   30.705740  ...    8.622414   \n",
       "2       59.218792   91.619460   76.982025   79.829170  ...   32.816840   \n",
       "3      121.290480   92.193184  115.548490  109.607440  ...   23.460505   \n",
       "4        4.296149    7.754487    2.004906    8.411777  ...    7.451107   \n",
       "...           ...         ...         ...         ...  ...         ...   \n",
       "14724  146.257490  162.929980  132.273040  146.933460  ...   70.146580   \n",
       "14725  413.828740  408.936770  413.745820  439.973800  ...  104.147490   \n",
       "14726   78.809525  120.445990   93.562960  102.938820  ...   33.222122   \n",
       "14727  119.648895  123.737160  123.762250  103.204800  ...   43.743217   \n",
       "14728  156.053450  161.927300  162.630810  180.433760  ...   46.942040   \n",
       "\n",
       "        6689.5996     6691.14   6692.6807    6694.222   6695.7637   6697.3057  \\\n",
       "0        5.095497    4.234928    4.794764    5.965820    4.234310    4.073895   \n",
       "1       10.219061    9.293289    8.402941    7.801483    7.767938    7.887807   \n",
       "2       32.305386   30.800816   35.627293   34.485073   33.750920   30.536829   \n",
       "3       22.019167   23.856443   22.434275   23.262499   24.345755   23.040964   \n",
       "4        8.597365    6.658686    5.471281    4.953662    4.457098    4.703722   \n",
       "...           ...         ...         ...         ...         ...         ...   \n",
       "14724   68.331080   68.249510   68.377240   68.215225   66.501010   72.868650   \n",
       "14725  104.090340  105.733864  104.910370  104.441530  103.763590  104.047270   \n",
       "14726   34.986860   35.193813   33.162850   36.758280   33.305927   35.070080   \n",
       "14727   43.360050   42.514526   42.498783   44.003550   43.714222   43.537315   \n",
       "14728   46.112476   44.598430   46.446392   47.369510   45.315998   46.542700   \n",
       "\n",
       "        6698.8477   6700.3906  wd_subclass  \n",
       "0        6.162295    4.391887            1  \n",
       "1        9.083275   10.359595            1  \n",
       "2       30.124290   32.247017            1  \n",
       "3       21.792454   21.794620            1  \n",
       "4        5.737448    4.277687            1  \n",
       "...           ...         ...          ...  \n",
       "14724   71.160660   68.891426            0  \n",
       "14725  106.301230  103.239624            0  \n",
       "14726   34.179325   33.457424            0  \n",
       "14727   43.766170   43.294464            0  \n",
       "14728   46.919926   45.181763            0  \n",
       "\n",
       "[14729 rows x 2411 columns]"
      ]
     },
     "execution_count": 30,
     "metadata": {},
     "output_type": "execute_result"
    }
   ],
   "source": [
    "data"
   ]
  },
  {
   "cell_type": "code",
   "execution_count": null,
   "id": "a84b0923",
   "metadata": {},
   "outputs": [],
   "source": []
  }
 ],
 "metadata": {
  "kernelspec": {
   "display_name": "Python 3 (ipykernel)",
   "language": "python",
   "name": "python3"
  },
  "language_info": {
   "codemirror_mode": {
    "name": "ipython",
    "version": 3
   },
   "file_extension": ".py",
   "mimetype": "text/x-python",
   "name": "python",
   "nbconvert_exporter": "python",
   "pygments_lexer": "ipython3",
   "version": "3.9.7"
  }
 },
 "nbformat": 4,
 "nbformat_minor": 5
}
