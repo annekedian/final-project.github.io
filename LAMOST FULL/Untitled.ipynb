{
 "cells": [
  {
   "cell_type": "code",
   "execution_count": 1,
   "id": "87424140",
   "metadata": {},
   "outputs": [],
   "source": [
    "import pandas as pd\n",
    "import matplotlib.pyplot as plt\n",
    "import seaborn as sns\n",
    "import numpy as np"
   ]
  },
  {
   "cell_type": "markdown",
   "id": "2913b37f",
   "metadata": {},
   "source": [
    "# CUTTING WAVELENGTH RANGE 3847 - 6700"
   ]
  },
  {
   "cell_type": "code",
   "execution_count": 2,
   "id": "ac3f8b94",
   "metadata": {},
   "outputs": [],
   "source": [
    "data = pd.read_csv('data olah.csv')\n",
    "data = data.drop('Unnamed: 0', axis = 1)"
   ]
  },
  {
   "cell_type": "code",
   "execution_count": 3,
   "id": "8f431ec6",
   "metadata": {},
   "outputs": [
    {
     "data": {
      "text/html": [
       "<div>\n",
       "<style scoped>\n",
       "    .dataframe tbody tr th:only-of-type {\n",
       "        vertical-align: middle;\n",
       "    }\n",
       "\n",
       "    .dataframe tbody tr th {\n",
       "        vertical-align: top;\n",
       "    }\n",
       "\n",
       "    .dataframe thead th {\n",
       "        text-align: right;\n",
       "    }\n",
       "</style>\n",
       "<table border=\"1\" class=\"dataframe\">\n",
       "  <thead>\n",
       "    <tr style=\"text-align: right;\">\n",
       "      <th></th>\n",
       "      <th>3847.6904</th>\n",
       "      <th>3848.5764</th>\n",
       "      <th>3849.4626</th>\n",
       "      <th>3850.349</th>\n",
       "      <th>3851.2358</th>\n",
       "      <th>3852.1228</th>\n",
       "      <th>3853.0098</th>\n",
       "      <th>3853.897</th>\n",
       "      <th>3854.7847</th>\n",
       "      <th>3855.6724</th>\n",
       "      <th>...</th>\n",
       "      <th>6688.059</th>\n",
       "      <th>6689.5996</th>\n",
       "      <th>6691.14</th>\n",
       "      <th>6692.6807</th>\n",
       "      <th>6694.222</th>\n",
       "      <th>6695.7637</th>\n",
       "      <th>6697.3057</th>\n",
       "      <th>6698.8477</th>\n",
       "      <th>6700.3906</th>\n",
       "      <th>wd_subclass</th>\n",
       "    </tr>\n",
       "  </thead>\n",
       "  <tbody>\n",
       "    <tr>\n",
       "      <th>0</th>\n",
       "      <td>1.401641</td>\n",
       "      <td>-15.924921</td>\n",
       "      <td>12.17053</td>\n",
       "      <td>43.935257</td>\n",
       "      <td>13.352866</td>\n",
       "      <td>-0.958922</td>\n",
       "      <td>30.751305</td>\n",
       "      <td>17.331050</td>\n",
       "      <td>11.543040</td>\n",
       "      <td>-10.870653</td>\n",
       "      <td>...</td>\n",
       "      <td>4.525449</td>\n",
       "      <td>5.095497</td>\n",
       "      <td>4.234928</td>\n",
       "      <td>4.794764</td>\n",
       "      <td>5.965820</td>\n",
       "      <td>4.234310</td>\n",
       "      <td>4.073895</td>\n",
       "      <td>6.162295</td>\n",
       "      <td>4.391887</td>\n",
       "      <td>DA</td>\n",
       "    </tr>\n",
       "    <tr>\n",
       "      <th>1</th>\n",
       "      <td>0.340451</td>\n",
       "      <td>39.321850</td>\n",
       "      <td>96.95255</td>\n",
       "      <td>59.952780</td>\n",
       "      <td>49.579453</td>\n",
       "      <td>2.106772</td>\n",
       "      <td>30.853228</td>\n",
       "      <td>68.127846</td>\n",
       "      <td>38.738255</td>\n",
       "      <td>30.705740</td>\n",
       "      <td>...</td>\n",
       "      <td>8.622414</td>\n",
       "      <td>10.219061</td>\n",
       "      <td>9.293289</td>\n",
       "      <td>8.402941</td>\n",
       "      <td>7.801483</td>\n",
       "      <td>7.767938</td>\n",
       "      <td>7.887807</td>\n",
       "      <td>9.083275</td>\n",
       "      <td>10.359595</td>\n",
       "      <td>DA</td>\n",
       "    </tr>\n",
       "    <tr>\n",
       "      <th>2</th>\n",
       "      <td>90.410576</td>\n",
       "      <td>72.741806</td>\n",
       "      <td>80.37630</td>\n",
       "      <td>81.740350</td>\n",
       "      <td>95.025150</td>\n",
       "      <td>96.718460</td>\n",
       "      <td>59.218792</td>\n",
       "      <td>91.619460</td>\n",
       "      <td>76.982025</td>\n",
       "      <td>79.829170</td>\n",
       "      <td>...</td>\n",
       "      <td>32.816840</td>\n",
       "      <td>32.305386</td>\n",
       "      <td>30.800816</td>\n",
       "      <td>35.627293</td>\n",
       "      <td>34.485073</td>\n",
       "      <td>33.750920</td>\n",
       "      <td>30.536829</td>\n",
       "      <td>30.124290</td>\n",
       "      <td>32.247017</td>\n",
       "      <td>DA</td>\n",
       "    </tr>\n",
       "    <tr>\n",
       "      <th>3</th>\n",
       "      <td>82.717730</td>\n",
       "      <td>104.292206</td>\n",
       "      <td>87.98204</td>\n",
       "      <td>97.919210</td>\n",
       "      <td>95.674380</td>\n",
       "      <td>96.730340</td>\n",
       "      <td>121.290480</td>\n",
       "      <td>92.193184</td>\n",
       "      <td>115.548490</td>\n",
       "      <td>109.607440</td>\n",
       "      <td>...</td>\n",
       "      <td>23.460505</td>\n",
       "      <td>22.019167</td>\n",
       "      <td>23.856443</td>\n",
       "      <td>22.434275</td>\n",
       "      <td>23.262499</td>\n",
       "      <td>24.345755</td>\n",
       "      <td>23.040964</td>\n",
       "      <td>21.792454</td>\n",
       "      <td>21.794620</td>\n",
       "      <td>DA</td>\n",
       "    </tr>\n",
       "    <tr>\n",
       "      <th>4</th>\n",
       "      <td>-0.785483</td>\n",
       "      <td>2.712233</td>\n",
       "      <td>16.83574</td>\n",
       "      <td>1.124182</td>\n",
       "      <td>4.654962</td>\n",
       "      <td>7.689255</td>\n",
       "      <td>4.296149</td>\n",
       "      <td>7.754487</td>\n",
       "      <td>2.004906</td>\n",
       "      <td>8.411777</td>\n",
       "      <td>...</td>\n",
       "      <td>7.451107</td>\n",
       "      <td>8.597365</td>\n",
       "      <td>6.658686</td>\n",
       "      <td>5.471281</td>\n",
       "      <td>4.953662</td>\n",
       "      <td>4.457098</td>\n",
       "      <td>4.703722</td>\n",
       "      <td>5.737448</td>\n",
       "      <td>4.277687</td>\n",
       "      <td>DA</td>\n",
       "    </tr>\n",
       "  </tbody>\n",
       "</table>\n",
       "<p>5 rows × 2411 columns</p>\n",
       "</div>"
      ],
      "text/plain": [
       "   3847.6904   3848.5764  3849.4626   3850.349  3851.2358  3852.1228  \\\n",
       "0   1.401641  -15.924921   12.17053  43.935257  13.352866  -0.958922   \n",
       "1   0.340451   39.321850   96.95255  59.952780  49.579453   2.106772   \n",
       "2  90.410576   72.741806   80.37630  81.740350  95.025150  96.718460   \n",
       "3  82.717730  104.292206   87.98204  97.919210  95.674380  96.730340   \n",
       "4  -0.785483    2.712233   16.83574   1.124182   4.654962   7.689255   \n",
       "\n",
       "    3853.0098   3853.897   3854.7847   3855.6724  ...   6688.059  6689.5996  \\\n",
       "0   30.751305  17.331050   11.543040  -10.870653  ...   4.525449   5.095497   \n",
       "1   30.853228  68.127846   38.738255   30.705740  ...   8.622414  10.219061   \n",
       "2   59.218792  91.619460   76.982025   79.829170  ...  32.816840  32.305386   \n",
       "3  121.290480  92.193184  115.548490  109.607440  ...  23.460505  22.019167   \n",
       "4    4.296149   7.754487    2.004906    8.411777  ...   7.451107   8.597365   \n",
       "\n",
       "     6691.14  6692.6807   6694.222  6695.7637  6697.3057  6698.8477  \\\n",
       "0   4.234928   4.794764   5.965820   4.234310   4.073895   6.162295   \n",
       "1   9.293289   8.402941   7.801483   7.767938   7.887807   9.083275   \n",
       "2  30.800816  35.627293  34.485073  33.750920  30.536829  30.124290   \n",
       "3  23.856443  22.434275  23.262499  24.345755  23.040964  21.792454   \n",
       "4   6.658686   5.471281   4.953662   4.457098   4.703722   5.737448   \n",
       "\n",
       "   6700.3906  wd_subclass  \n",
       "0   4.391887           DA  \n",
       "1  10.359595           DA  \n",
       "2  32.247017           DA  \n",
       "3  21.794620           DA  \n",
       "4   4.277687           DA  \n",
       "\n",
       "[5 rows x 2411 columns]"
      ]
     },
     "execution_count": 3,
     "metadata": {},
     "output_type": "execute_result"
    }
   ],
   "source": [
    "data.drop(data.columns[2410:3579], axis=1, inplace=True)\n",
    "data.head(5)"
   ]
  },
  {
   "cell_type": "code",
   "execution_count": 4,
   "id": "1db9a4a2",
   "metadata": {},
   "outputs": [],
   "source": [
    "dadaz = [\n",
    "    'DA' \n",
    "]\n",
    "\n",
    "data['wd_subclass'] = np.where(data['wd_subclass'].isin(dadaz), 1, 0)"
   ]
  },
  {
   "cell_type": "code",
   "execution_count": 5,
   "id": "293b38d6",
   "metadata": {},
   "outputs": [
    {
     "data": {
      "text/plain": [
       "1    90.148686\n",
       "0     9.851314\n",
       "Name: wd_subclass, dtype: float64"
      ]
     },
     "execution_count": 5,
     "metadata": {},
     "output_type": "execute_result"
    }
   ],
   "source": [
    "data['wd_subclass'].value_counts(normalize=True)*100"
   ]
  },
  {
   "cell_type": "markdown",
   "id": "e74f8fdb",
   "metadata": {},
   "source": [
    "# Model"
   ]
  },
  {
   "cell_type": "code",
   "execution_count": 6,
   "id": "914bf25d",
   "metadata": {},
   "outputs": [
    {
     "data": {
      "text/plain": [
       "((11783, 2410), (2946, 2410))"
      ]
     },
     "execution_count": 6,
     "metadata": {},
     "output_type": "execute_result"
    }
   ],
   "source": [
    "#train test set\n",
    "\n",
    "from sklearn.model_selection import train_test_split\n",
    "\n",
    "X = data.drop('wd_subclass', axis=1)\n",
    "y = data['wd_subclass']\n",
    "\n",
    "X_train, X_test, y_train, y_test = train_test_split(X, y, test_size=0.2, random_state=42)\n",
    "\n",
    "X_train.shape, X_test.shape"
   ]
  },
  {
   "cell_type": "code",
   "execution_count": null,
   "id": "c239fa78",
   "metadata": {},
   "outputs": [],
   "source": [
    "from sklearn.ensemble import RandomForestClassifier\n",
    "\n",
    "rfc = RandomForestClassifier(n_estimators=400, max_features = 100, oob_score = True, class_weight = 'balanced')\n",
    "rfc.fit(X_train, y_train)\n",
    "\n",
    "arr_feature_importances = rfc.feature_importances_\n",
    "arr_feature_names = X_train.columns.values\n",
    "    \n",
    "df_feature_importance = pd.DataFrame(index=range(len(arr_feature_importances)), columns=['feature', 'importance'])\n",
    "df_feature_importance['feature'] = arr_feature_names\n",
    "df_feature_importance['importance'] = arr_feature_importances\n",
    "df_all_features = df_feature_importance.sort_values(by='importance', ascending=False)\n",
    "#df_all_features.head(30)\n",
    "df_all_features"
   ]
  },
  {
   "cell_type": "code",
   "execution_count": 19,
   "id": "a5f5f607",
   "metadata": {},
   "outputs": [],
   "source": [
    "y_pred_proba = rfc.predict_proba(X_test)[:][:,1]\n",
    "\n",
    "df_actual_predicted = pd.concat([pd.DataFrame(np.array(y_test), columns=['y_actual']), pd.DataFrame(y_pred_proba, columns=['y_pred_proba'])], axis=1)\n",
    "df_actual_predicted.index = y_test.index"
   ]
  },
  {
   "cell_type": "code",
   "execution_count": 20,
   "id": "77f39807",
   "metadata": {},
   "outputs": [
    {
     "data": {
      "text/plain": [
       "<matplotlib.legend.Legend at 0x1db4ad7bbb0>"
      ]
     },
     "execution_count": 20,
     "metadata": {},
     "output_type": "execute_result"
    },
    {
     "data": {
      "image/png": "[encoded data removed]",
      "text/plain": [
       "<Figure size 432x288 with 1 Axes>"
      ]
     },
     "metadata": {
      "needs_background": "light"
     },
     "output_type": "display_data"
    }
   ],
   "source": [
    "from sklearn.metrics import roc_curve, roc_auc_score\n",
    "\n",
    "fpr, tpr, tr = roc_curve(df_actual_predicted['y_actual'], df_actual_predicted['y_pred_proba'])\n",
    "auc = roc_auc_score(df_actual_predicted['y_actual'], df_actual_predicted['y_pred_proba'])\n",
    "\n",
    "plt.plot(fpr, tpr, label='AUC = %0.4f' %auc)\n",
    "plt.plot(fpr, fpr, linestyle = '--', color='k')\n",
    "plt.xlabel('False Positive Rate')\n",
    "plt.ylabel('True Positive Rate')\n",
    "plt.title('ROC Curve')\n",
    "plt.legend()"
   ]
  },
  {
   "cell_type": "code",
   "execution_count": 21,
   "id": "f380ecff",
   "metadata": {},
   "outputs": [
    {
     "name": "stdout",
     "output_type": "stream",
     "text": [
      "[0.995      0.99833333 0.89666667 ... 0.97833333 0.66833333 0.98833333]\n"
     ]
    },
    {
     "data": {
      "image/png": "[encoded data removed]",
      "text/plain": [
       "<Figure size 432x288 with 2 Axes>"
      ]
     },
     "metadata": {
      "needs_background": "light"
     },
     "output_type": "display_data"
    }
   ],
   "source": [
    "y_pred = []\n",
    "for i in y_pred_proba:\n",
    "    if i > 0.5 :\n",
    "        y_pred.append(1)\n",
    "    elif i <= 0.5 :\n",
    "        y_pred.append(0)\n",
    "print (y_pred_proba)\n",
    "\n",
    "from sklearn.metrics import confusion_matrix, ConfusionMatrixDisplay\n",
    "cm = confusion_matrix(y_test, y_pred, labels=[1,0])\n",
    "disp = ConfusionMatrixDisplay(confusion_matrix=cm, \n",
    "                              display_labels=['DA','DAZ'])\n",
    "disp.plot(cmap='Blues')\n",
    "plt.title('Confusion Matrix')\n",
    "plt.show()"
   ]
  },
  {
   "cell_type": "code",
   "execution_count": null,
   "id": "2fba2544",
   "metadata": {},
   "outputs": [],
   "source": []
  }
 ],
 "metadata": {
  "kernelspec": {
   "display_name": "Python 3 (ipykernel)",
   "language": "python",
   "name": "python3"
  },
  "language_info": {
   "codemirror_mode": {
    "name": "ipython",
    "version": 3
   },
   "file_extension": ".py",
   "mimetype": "text/x-python",
   "name": "python",
   "nbconvert_exporter": "python",
   "pygments_lexer": "ipython3",
   "version": "3.9.7"
  }
 },
 "nbformat": 4,
 "nbformat_minor": 5
}
