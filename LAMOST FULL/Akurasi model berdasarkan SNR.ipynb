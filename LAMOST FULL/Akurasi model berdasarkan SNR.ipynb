{
 "cells": [
  {
   "cell_type": "code",
   "execution_count": 27,
   "id": "e55be5ce",
   "metadata": {},
   "outputs": [],
   "source": [
    "import pandas as pd\n",
    "import matplotlib.pyplot as plt\n",
    "import seaborn as sns\n",
    "import numpy as np"
   ]
  },
  {
   "cell_type": "markdown",
   "id": "bc0d4538",
   "metadata": {},
   "source": [
    "# Pre-processing Data parameter lamost untuk SNR"
   ]
  },
  {
   "cell_type": "code",
   "execution_count": 5,
   "id": "d78f7d1d",
   "metadata": {},
   "outputs": [
    {
     "data": {
      "text/html": [
       "<div>\n",
       "<style scoped>\n",
       "    .dataframe tbody tr th:only-of-type {\n",
       "        vertical-align: middle;\n",
       "    }\n",
       "\n",
       "    .dataframe tbody tr th {\n",
       "        vertical-align: top;\n",
       "    }\n",
       "\n",
       "    .dataframe thead th {\n",
       "        text-align: right;\n",
       "    }\n",
       "</style>\n",
       "<table border=\"1\" class=\"dataframe\">\n",
       "  <thead>\n",
       "    <tr style=\"text-align: right;\">\n",
       "      <th></th>\n",
       "      <th>obsid</th>\n",
       "      <th>uid</th>\n",
       "      <th>gp_id</th>\n",
       "      <th>designation</th>\n",
       "      <th>obsdate</th>\n",
       "      <th>lmjd</th>\n",
       "      <th>mjd</th>\n",
       "      <th>planid</th>\n",
       "      <th>spid</th>\n",
       "      <th>fiberid</th>\n",
       "      <th>...</th>\n",
       "      <th>tcomment</th>\n",
       "      <th>offsets</th>\n",
       "      <th>offsets_v</th>\n",
       "      <th>ra</th>\n",
       "      <th>dec</th>\n",
       "      <th>wd_subclass</th>\n",
       "      <th>teff</th>\n",
       "      <th>teff_err</th>\n",
       "      <th>logg</th>\n",
       "      <th>logg_err</th>\n",
       "    </tr>\n",
       "  </thead>\n",
       "  <tbody>\n",
       "    <tr>\n",
       "      <th>0</th>\n",
       "      <td>101076</td>\n",
       "      <td>G12763484624375</td>\n",
       "      <td>2676893926929699200</td>\n",
       "      <td>J220838.58-013731.7</td>\n",
       "      <td>2011-10-24</td>\n",
       "      <td>55859</td>\n",
       "      <td>55858</td>\n",
       "      <td>F5902</td>\n",
       "      <td>1</td>\n",
       "      <td>76</td>\n",
       "      <td>...</td>\n",
       "      <td>.</td>\n",
       "      <td>0</td>\n",
       "      <td>0.0</td>\n",
       "      <td>332.160763</td>\n",
       "      <td>-1.625490</td>\n",
       "      <td>DA</td>\n",
       "      <td>-9999.00</td>\n",
       "      <td>-9999.00</td>\n",
       "      <td>-9999.000</td>\n",
       "      <td>-9999.000</td>\n",
       "    </tr>\n",
       "    <tr>\n",
       "      <th>1</th>\n",
       "      <td>101151</td>\n",
       "      <td>G12762587004699</td>\n",
       "      <td>2677056689010163456</td>\n",
       "      <td>J220823.66-011534.2</td>\n",
       "      <td>2011-10-24</td>\n",
       "      <td>55859</td>\n",
       "      <td>55858</td>\n",
       "      <td>F5902</td>\n",
       "      <td>1</td>\n",
       "      <td>151</td>\n",
       "      <td>...</td>\n",
       "      <td>.</td>\n",
       "      <td>0</td>\n",
       "      <td>0.0</td>\n",
       "      <td>332.098588</td>\n",
       "      <td>-1.259508</td>\n",
       "      <td>DA</td>\n",
       "      <td>24000.00</td>\n",
       "      <td>672.02</td>\n",
       "      <td>8.263</td>\n",
       "      <td>0.076</td>\n",
       "    </tr>\n",
       "    <tr>\n",
       "      <th>2</th>\n",
       "      <td>112211</td>\n",
       "      <td>G13351718912434</td>\n",
       "      <td>2679476512239443328</td>\n",
       "      <td>J221640.39+012741.2</td>\n",
       "      <td>2011-10-24</td>\n",
       "      <td>55859</td>\n",
       "      <td>55858</td>\n",
       "      <td>F5902</td>\n",
       "      <td>12</td>\n",
       "      <td>211</td>\n",
       "      <td>...</td>\n",
       "      <td>.</td>\n",
       "      <td>0</td>\n",
       "      <td>0.0</td>\n",
       "      <td>334.168324</td>\n",
       "      <td>1.461445</td>\n",
       "      <td>DA</td>\n",
       "      <td>17122.64</td>\n",
       "      <td>221.39</td>\n",
       "      <td>7.933</td>\n",
       "      <td>0.037</td>\n",
       "    </tr>\n",
       "  </tbody>\n",
       "</table>\n",
       "<p>3 rows × 42 columns</p>\n",
       "</div>"
      ],
      "text/plain": [
       "    obsid              uid                gp_id          designation  \\\n",
       "0  101076  G12763484624375  2676893926929699200  J220838.58-013731.7   \n",
       "1  101151  G12762587004699  2677056689010163456  J220823.66-011534.2   \n",
       "2  112211  G13351718912434  2679476512239443328  J221640.39+012741.2   \n",
       "\n",
       "      obsdate   lmjd    mjd planid  spid  fiberid  ...  tcomment  offsets  \\\n",
       "0  2011-10-24  55859  55858  F5902     1       76  ...         .        0   \n",
       "1  2011-10-24  55859  55858  F5902     1      151  ...         .        0   \n",
       "2  2011-10-24  55859  55858  F5902    12      211  ...         .        0   \n",
       "\n",
       "   offsets_v          ra       dec  wd_subclass      teff teff_err      logg  \\\n",
       "0        0.0  332.160763 -1.625490           DA  -9999.00 -9999.00 -9999.000   \n",
       "1        0.0  332.098588 -1.259508           DA  24000.00   672.02     8.263   \n",
       "2        0.0  334.168324  1.461445           DA  17122.64   221.39     7.933   \n",
       "\n",
       "   logg_err  \n",
       "0 -9999.000  \n",
       "1     0.076  \n",
       "2     0.037  \n",
       "\n",
       "[3 rows x 42 columns]"
      ]
     },
     "execution_count": 5,
     "metadata": {},
     "output_type": "execute_result"
    }
   ],
   "source": [
    "lamostfull = pd.read_csv('lamost_full')\n",
    "lamostfull.head(3)"
   ]
  },
  {
   "cell_type": "code",
   "execution_count": 6,
   "id": "b70c099b",
   "metadata": {},
   "outputs": [],
   "source": [
    "lamostfull = lamostfull[(lamostfull.wd_subclass == 'DA') | (lamostfull.wd_subclass == 'DAZ')]"
   ]
  },
  {
   "cell_type": "code",
   "execution_count": 7,
   "id": "5f709c99",
   "metadata": {},
   "outputs": [],
   "source": [
    "lamostfull['meansnr'] = (lamostfull.snru + lamostfull.snrg + lamostfull.snrr + lamostfull.snri + lamostfull.snrz)/5"
   ]
  },
  {
   "cell_type": "code",
   "execution_count": 8,
   "id": "a851115c",
   "metadata": {},
   "outputs": [
    {
     "name": "stdout",
     "output_type": "stream",
     "text": [
      "jumlah data dengan snr <= 10 : 9660\n",
      "jumlah sub-kelas DA : 8630\n",
      "jumlah sub-kelas DAZ : 1030\n"
     ]
    }
   ],
   "source": [
    "snr10 = lamostfull[(lamostfull.meansnr <= 10) & (lamostfull.meansnr >= 0)]\n",
    "print('jumlah data dengan snr <= 10 : '+str(len(snr10)))\n",
    "print('jumlah sub-kelas DA : ' + str(len(snr10[snr10.wd_subclass == 'DA'])))\n",
    "print('jumlah sub-kelas DAZ : ' + str(len(snr10[snr10.wd_subclass == 'DAZ'])))"
   ]
  },
  {
   "cell_type": "code",
   "execution_count": 9,
   "id": "71d40fcd",
   "metadata": {},
   "outputs": [
    {
     "name": "stdout",
     "output_type": "stream",
     "text": [
      "jumlah data dengan snr <= 50 : 4436\n",
      "jumlah sub-kelas DA : 4053\n",
      "jumlah sub-kelas DAZ : 383\n"
     ]
    }
   ],
   "source": [
    "snr50 = lamostfull[(lamostfull.meansnr <= 50) & (lamostfull.meansnr > 10)]\n",
    "print('jumlah data dengan snr <= 50 : '+str(len(snr50)))\n",
    "print('jumlah sub-kelas DA : ' + str(len(snr50[snr50.wd_subclass == 'DA'])))\n",
    "print('jumlah sub-kelas DAZ : ' + str(len(snr50[snr50.wd_subclass == 'DAZ'])))"
   ]
  },
  {
   "cell_type": "code",
   "execution_count": 10,
   "id": "7f1f6836",
   "metadata": {},
   "outputs": [
    {
     "name": "stdout",
     "output_type": "stream",
     "text": [
      "jumlah data dengan snr <= 100 : 550\n",
      "jumlah sub-kelas DA : 525\n",
      "jumlah sub-kelas DAZ : 25\n"
     ]
    }
   ],
   "source": [
    "snr100 = lamostfull[lamostfull.meansnr > 50]\n",
    "print('jumlah data dengan snr <= 100 : '+str(len(snr100)))\n",
    "print('jumlah sub-kelas DA : ' + str(len(snr100[snr100.wd_subclass == 'DA'])))\n",
    "print('jumlah sub-kelas DAZ : ' + str(len(snr100[snr100.wd_subclass == 'DAZ'])))"
   ]
  },
  {
   "cell_type": "markdown",
   "id": "dfc243d8",
   "metadata": {},
   "source": [
    "## Data spektrum"
   ]
  },
  {
   "cell_type": "code",
   "execution_count": 11,
   "id": "8c6bc525",
   "metadata": {},
   "outputs": [],
   "source": [
    "data = pd.read_csv('data olah.csv')\n",
    "data = data.drop('Unnamed: 0', axis = 1)"
   ]
  },
  {
   "cell_type": "code",
   "execution_count": 12,
   "id": "0dd0553d",
   "metadata": {},
   "outputs": [
    {
     "data": {
      "text/html": [
       "<div>\n",
       "<style scoped>\n",
       "    .dataframe tbody tr th:only-of-type {\n",
       "        vertical-align: middle;\n",
       "    }\n",
       "\n",
       "    .dataframe tbody tr th {\n",
       "        vertical-align: top;\n",
       "    }\n",
       "\n",
       "    .dataframe thead th {\n",
       "        text-align: right;\n",
       "    }\n",
       "</style>\n",
       "<table border=\"1\" class=\"dataframe\">\n",
       "  <thead>\n",
       "    <tr style=\"text-align: right;\">\n",
       "      <th></th>\n",
       "      <th>3847.6904</th>\n",
       "      <th>3848.5764</th>\n",
       "      <th>3849.4626</th>\n",
       "      <th>3850.349</th>\n",
       "      <th>3851.2358</th>\n",
       "      <th>3852.1228</th>\n",
       "      <th>3853.0098</th>\n",
       "      <th>3853.897</th>\n",
       "      <th>3854.7847</th>\n",
       "      <th>3855.6724</th>\n",
       "      <th>...</th>\n",
       "      <th>6688.059</th>\n",
       "      <th>6689.5996</th>\n",
       "      <th>6691.14</th>\n",
       "      <th>6692.6807</th>\n",
       "      <th>6694.222</th>\n",
       "      <th>6695.7637</th>\n",
       "      <th>6697.3057</th>\n",
       "      <th>6698.8477</th>\n",
       "      <th>6700.3906</th>\n",
       "      <th>wd_subclass</th>\n",
       "    </tr>\n",
       "  </thead>\n",
       "  <tbody>\n",
       "    <tr>\n",
       "      <th>0</th>\n",
       "      <td>1.401641</td>\n",
       "      <td>-15.924921</td>\n",
       "      <td>12.17053</td>\n",
       "      <td>43.935257</td>\n",
       "      <td>13.352866</td>\n",
       "      <td>-0.958922</td>\n",
       "      <td>30.751305</td>\n",
       "      <td>17.331050</td>\n",
       "      <td>11.543040</td>\n",
       "      <td>-10.870653</td>\n",
       "      <td>...</td>\n",
       "      <td>4.525449</td>\n",
       "      <td>5.095497</td>\n",
       "      <td>4.234928</td>\n",
       "      <td>4.794764</td>\n",
       "      <td>5.965820</td>\n",
       "      <td>4.234310</td>\n",
       "      <td>4.073895</td>\n",
       "      <td>6.162295</td>\n",
       "      <td>4.391887</td>\n",
       "      <td>DA</td>\n",
       "    </tr>\n",
       "    <tr>\n",
       "      <th>1</th>\n",
       "      <td>0.340451</td>\n",
       "      <td>39.321850</td>\n",
       "      <td>96.95255</td>\n",
       "      <td>59.952780</td>\n",
       "      <td>49.579453</td>\n",
       "      <td>2.106772</td>\n",
       "      <td>30.853228</td>\n",
       "      <td>68.127846</td>\n",
       "      <td>38.738255</td>\n",
       "      <td>30.705740</td>\n",
       "      <td>...</td>\n",
       "      <td>8.622414</td>\n",
       "      <td>10.219061</td>\n",
       "      <td>9.293289</td>\n",
       "      <td>8.402941</td>\n",
       "      <td>7.801483</td>\n",
       "      <td>7.767938</td>\n",
       "      <td>7.887807</td>\n",
       "      <td>9.083275</td>\n",
       "      <td>10.359595</td>\n",
       "      <td>DA</td>\n",
       "    </tr>\n",
       "    <tr>\n",
       "      <th>2</th>\n",
       "      <td>90.410576</td>\n",
       "      <td>72.741806</td>\n",
       "      <td>80.37630</td>\n",
       "      <td>81.740350</td>\n",
       "      <td>95.025150</td>\n",
       "      <td>96.718460</td>\n",
       "      <td>59.218792</td>\n",
       "      <td>91.619460</td>\n",
       "      <td>76.982025</td>\n",
       "      <td>79.829170</td>\n",
       "      <td>...</td>\n",
       "      <td>32.816840</td>\n",
       "      <td>32.305386</td>\n",
       "      <td>30.800816</td>\n",
       "      <td>35.627293</td>\n",
       "      <td>34.485073</td>\n",
       "      <td>33.750920</td>\n",
       "      <td>30.536829</td>\n",
       "      <td>30.124290</td>\n",
       "      <td>32.247017</td>\n",
       "      <td>DA</td>\n",
       "    </tr>\n",
       "    <tr>\n",
       "      <th>3</th>\n",
       "      <td>82.717730</td>\n",
       "      <td>104.292206</td>\n",
       "      <td>87.98204</td>\n",
       "      <td>97.919210</td>\n",
       "      <td>95.674380</td>\n",
       "      <td>96.730340</td>\n",
       "      <td>121.290480</td>\n",
       "      <td>92.193184</td>\n",
       "      <td>115.548490</td>\n",
       "      <td>109.607440</td>\n",
       "      <td>...</td>\n",
       "      <td>23.460505</td>\n",
       "      <td>22.019167</td>\n",
       "      <td>23.856443</td>\n",
       "      <td>22.434275</td>\n",
       "      <td>23.262499</td>\n",
       "      <td>24.345755</td>\n",
       "      <td>23.040964</td>\n",
       "      <td>21.792454</td>\n",
       "      <td>21.794620</td>\n",
       "      <td>DA</td>\n",
       "    </tr>\n",
       "    <tr>\n",
       "      <th>4</th>\n",
       "      <td>-0.785483</td>\n",
       "      <td>2.712233</td>\n",
       "      <td>16.83574</td>\n",
       "      <td>1.124182</td>\n",
       "      <td>4.654962</td>\n",
       "      <td>7.689255</td>\n",
       "      <td>4.296149</td>\n",
       "      <td>7.754487</td>\n",
       "      <td>2.004906</td>\n",
       "      <td>8.411777</td>\n",
       "      <td>...</td>\n",
       "      <td>7.451107</td>\n",
       "      <td>8.597365</td>\n",
       "      <td>6.658686</td>\n",
       "      <td>5.471281</td>\n",
       "      <td>4.953662</td>\n",
       "      <td>4.457098</td>\n",
       "      <td>4.703722</td>\n",
       "      <td>5.737448</td>\n",
       "      <td>4.277687</td>\n",
       "      <td>DA</td>\n",
       "    </tr>\n",
       "  </tbody>\n",
       "</table>\n",
       "<p>5 rows × 2411 columns</p>\n",
       "</div>"
      ],
      "text/plain": [
       "   3847.6904   3848.5764  3849.4626   3850.349  3851.2358  3852.1228  \\\n",
       "0   1.401641  -15.924921   12.17053  43.935257  13.352866  -0.958922   \n",
       "1   0.340451   39.321850   96.95255  59.952780  49.579453   2.106772   \n",
       "2  90.410576   72.741806   80.37630  81.740350  95.025150  96.718460   \n",
       "3  82.717730  104.292206   87.98204  97.919210  95.674380  96.730340   \n",
       "4  -0.785483    2.712233   16.83574   1.124182   4.654962   7.689255   \n",
       "\n",
       "    3853.0098   3853.897   3854.7847   3855.6724  ...   6688.059  6689.5996  \\\n",
       "0   30.751305  17.331050   11.543040  -10.870653  ...   4.525449   5.095497   \n",
       "1   30.853228  68.127846   38.738255   30.705740  ...   8.622414  10.219061   \n",
       "2   59.218792  91.619460   76.982025   79.829170  ...  32.816840  32.305386   \n",
       "3  121.290480  92.193184  115.548490  109.607440  ...  23.460505  22.019167   \n",
       "4    4.296149   7.754487    2.004906    8.411777  ...   7.451107   8.597365   \n",
       "\n",
       "     6691.14  6692.6807   6694.222  6695.7637  6697.3057  6698.8477  \\\n",
       "0   4.234928   4.794764   5.965820   4.234310   4.073895   6.162295   \n",
       "1   9.293289   8.402941   7.801483   7.767938   7.887807   9.083275   \n",
       "2  30.800816  35.627293  34.485073  33.750920  30.536829  30.124290   \n",
       "3  23.856443  22.434275  23.262499  24.345755  23.040964  21.792454   \n",
       "4   6.658686   5.471281   4.953662   4.457098   4.703722   5.737448   \n",
       "\n",
       "   6700.3906  wd_subclass  \n",
       "0   4.391887           DA  \n",
       "1  10.359595           DA  \n",
       "2  32.247017           DA  \n",
       "3  21.794620           DA  \n",
       "4   4.277687           DA  \n",
       "\n",
       "[5 rows x 2411 columns]"
      ]
     },
     "execution_count": 12,
     "metadata": {},
     "output_type": "execute_result"
    }
   ],
   "source": [
    "data.drop(data.columns[2410:3579], axis=1, inplace=True)\n",
    "data.head(5)"
   ]
  },
  {
   "cell_type": "code",
   "execution_count": 13,
   "id": "eaf9933f",
   "metadata": {},
   "outputs": [],
   "source": [
    "dadaz = [\n",
    "    'DA' \n",
    "]\n",
    "\n",
    "data['wd_subclass'] = np.where(data['wd_subclass'].isin(dadaz), 1, 0)"
   ]
  },
  {
   "cell_type": "code",
   "execution_count": 14,
   "id": "b73e6b92",
   "metadata": {},
   "outputs": [
    {
     "data": {
      "text/plain": [
       "1    90.148686\n",
       "0     9.851314\n",
       "Name: wd_subclass, dtype: float64"
      ]
     },
     "execution_count": 14,
     "metadata": {},
     "output_type": "execute_result"
    }
   ],
   "source": [
    "data['wd_subclass'].value_counts(normalize=True)*100"
   ]
  },
  {
   "cell_type": "code",
   "execution_count": 15,
   "id": "9050e6a5",
   "metadata": {},
   "outputs": [],
   "source": [
    "data['obsid'] = lamostfull['obsid']"
   ]
  },
  {
   "cell_type": "markdown",
   "id": "9c044298",
   "metadata": {},
   "source": [
    "# Untuk snr 10-50-100"
   ]
  },
  {
   "cell_type": "code",
   "execution_count": 16,
   "id": "0406f3cb",
   "metadata": {},
   "outputs": [],
   "source": [
    "snr10 = snr10[['wd_subclass','obsid']]"
   ]
  },
  {
   "cell_type": "code",
   "execution_count": 17,
   "id": "e2c93c90",
   "metadata": {},
   "outputs": [],
   "source": [
    "snr10 = pd.merge(snr10, data, on = \"obsid\", how = \"inner\")"
   ]
  },
  {
   "cell_type": "code",
   "execution_count": 18,
   "id": "a818631f",
   "metadata": {},
   "outputs": [
    {
     "name": "stdout",
     "output_type": "stream",
     "text": [
      "jumlah data dengan snr <= 10 : 9133\n",
      "jumlah sub-kelas DA : 8130\n",
      "jumlah sub-kelas DAZ : 1003\n"
     ]
    }
   ],
   "source": [
    "print('jumlah data dengan snr <= 10 : '+str(len(snr10)))\n",
    "print('jumlah sub-kelas DA : ' + str(len(snr10[snr10.wd_subclass_x == 'DA'])))\n",
    "print('jumlah sub-kelas DAZ : ' + str(len(snr10[snr10.wd_subclass_x == 'DAZ'])))"
   ]
  },
  {
   "cell_type": "code",
   "execution_count": 19,
   "id": "fb820d2d",
   "metadata": {},
   "outputs": [
    {
     "data": {
      "text/html": [
       "<div>\n",
       "<style scoped>\n",
       "    .dataframe tbody tr th:only-of-type {\n",
       "        vertical-align: middle;\n",
       "    }\n",
       "\n",
       "    .dataframe tbody tr th {\n",
       "        vertical-align: top;\n",
       "    }\n",
       "\n",
       "    .dataframe thead th {\n",
       "        text-align: right;\n",
       "    }\n",
       "</style>\n",
       "<table border=\"1\" class=\"dataframe\">\n",
       "  <thead>\n",
       "    <tr style=\"text-align: right;\">\n",
       "      <th></th>\n",
       "      <th>wd_subclass_x</th>\n",
       "      <th>obsid</th>\n",
       "      <th>3847.6904</th>\n",
       "      <th>3848.5764</th>\n",
       "      <th>3849.4626</th>\n",
       "      <th>3850.349</th>\n",
       "      <th>3851.2358</th>\n",
       "      <th>3852.1228</th>\n",
       "      <th>3853.0098</th>\n",
       "      <th>3853.897</th>\n",
       "      <th>...</th>\n",
       "      <th>6688.059</th>\n",
       "      <th>6689.5996</th>\n",
       "      <th>6691.14</th>\n",
       "      <th>6692.6807</th>\n",
       "      <th>6694.222</th>\n",
       "      <th>6695.7637</th>\n",
       "      <th>6697.3057</th>\n",
       "      <th>6698.8477</th>\n",
       "      <th>6700.3906</th>\n",
       "      <th>wd_subclass_y</th>\n",
       "    </tr>\n",
       "  </thead>\n",
       "  <tbody>\n",
       "    <tr>\n",
       "      <th>0</th>\n",
       "      <td>DA</td>\n",
       "      <td>101076</td>\n",
       "      <td>1.401641</td>\n",
       "      <td>-15.924921</td>\n",
       "      <td>12.17053</td>\n",
       "      <td>43.935257</td>\n",
       "      <td>13.352866</td>\n",
       "      <td>-0.958922</td>\n",
       "      <td>30.751305</td>\n",
       "      <td>17.331050</td>\n",
       "      <td>...</td>\n",
       "      <td>4.525449</td>\n",
       "      <td>5.095497</td>\n",
       "      <td>4.234928</td>\n",
       "      <td>4.794764</td>\n",
       "      <td>5.965820</td>\n",
       "      <td>4.234310</td>\n",
       "      <td>4.073895</td>\n",
       "      <td>6.162295</td>\n",
       "      <td>4.391887</td>\n",
       "      <td>1</td>\n",
       "    </tr>\n",
       "    <tr>\n",
       "      <th>1</th>\n",
       "      <td>DA</td>\n",
       "      <td>101151</td>\n",
       "      <td>0.340451</td>\n",
       "      <td>39.321850</td>\n",
       "      <td>96.95255</td>\n",
       "      <td>59.952780</td>\n",
       "      <td>49.579453</td>\n",
       "      <td>2.106772</td>\n",
       "      <td>30.853228</td>\n",
       "      <td>68.127846</td>\n",
       "      <td>...</td>\n",
       "      <td>8.622414</td>\n",
       "      <td>10.219061</td>\n",
       "      <td>9.293289</td>\n",
       "      <td>8.402941</td>\n",
       "      <td>7.801483</td>\n",
       "      <td>7.767938</td>\n",
       "      <td>7.887807</td>\n",
       "      <td>9.083275</td>\n",
       "      <td>10.359595</td>\n",
       "      <td>1</td>\n",
       "    </tr>\n",
       "    <tr>\n",
       "      <th>2</th>\n",
       "      <td>DA</td>\n",
       "      <td>112211</td>\n",
       "      <td>90.410576</td>\n",
       "      <td>72.741806</td>\n",
       "      <td>80.37630</td>\n",
       "      <td>81.740350</td>\n",
       "      <td>95.025150</td>\n",
       "      <td>96.718460</td>\n",
       "      <td>59.218792</td>\n",
       "      <td>91.619460</td>\n",
       "      <td>...</td>\n",
       "      <td>32.816840</td>\n",
       "      <td>32.305386</td>\n",
       "      <td>30.800816</td>\n",
       "      <td>35.627293</td>\n",
       "      <td>34.485073</td>\n",
       "      <td>33.750920</td>\n",
       "      <td>30.536829</td>\n",
       "      <td>30.124290</td>\n",
       "      <td>32.247017</td>\n",
       "      <td>1</td>\n",
       "    </tr>\n",
       "  </tbody>\n",
       "</table>\n",
       "<p>3 rows × 2413 columns</p>\n",
       "</div>"
      ],
      "text/plain": [
       "  wd_subclass_x   obsid  3847.6904  3848.5764  3849.4626   3850.349  \\\n",
       "0            DA  101076   1.401641 -15.924921   12.17053  43.935257   \n",
       "1            DA  101151   0.340451  39.321850   96.95255  59.952780   \n",
       "2            DA  112211  90.410576  72.741806   80.37630  81.740350   \n",
       "\n",
       "   3851.2358  3852.1228  3853.0098   3853.897  ...   6688.059  6689.5996  \\\n",
       "0  13.352866  -0.958922  30.751305  17.331050  ...   4.525449   5.095497   \n",
       "1  49.579453   2.106772  30.853228  68.127846  ...   8.622414  10.219061   \n",
       "2  95.025150  96.718460  59.218792  91.619460  ...  32.816840  32.305386   \n",
       "\n",
       "     6691.14  6692.6807   6694.222  6695.7637  6697.3057  6698.8477  \\\n",
       "0   4.234928   4.794764   5.965820   4.234310   4.073895   6.162295   \n",
       "1   9.293289   8.402941   7.801483   7.767938   7.887807   9.083275   \n",
       "2  30.800816  35.627293  34.485073  33.750920  30.536829  30.124290   \n",
       "\n",
       "   6700.3906  wd_subclass_y  \n",
       "0   4.391887              1  \n",
       "1  10.359595              1  \n",
       "2  32.247017              1  \n",
       "\n",
       "[3 rows x 2413 columns]"
      ]
     },
     "execution_count": 19,
     "metadata": {},
     "output_type": "execute_result"
    }
   ],
   "source": [
    "snr10.head(3)"
   ]
  },
  {
   "cell_type": "markdown",
   "id": "d16c3ba0",
   "metadata": {},
   "source": [
    "### Train test split"
   ]
  },
  {
   "cell_type": "code",
   "execution_count": 20,
   "id": "7bb5f65a",
   "metadata": {},
   "outputs": [],
   "source": [
    "from sklearn.model_selection import train_test_split"
   ]
  },
  {
   "cell_type": "code",
   "execution_count": 21,
   "id": "9dadbf65",
   "metadata": {},
   "outputs": [],
   "source": [
    "X = snr10.drop(['wd_subclass_x','obsid','wd_subclass_y'], axis=1)\n",
    "y = snr10['wd_subclass_y']\n",
    "\n",
    "X_train, X_test, y_train, y_test = train_test_split(X, y, test_size=0.2, random_state=42)"
   ]
  },
  {
   "cell_type": "code",
   "execution_count": 22,
   "id": "eec02281",
   "metadata": {},
   "outputs": [
    {
     "data": {
      "text/plain": [
       "((7306, 2410), (1827, 2410))"
      ]
     },
     "execution_count": 22,
     "metadata": {},
     "output_type": "execute_result"
    }
   ],
   "source": [
    "X_train.shape, X_test.shape"
   ]
  },
  {
   "cell_type": "markdown",
   "id": "b8c270ab",
   "metadata": {},
   "source": [
    "### Training"
   ]
  },
  {
   "cell_type": "code",
   "execution_count": 23,
   "id": "07877325",
   "metadata": {},
   "outputs": [],
   "source": [
    "from sklearn.ensemble import RandomForestClassifier"
   ]
  },
  {
   "cell_type": "code",
   "execution_count": 24,
   "id": "860d62bb",
   "metadata": {},
   "outputs": [
    {
     "data": {
      "text/html": [
       "<style>#sk-container-id-1 {color: black;background-color: white;}#sk-container-id-1 pre{padding: 0;}#sk-container-id-1 div.sk-toggleable {background-color: white;}#sk-container-id-1 label.sk-toggleable__label {cursor: pointer;display: block;width: 100%;margin-bottom: 0;padding: 0.3em;box-sizing: border-box;text-align: center;}#sk-container-id-1 label.sk-toggleable__label-arrow:before {content: \"▸\";float: left;margin-right: 0.25em;color: #696969;}#sk-container-id-1 label.sk-toggleable__label-arrow:hover:before {color: black;}#sk-container-id-1 div.sk-estimator:hover label.sk-toggleable__label-arrow:before {color: black;}#sk-container-id-1 div.sk-toggleable__content {max-height: 0;max-width: 0;overflow: hidden;text-align: left;background-color: #f0f8ff;}#sk-container-id-1 div.sk-toggleable__content pre {margin: 0.2em;color: black;border-radius: 0.25em;background-color: #f0f8ff;}#sk-container-id-1 input.sk-toggleable__control:checked~div.sk-toggleable__content {max-height: 200px;max-width: 100%;overflow: auto;}#sk-container-id-1 input.sk-toggleable__control:checked~label.sk-toggleable__label-arrow:before {content: \"▾\";}#sk-container-id-1 div.sk-estimator input.sk-toggleable__control:checked~label.sk-toggleable__label {background-color: #d4ebff;}#sk-container-id-1 div.sk-label input.sk-toggleable__control:checked~label.sk-toggleable__label {background-color: #d4ebff;}#sk-container-id-1 input.sk-hidden--visually {border: 0;clip: rect(1px 1px 1px 1px);clip: rect(1px, 1px, 1px, 1px);height: 1px;margin: -1px;overflow: hidden;padding: 0;position: absolute;width: 1px;}#sk-container-id-1 div.sk-estimator {font-family: monospace;background-color: #f0f8ff;border: 1px dotted black;border-radius: 0.25em;box-sizing: border-box;margin-bottom: 0.5em;}#sk-container-id-1 div.sk-estimator:hover {background-color: #d4ebff;}#sk-container-id-1 div.sk-parallel-item::after {content: \"\";width: 100%;border-bottom: 1px solid gray;flex-grow: 1;}#sk-container-id-1 div.sk-label:hover label.sk-toggleable__label {background-color: #d4ebff;}#sk-container-id-1 div.sk-serial::before {content: \"\";position: absolute;border-left: 1px solid gray;box-sizing: border-box;top: 0;bottom: 0;left: 50%;z-index: 0;}#sk-container-id-1 div.sk-serial {display: flex;flex-direction: column;align-items: center;background-color: white;padding-right: 0.2em;padding-left: 0.2em;position: relative;}#sk-container-id-1 div.sk-item {position: relative;z-index: 1;}#sk-container-id-1 div.sk-parallel {display: flex;align-items: stretch;justify-content: center;background-color: white;position: relative;}#sk-container-id-1 div.sk-item::before, #sk-container-id-1 div.sk-parallel-item::before {content: \"\";position: absolute;border-left: 1px solid gray;box-sizing: border-box;top: 0;bottom: 0;left: 50%;z-index: -1;}#sk-container-id-1 div.sk-parallel-item {display: flex;flex-direction: column;z-index: 1;position: relative;background-color: white;}#sk-container-id-1 div.sk-parallel-item:first-child::after {align-self: flex-end;width: 50%;}#sk-container-id-1 div.sk-parallel-item:last-child::after {align-self: flex-start;width: 50%;}#sk-container-id-1 div.sk-parallel-item:only-child::after {width: 0;}#sk-container-id-1 div.sk-dashed-wrapped {border: 1px dashed gray;margin: 0 0.4em 0.5em 0.4em;box-sizing: border-box;padding-bottom: 0.4em;background-color: white;}#sk-container-id-1 div.sk-label label {font-family: monospace;font-weight: bold;display: inline-block;line-height: 1.2em;}#sk-container-id-1 div.sk-label-container {text-align: center;}#sk-container-id-1 div.sk-container {/* jupyter's `normalize.less` sets `[hidden] { display: none; }` but bootstrap.min.css set `[hidden] { display: none !important; }` so we also need the `!important` here to be able to override the default hidden behavior on the sphinx rendered scikit-learn.org. See: https://github.com/scikit-learn/scikit-learn/issues/21755 */display: inline-block !important;position: relative;}#sk-container-id-1 div.sk-text-repr-fallback {display: none;}</style><div id=\"sk-container-id-1\" class=\"sk-top-container\"><div class=\"sk-text-repr-fallback\"><pre>RandomForestClassifier(max_features=75, n_estimators=300)</pre><b>In a Jupyter environment, please rerun this cell to show the HTML representation or trust the notebook. <br />On GitHub, the HTML representation is unable to render, please try loading this page with nbviewer.org.</b></div><div class=\"sk-container\" hidden><div class=\"sk-item\"><div class=\"sk-estimator sk-toggleable\"><input class=\"sk-toggleable__control sk-hidden--visually\" id=\"sk-estimator-id-1\" type=\"checkbox\" checked><label for=\"sk-estimator-id-1\" class=\"sk-toggleable__label sk-toggleable__label-arrow\">RandomForestClassifier</label><div class=\"sk-toggleable__content\"><pre>RandomForestClassifier(max_features=75, n_estimators=300)</pre></div></div></div></div></div>"
      ],
      "text/plain": [
       "RandomForestClassifier(max_features=75, n_estimators=300)"
      ]
     },
     "execution_count": 24,
     "metadata": {},
     "output_type": "execute_result"
    }
   ],
   "source": [
    "rfc = RandomForestClassifier(n_estimators=300, max_features = 75)\n",
    "rfc.fit(X_train, y_train)"
   ]
  },
  {
   "cell_type": "code",
   "execution_count": 25,
   "id": "370040db",
   "metadata": {},
   "outputs": [
    {
     "data": {
      "text/html": [
       "<div>\n",
       "<style scoped>\n",
       "    .dataframe tbody tr th:only-of-type {\n",
       "        vertical-align: middle;\n",
       "    }\n",
       "\n",
       "    .dataframe tbody tr th {\n",
       "        vertical-align: top;\n",
       "    }\n",
       "\n",
       "    .dataframe thead th {\n",
       "        text-align: right;\n",
       "    }\n",
       "</style>\n",
       "<table border=\"1\" class=\"dataframe\">\n",
       "  <thead>\n",
       "    <tr style=\"text-align: right;\">\n",
       "      <th></th>\n",
       "      <th>feature</th>\n",
       "      <th>importance</th>\n",
       "    </tr>\n",
       "  </thead>\n",
       "  <tbody>\n",
       "    <tr>\n",
       "      <th>2321</th>\n",
       "      <td>6565.9883</td>\n",
       "      <td>0.002773</td>\n",
       "    </tr>\n",
       "    <tr>\n",
       "      <th>2320</th>\n",
       "      <td>6564.4766</td>\n",
       "      <td>0.002770</td>\n",
       "    </tr>\n",
       "    <tr>\n",
       "      <th>45</th>\n",
       "      <td>3887.7659</td>\n",
       "      <td>0.002166</td>\n",
       "    </tr>\n",
       "    <tr>\n",
       "      <th>2319</th>\n",
       "      <td>6562.9653</td>\n",
       "      <td>0.001978</td>\n",
       "    </tr>\n",
       "    <tr>\n",
       "      <th>50</th>\n",
       "      <td>3892.2444</td>\n",
       "      <td>0.001809</td>\n",
       "    </tr>\n",
       "    <tr>\n",
       "      <th>...</th>\n",
       "      <td>...</td>\n",
       "      <td>...</td>\n",
       "    </tr>\n",
       "    <tr>\n",
       "      <th>1130</th>\n",
       "      <td>4991.144</td>\n",
       "      <td>0.000121</td>\n",
       "    </tr>\n",
       "    <tr>\n",
       "      <th>1209</th>\n",
       "      <td>5082.766</td>\n",
       "      <td>0.000120</td>\n",
       "    </tr>\n",
       "    <tr>\n",
       "      <th>1517</th>\n",
       "      <td>5456.3237</td>\n",
       "      <td>0.000113</td>\n",
       "    </tr>\n",
       "    <tr>\n",
       "      <th>1139</th>\n",
       "      <td>5001.498</td>\n",
       "      <td>0.000096</td>\n",
       "    </tr>\n",
       "    <tr>\n",
       "      <th>1319</th>\n",
       "      <td>5213.1484</td>\n",
       "      <td>0.000094</td>\n",
       "    </tr>\n",
       "  </tbody>\n",
       "</table>\n",
       "<p>2410 rows × 2 columns</p>\n",
       "</div>"
      ],
      "text/plain": [
       "        feature  importance\n",
       "2321  6565.9883    0.002773\n",
       "2320  6564.4766    0.002770\n",
       "45    3887.7659    0.002166\n",
       "2319  6562.9653    0.001978\n",
       "50    3892.2444    0.001809\n",
       "...         ...         ...\n",
       "1130   4991.144    0.000121\n",
       "1209   5082.766    0.000120\n",
       "1517  5456.3237    0.000113\n",
       "1139   5001.498    0.000096\n",
       "1319  5213.1484    0.000094\n",
       "\n",
       "[2410 rows x 2 columns]"
      ]
     },
     "execution_count": 25,
     "metadata": {},
     "output_type": "execute_result"
    }
   ],
   "source": [
    "arr_feature_importances = rfc.feature_importances_\n",
    "arr_feature_names = X_train.columns.values\n",
    "    \n",
    "df_feature_importance = pd.DataFrame(index=range(len(arr_feature_importances)), columns=['feature', 'importance'])\n",
    "df_feature_importance['feature'] = arr_feature_names\n",
    "df_feature_importance['importance'] = arr_feature_importances\n",
    "df_all_features = df_feature_importance.sort_values(by='importance', ascending=False)\n",
    "#df_all_features.head(30)\n",
    "df_all_features"
   ]
  },
  {
   "cell_type": "markdown",
   "id": "9fe4cff9",
   "metadata": {},
   "source": [
    "### Validation"
   ]
  },
  {
   "cell_type": "code",
   "execution_count": 26,
   "id": "c128da22",
   "metadata": {},
   "outputs": [],
   "source": [
    "y_pred_proba = rfc.predict_proba(X_test)[:][:,1]\n",
    "\n",
    "df_actual_predicted = pd.concat([pd.DataFrame(np.array(y_test), columns=['y_actual']), pd.DataFrame(y_pred_proba, columns=['y_pred_proba'])], axis=1)\n",
    "df_actual_predicted.index = y_test.index"
   ]
  },
  {
   "cell_type": "markdown",
   "id": "7339a8fd",
   "metadata": {},
   "source": [
    "### AUC"
   ]
  },
  {
   "cell_type": "code",
   "execution_count": 28,
   "id": "89630a84",
   "metadata": {},
   "outputs": [
    {
     "data": {
      "text/plain": [
       "<matplotlib.legend.Legend at 0x29d9944c5b0>"
      ]
     },
     "execution_count": 28,
     "metadata": {},
     "output_type": "execute_result"
    },
    {
     "data": {
      "image/png": "[encoded data removed]",
      "text/plain": [
       "<Figure size 432x288 with 1 Axes>"
      ]
     },
     "metadata": {
      "needs_background": "light"
     },
     "output_type": "display_data"
    }
   ],
   "source": [
    "from sklearn.metrics import roc_curve, roc_auc_score\n",
    "\n",
    "fpr, tpr, tr = roc_curve(df_actual_predicted['y_actual'], df_actual_predicted['y_pred_proba'])\n",
    "auc = roc_auc_score(df_actual_predicted['y_actual'], df_actual_predicted['y_pred_proba'])\n",
    "\n",
    "plt.plot(fpr, tpr, label='AUC = %0.4f' %auc)\n",
    "plt.plot(fpr, fpr, linestyle = '--', color='k')\n",
    "plt.xlabel('False Positive Rate')\n",
    "plt.ylabel('True Positive Rate')\n",
    "plt.title('ROC Curve')\n",
    "plt.legend()"
   ]
  },
  {
   "cell_type": "code",
   "execution_count": 30,
   "id": "9d447d06",
   "metadata": {},
   "outputs": [],
   "source": [
    "#membuat dataframe roc curve\n",
    "roccurve = pd.DataFrame({'fpr' : fpr,\n",
    "                  'tpr' : tpr,\n",
    "                  'threshold' : tr})\n",
    "roccurve[(roccurve.threshold >= 0.61) & (roccurve.threshold <= 0.61)]\n",
    "roccurve.to_csv('roccurve.csv')\n",
    "\n",
    "#membuat dataframe yg y_pred y_act untuk test\n",
    "testsnr10 = pd.DataFrame({'y_actual' : y_test,\n",
    "                         'y_predict_proba' : y_pred_proba})\n",
    "testsnr10.to_csv('testsnr10.csv')\n",
    "\n",
    "#membuat dataframe yg y_pred y_act untuk train\n",
    "y_pred_train = rfc.predict_proba(X_train)[:][:,1]\n",
    "trainsnr10 = pd.DataFrame({'y_actual' : y_train,\n",
    "                          'y_predict_proba' : y_pred_train})\n",
    "trainsnr10.to_csv('trainsnr10.csv')"
   ]
  },
  {
   "cell_type": "code",
   "execution_count": 32,
   "id": "5c35a8ec",
   "metadata": {},
   "outputs": [
    {
     "data": {
      "text/html": [
       "<div>\n",
       "<style scoped>\n",
       "    .dataframe tbody tr th:only-of-type {\n",
       "        vertical-align: middle;\n",
       "    }\n",
       "\n",
       "    .dataframe tbody tr th {\n",
       "        vertical-align: top;\n",
       "    }\n",
       "\n",
       "    .dataframe thead th {\n",
       "        text-align: right;\n",
       "    }\n",
       "</style>\n",
       "<table border=\"1\" class=\"dataframe\">\n",
       "  <thead>\n",
       "    <tr style=\"text-align: right;\">\n",
       "      <th></th>\n",
       "      <th>fpr</th>\n",
       "      <th>tpr</th>\n",
       "      <th>threshold</th>\n",
       "    </tr>\n",
       "  </thead>\n",
       "  <tbody>\n",
       "    <tr>\n",
       "      <th>60</th>\n",
       "      <td>0.418605</td>\n",
       "      <td>0.81571</td>\n",
       "      <td>0.8</td>\n",
       "    </tr>\n",
       "  </tbody>\n",
       "</table>\n",
       "</div>"
      ],
      "text/plain": [
       "         fpr      tpr  threshold\n",
       "60  0.418605  0.81571        0.8"
      ]
     },
     "execution_count": 32,
     "metadata": {},
     "output_type": "execute_result"
    }
   ],
   "source": [
    "roccurve[(roccurve.threshold >= 0.8) & (roccurve.threshold <= 0.8)]"
   ]
  },
  {
   "cell_type": "code",
   "execution_count": 33,
   "id": "176363e1",
   "metadata": {},
   "outputs": [
    {
     "data": {
      "image/png": "[encoded data removed]",
      "text/plain": [
       "<Figure size 432x288 with 1 Axes>"
      ]
     },
     "metadata": {
      "needs_background": "light"
     },
     "output_type": "display_data"
    }
   ],
   "source": [
    "plt.plot(fpr, tpr, label='AUC = %0.4f' %auc)\n",
    "plt.plot(fpr, fpr, linestyle = '--', color='k')\n",
    "plt.scatter(x = 0.418605, y = 0.81571, color = 'r',  label = 'threshold')\n",
    "plt.annotate('0.8', xy=[0.418605, 0.86571],  ha = 'center', color='r', size = 11)\n",
    "plt.xlabel('False Positive Rate')\n",
    "plt.ylabel('True Positive Rate')\n",
    "plt.title('ROC Curve')\n",
    "plt.legend()\n",
    "plt.grid()"
   ]
  },
  {
   "cell_type": "code",
   "execution_count": 34,
   "id": "b7f14a9c",
   "metadata": {},
   "outputs": [
    {
     "name": "stdout",
     "output_type": "stream",
     "text": [
      "[0.87666667 0.90666667 0.97333333 ... 0.99666667 0.93       0.99666667]\n"
     ]
    }
   ],
   "source": [
    "y_pred = []\n",
    "for i in y_pred_proba:\n",
    "    if i >= 0.8 :\n",
    "        y_pred.append(1)\n",
    "    elif i < 0.8 :\n",
    "        y_pred.append(0)\n",
    "print (y_pred_proba)"
   ]
  },
  {
   "cell_type": "code",
   "execution_count": 35,
   "id": "43f1acb6",
   "metadata": {},
   "outputs": [
    {
     "data": {
      "image/png": "[encoded data removed]",
      "text/plain": [
       "<Figure size 432x288 with 2 Axes>"
      ]
     },
     "metadata": {
      "needs_background": "light"
     },
     "output_type": "display_data"
    }
   ],
   "source": [
    "from sklearn.metrics import confusion_matrix, ConfusionMatrixDisplay\n",
    "cm = confusion_matrix(y_test, y_pred, labels=[1,0], normalize = 'true')\n",
    "disp = ConfusionMatrixDisplay(confusion_matrix=cm, \n",
    "                              display_labels=['DA','DAZ'])\n",
    "disp.plot(cmap='Blues')\n",
    "plt.title('Confusion Matrix')\n",
    "plt.show()"
   ]
  },
  {
   "cell_type": "code",
   "execution_count": 36,
   "id": "f98ee221",
   "metadata": {},
   "outputs": [],
   "source": [
    "df_all_features.to_csv('df_all_features_snr10.csv',index=False)"
   ]
  },
  {
   "cell_type": "code",
   "execution_count": 37,
   "id": "e982b9b8",
   "metadata": {},
   "outputs": [],
   "source": [
    "wd_subclass = []\n",
    "for i in testsnr10.y_actual :\n",
    "    if i == 0:\n",
    "        wd_subclass.append('Katai putih DAZ')\n",
    "    elif i == 1 :\n",
    "        wd_subclass.append('Katai putih DA')\n",
    "testsnr10['wd_subclass'] = wd_subclass"
   ]
  },
  {
   "cell_type": "code",
   "execution_count": 41,
   "id": "5d335386",
   "metadata": {},
   "outputs": [
    {
     "data": {
      "image/png": "[encoded data removed]",
      "text/plain": [
       "<Figure size 432x288 with 1 Axes>"
      ]
     },
     "metadata": {
      "needs_background": "light"
     },
     "output_type": "display_data"
    }
   ],
   "source": [
    "#plt.figure(figsize=(14,7))\n",
    "sns.histplot(x=testsnr10.y_predict_proba, kde=True, hue = testsnr10.wd_subclass, palette = 'Set2_r', bins=20)\n",
    "plt.axvline(x = 0.8, color = 'r', label = 'threshold = 0.8')\n",
    "plt.annotate('threshold = 0.8', xy=[0.79, 400],  ha = 'center', rotation = 90, color='r', size = 10)\n",
    "plt.xlabel('Predicted Probability')\n",
    "plt.grid()"
   ]
  },
  {
   "cell_type": "markdown",
   "id": "0b57b18d",
   "metadata": {},
   "source": [
    "# SNR 50"
   ]
  },
  {
   "cell_type": "code",
   "execution_count": 42,
   "id": "e544d96b",
   "metadata": {},
   "outputs": [],
   "source": [
    "snr50 = snr50[['wd_subclass','obsid']]"
   ]
  },
  {
   "cell_type": "code",
   "execution_count": 43,
   "id": "1f58d7cf",
   "metadata": {},
   "outputs": [],
   "source": [
    "snr50 = pd.merge(snr50, data, on = \"obsid\", how = \"inner\")"
   ]
  },
  {
   "cell_type": "code",
   "execution_count": 44,
   "id": "40512e67",
   "metadata": {},
   "outputs": [
    {
     "name": "stdout",
     "output_type": "stream",
     "text": [
      "jumlah data dengan snr <= 50 : 4199\n",
      "jumlah sub-kelas DA : 3845\n",
      "jumlah sub-kelas DAZ : 354\n"
     ]
    }
   ],
   "source": [
    "print('jumlah data dengan snr <= 50 : '+str(len(snr50)))\n",
    "print('jumlah sub-kelas DA : ' + str(len(snr50[snr50.wd_subclass_x == 'DA'])))\n",
    "print('jumlah sub-kelas DAZ : ' + str(len(snr50[snr50.wd_subclass_x == 'DAZ'])))"
   ]
  },
  {
   "cell_type": "markdown",
   "id": "4fb98aea",
   "metadata": {},
   "source": [
    "### Train-test split"
   ]
  },
  {
   "cell_type": "code",
   "execution_count": 69,
   "id": "acf59810",
   "metadata": {},
   "outputs": [],
   "source": [
    "from sklearn.model_selection import train_test_split"
   ]
  },
  {
   "cell_type": "code",
   "execution_count": 70,
   "id": "d25ec47e",
   "metadata": {},
   "outputs": [],
   "source": [
    "X = snr50.drop(['wd_subclass_x','obsid','wd_subclass_y'], axis=1)\n",
    "y = snr50['wd_subclass_y']\n",
    "\n",
    "X_train, X_test, y_train, y_test = train_test_split(X, y, test_size=0.2, random_state=42)"
   ]
  },
  {
   "cell_type": "code",
   "execution_count": 71,
   "id": "737dceb2",
   "metadata": {},
   "outputs": [
    {
     "data": {
      "text/plain": [
       "((3359, 2410), (840, 2410))"
      ]
     },
     "execution_count": 71,
     "metadata": {},
     "output_type": "execute_result"
    }
   ],
   "source": [
    "X_train.shape, X_test.shape"
   ]
  },
  {
   "cell_type": "markdown",
   "id": "57c616a8",
   "metadata": {},
   "source": [
    "### Training"
   ]
  },
  {
   "cell_type": "code",
   "execution_count": 72,
   "id": "f6f95cbc",
   "metadata": {},
   "outputs": [],
   "source": [
    "from sklearn.ensemble import RandomForestClassifier"
   ]
  },
  {
   "cell_type": "code",
   "execution_count": 73,
   "id": "a29ddc05",
   "metadata": {},
   "outputs": [
    {
     "data": {
      "text/html": [
       "<style>#sk-container-id-5 {color: black;background-color: white;}#sk-container-id-5 pre{padding: 0;}#sk-container-id-5 div.sk-toggleable {background-color: white;}#sk-container-id-5 label.sk-toggleable__label {cursor: pointer;display: block;width: 100%;margin-bottom: 0;padding: 0.3em;box-sizing: border-box;text-align: center;}#sk-container-id-5 label.sk-toggleable__label-arrow:before {content: \"▸\";float: left;margin-right: 0.25em;color: #696969;}#sk-container-id-5 label.sk-toggleable__label-arrow:hover:before {color: black;}#sk-container-id-5 div.sk-estimator:hover label.sk-toggleable__label-arrow:before {color: black;}#sk-container-id-5 div.sk-toggleable__content {max-height: 0;max-width: 0;overflow: hidden;text-align: left;background-color: #f0f8ff;}#sk-container-id-5 div.sk-toggleable__content pre {margin: 0.2em;color: black;border-radius: 0.25em;background-color: #f0f8ff;}#sk-container-id-5 input.sk-toggleable__control:checked~div.sk-toggleable__content {max-height: 200px;max-width: 100%;overflow: auto;}#sk-container-id-5 input.sk-toggleable__control:checked~label.sk-toggleable__label-arrow:before {content: \"▾\";}#sk-container-id-5 div.sk-estimator input.sk-toggleable__control:checked~label.sk-toggleable__label {background-color: #d4ebff;}#sk-container-id-5 div.sk-label input.sk-toggleable__control:checked~label.sk-toggleable__label {background-color: #d4ebff;}#sk-container-id-5 input.sk-hidden--visually {border: 0;clip: rect(1px 1px 1px 1px);clip: rect(1px, 1px, 1px, 1px);height: 1px;margin: -1px;overflow: hidden;padding: 0;position: absolute;width: 1px;}#sk-container-id-5 div.sk-estimator {font-family: monospace;background-color: #f0f8ff;border: 1px dotted black;border-radius: 0.25em;box-sizing: border-box;margin-bottom: 0.5em;}#sk-container-id-5 div.sk-estimator:hover {background-color: #d4ebff;}#sk-container-id-5 div.sk-parallel-item::after {content: \"\";width: 100%;border-bottom: 1px solid gray;flex-grow: 1;}#sk-container-id-5 div.sk-label:hover label.sk-toggleable__label {background-color: #d4ebff;}#sk-container-id-5 div.sk-serial::before {content: \"\";position: absolute;border-left: 1px solid gray;box-sizing: border-box;top: 0;bottom: 0;left: 50%;z-index: 0;}#sk-container-id-5 div.sk-serial {display: flex;flex-direction: column;align-items: center;background-color: white;padding-right: 0.2em;padding-left: 0.2em;position: relative;}#sk-container-id-5 div.sk-item {position: relative;z-index: 1;}#sk-container-id-5 div.sk-parallel {display: flex;align-items: stretch;justify-content: center;background-color: white;position: relative;}#sk-container-id-5 div.sk-item::before, #sk-container-id-5 div.sk-parallel-item::before {content: \"\";position: absolute;border-left: 1px solid gray;box-sizing: border-box;top: 0;bottom: 0;left: 50%;z-index: -1;}#sk-container-id-5 div.sk-parallel-item {display: flex;flex-direction: column;z-index: 1;position: relative;background-color: white;}#sk-container-id-5 div.sk-parallel-item:first-child::after {align-self: flex-end;width: 50%;}#sk-container-id-5 div.sk-parallel-item:last-child::after {align-self: flex-start;width: 50%;}#sk-container-id-5 div.sk-parallel-item:only-child::after {width: 0;}#sk-container-id-5 div.sk-dashed-wrapped {border: 1px dashed gray;margin: 0 0.4em 0.5em 0.4em;box-sizing: border-box;padding-bottom: 0.4em;background-color: white;}#sk-container-id-5 div.sk-label label {font-family: monospace;font-weight: bold;display: inline-block;line-height: 1.2em;}#sk-container-id-5 div.sk-label-container {text-align: center;}#sk-container-id-5 div.sk-container {/* jupyter's `normalize.less` sets `[hidden] { display: none; }` but bootstrap.min.css set `[hidden] { display: none !important; }` so we also need the `!important` here to be able to override the default hidden behavior on the sphinx rendered scikit-learn.org. See: https://github.com/scikit-learn/scikit-learn/issues/21755 */display: inline-block !important;position: relative;}#sk-container-id-5 div.sk-text-repr-fallback {display: none;}</style><div id=\"sk-container-id-5\" class=\"sk-top-container\"><div class=\"sk-text-repr-fallback\"><pre>RandomForestClassifier(max_features=75, n_estimators=300)</pre><b>In a Jupyter environment, please rerun this cell to show the HTML representation or trust the notebook. <br />On GitHub, the HTML representation is unable to render, please try loading this page with nbviewer.org.</b></div><div class=\"sk-container\" hidden><div class=\"sk-item\"><div class=\"sk-estimator sk-toggleable\"><input class=\"sk-toggleable__control sk-hidden--visually\" id=\"sk-estimator-id-5\" type=\"checkbox\" checked><label for=\"sk-estimator-id-5\" class=\"sk-toggleable__label sk-toggleable__label-arrow\">RandomForestClassifier</label><div class=\"sk-toggleable__content\"><pre>RandomForestClassifier(max_features=75, n_estimators=300)</pre></div></div></div></div></div>"
      ],
      "text/plain": [
       "RandomForestClassifier(max_features=75, n_estimators=300)"
      ]
     },
     "execution_count": 73,
     "metadata": {},
     "output_type": "execute_result"
    }
   ],
   "source": [
    "rfc = RandomForestClassifier(n_estimators=300, max_features = 75)\n",
    "rfc.fit(X_train, y_train)"
   ]
  },
  {
   "cell_type": "code",
   "execution_count": 74,
   "id": "19656238",
   "metadata": {},
   "outputs": [
    {
     "data": {
      "text/html": [
       "<div>\n",
       "<style scoped>\n",
       "    .dataframe tbody tr th:only-of-type {\n",
       "        vertical-align: middle;\n",
       "    }\n",
       "\n",
       "    .dataframe tbody tr th {\n",
       "        vertical-align: top;\n",
       "    }\n",
       "\n",
       "    .dataframe thead th {\n",
       "        text-align: right;\n",
       "    }\n",
       "</style>\n",
       "<table border=\"1\" class=\"dataframe\">\n",
       "  <thead>\n",
       "    <tr style=\"text-align: right;\">\n",
       "      <th></th>\n",
       "      <th>feature</th>\n",
       "      <th>importance</th>\n",
       "    </tr>\n",
       "  </thead>\n",
       "  <tbody>\n",
       "    <tr>\n",
       "      <th>47</th>\n",
       "      <td>3889.5566</td>\n",
       "      <td>0.005065</td>\n",
       "    </tr>\n",
       "    <tr>\n",
       "      <th>49</th>\n",
       "      <td>3891.3484</td>\n",
       "      <td>0.004631</td>\n",
       "    </tr>\n",
       "    <tr>\n",
       "      <th>50</th>\n",
       "      <td>3892.2444</td>\n",
       "      <td>0.004198</td>\n",
       "    </tr>\n",
       "    <tr>\n",
       "      <th>46</th>\n",
       "      <td>3888.6611</td>\n",
       "      <td>0.002871</td>\n",
       "    </tr>\n",
       "    <tr>\n",
       "      <th>51</th>\n",
       "      <td>3893.1409</td>\n",
       "      <td>0.002771</td>\n",
       "    </tr>\n",
       "    <tr>\n",
       "      <th>...</th>\n",
       "      <td>...</td>\n",
       "      <td>...</td>\n",
       "    </tr>\n",
       "    <tr>\n",
       "      <th>1236</th>\n",
       "      <td>5114.464</td>\n",
       "      <td>0.000059</td>\n",
       "    </tr>\n",
       "    <tr>\n",
       "      <th>1461</th>\n",
       "      <td>5386.419</td>\n",
       "      <td>0.000050</td>\n",
       "    </tr>\n",
       "    <tr>\n",
       "      <th>1136</th>\n",
       "      <td>4998.0444</td>\n",
       "      <td>0.000049</td>\n",
       "    </tr>\n",
       "    <tr>\n",
       "      <th>1360</th>\n",
       "      <td>5262.597</td>\n",
       "      <td>0.000045</td>\n",
       "    </tr>\n",
       "    <tr>\n",
       "      <th>1064</th>\n",
       "      <td>4915.8667</td>\n",
       "      <td>0.000045</td>\n",
       "    </tr>\n",
       "  </tbody>\n",
       "</table>\n",
       "<p>2410 rows × 2 columns</p>\n",
       "</div>"
      ],
      "text/plain": [
       "        feature  importance\n",
       "47    3889.5566    0.005065\n",
       "49    3891.3484    0.004631\n",
       "50    3892.2444    0.004198\n",
       "46    3888.6611    0.002871\n",
       "51    3893.1409    0.002771\n",
       "...         ...         ...\n",
       "1236   5114.464    0.000059\n",
       "1461   5386.419    0.000050\n",
       "1136  4998.0444    0.000049\n",
       "1360   5262.597    0.000045\n",
       "1064  4915.8667    0.000045\n",
       "\n",
       "[2410 rows x 2 columns]"
      ]
     },
     "execution_count": 74,
     "metadata": {},
     "output_type": "execute_result"
    }
   ],
   "source": [
    "arr_feature_importances = rfc.feature_importances_\n",
    "arr_feature_names = X_train.columns.values\n",
    "    \n",
    "df_feature_importance = pd.DataFrame(index=range(len(arr_feature_importances)), columns=['feature', 'importance'])\n",
    "df_feature_importance['feature'] = arr_feature_names\n",
    "df_feature_importance['importance'] = arr_feature_importances\n",
    "df_all_features = df_feature_importance.sort_values(by='importance', ascending=False)\n",
    "#df_all_features.head(30)\n",
    "df_all_features"
   ]
  },
  {
   "cell_type": "markdown",
   "id": "504c5728",
   "metadata": {},
   "source": [
    "### Validation"
   ]
  },
  {
   "cell_type": "code",
   "execution_count": 75,
   "id": "30f4e9ab",
   "metadata": {},
   "outputs": [],
   "source": [
    "y_pred_proba = rfc.predict_proba(X_test)[:][:,1]\n",
    "\n",
    "df_actual_predicted = pd.concat([pd.DataFrame(np.array(y_test), columns=['y_actual']), pd.DataFrame(y_pred_proba, columns=['y_pred_proba'])], axis=1)\n",
    "df_actual_predicted.index = y_test.index"
   ]
  },
  {
   "cell_type": "markdown",
   "id": "3408e14e",
   "metadata": {},
   "source": [
    "### AUC"
   ]
  },
  {
   "cell_type": "code",
   "execution_count": 76,
   "id": "e28eaaf6",
   "metadata": {},
   "outputs": [
    {
     "data": {
      "text/plain": [
       "<matplotlib.legend.Legend at 0x29d836c56a0>"
      ]
     },
     "execution_count": 76,
     "metadata": {},
     "output_type": "execute_result"
    },
    {
     "data": {
      "image/png": "[encoded data removed]",
      "text/plain": [
       "<Figure size 432x288 with 1 Axes>"
      ]
     },
     "metadata": {
      "needs_background": "light"
     },
     "output_type": "display_data"
    }
   ],
   "source": [
    "from sklearn.metrics import roc_curve, roc_auc_score\n",
    "\n",
    "fpr, tpr, tr = roc_curve(df_actual_predicted['y_actual'], df_actual_predicted['y_pred_proba'])\n",
    "auc = roc_auc_score(df_actual_predicted['y_actual'], df_actual_predicted['y_pred_proba'])\n",
    "\n",
    "plt.plot(fpr, tpr, label='AUC = %0.4f' %auc)\n",
    "plt.plot(fpr, fpr, linestyle = '--', color='k')\n",
    "plt.xlabel('False Positive Rate')\n",
    "plt.ylabel('True Positive Rate')\n",
    "plt.title('ROC Curve')\n",
    "plt.legend()"
   ]
  },
  {
   "cell_type": "code",
   "execution_count": 77,
   "id": "61d2659f",
   "metadata": {},
   "outputs": [],
   "source": [
    "#membuat dataframe roc curve\n",
    "roccurve = pd.DataFrame({'fpr' : fpr,\n",
    "                  'tpr' : tpr,\n",
    "                  'threshold' : tr})\n",
    "roccurve[(roccurve.threshold >= 0.61) & (roccurve.threshold <= 0.61)]\n",
    "roccurve.to_csv('roccurvesnr50.csv')\n",
    "\n",
    "#membuat dataframe yg y_pred y_act untuk test\n",
    "testsnr10 = pd.DataFrame({'y_actual' : y_test,\n",
    "                         'y_predict_proba' : y_pred_proba})\n",
    "testsnr10.to_csv('testsnr50.csv')\n",
    "\n",
    "#membuat dataframe yg y_pred y_act untuk train\n",
    "y_pred_train = rfc.predict_proba(X_train)[:][:,1]\n",
    "trainsnr10 = pd.DataFrame({'y_actual' : y_train,\n",
    "                          'y_predict_proba' : y_pred_train})\n",
    "trainsnr10.to_csv('trainsnr50.csv')"
   ]
  },
  {
   "cell_type": "code",
   "execution_count": 84,
   "id": "e950aa34",
   "metadata": {},
   "outputs": [
    {
     "data": {
      "text/html": [
       "<div>\n",
       "<style scoped>\n",
       "    .dataframe tbody tr th:only-of-type {\n",
       "        vertical-align: middle;\n",
       "    }\n",
       "\n",
       "    .dataframe tbody tr th {\n",
       "        vertical-align: top;\n",
       "    }\n",
       "\n",
       "    .dataframe thead th {\n",
       "        text-align: right;\n",
       "    }\n",
       "</style>\n",
       "<table border=\"1\" class=\"dataframe\">\n",
       "  <thead>\n",
       "    <tr style=\"text-align: right;\">\n",
       "      <th></th>\n",
       "      <th>fpr</th>\n",
       "      <th>tpr</th>\n",
       "      <th>threshold</th>\n",
       "    </tr>\n",
       "  </thead>\n",
       "  <tbody>\n",
       "    <tr>\n",
       "      <th>59</th>\n",
       "      <td>0.364583</td>\n",
       "      <td>0.791667</td>\n",
       "      <td>0.800000</td>\n",
       "    </tr>\n",
       "    <tr>\n",
       "      <th>60</th>\n",
       "      <td>0.375000</td>\n",
       "      <td>0.793011</td>\n",
       "      <td>0.796667</td>\n",
       "    </tr>\n",
       "    <tr>\n",
       "      <th>61</th>\n",
       "      <td>0.375000</td>\n",
       "      <td>0.801075</td>\n",
       "      <td>0.790000</td>\n",
       "    </tr>\n",
       "  </tbody>\n",
       "</table>\n",
       "</div>"
      ],
      "text/plain": [
       "         fpr       tpr  threshold\n",
       "59  0.364583  0.791667   0.800000\n",
       "60  0.375000  0.793011   0.796667\n",
       "61  0.375000  0.801075   0.790000"
      ]
     },
     "execution_count": 84,
     "metadata": {},
     "output_type": "execute_result"
    }
   ],
   "source": [
    "roccurve[(roccurve.threshold >= 0.79) & (roccurve.threshold <= 0.8)]"
   ]
  },
  {
   "cell_type": "code",
   "execution_count": 85,
   "id": "66c1bf38",
   "metadata": {},
   "outputs": [
    {
     "data": {
      "image/png": "[encoded data removed]",
      "text/plain": [
       "<Figure size 432x288 with 1 Axes>"
      ]
     },
     "metadata": {
      "needs_background": "light"
     },
     "output_type": "display_data"
    }
   ],
   "source": [
    "plt.plot(fpr, tpr, label='AUC = %0.4f' %auc)\n",
    "plt.plot(fpr, fpr, linestyle = '--', color='k')\n",
    "plt.scatter(x = 0.375000, y = 0.801075, color = 'r',  label = 'threshold')\n",
    "plt.annotate('0.8', xy=[0.375000, 0.851075],  ha = 'center', color='r', size = 11)\n",
    "plt.xlabel('False Positive Rate')\n",
    "plt.ylabel('True Positive Rate')\n",
    "plt.title('ROC Curve')\n",
    "plt.legend()\n",
    "plt.grid()"
   ]
  },
  {
   "cell_type": "code",
   "execution_count": 86,
   "id": "85e9808e",
   "metadata": {},
   "outputs": [],
   "source": [
    "y_pred = []\n",
    "for i in y_pred_proba:\n",
    "    if i >= 0.79 :\n",
    "        y_pred.append(1)\n",
    "    elif i < 0.79 :\n",
    "        y_pred.append(0)"
   ]
  },
  {
   "cell_type": "code",
   "execution_count": 87,
   "id": "c333ad2c",
   "metadata": {},
   "outputs": [
    {
     "data": {
      "image/png": "[encoded data removed]",
      "text/plain": [
       "<Figure size 432x288 with 2 Axes>"
      ]
     },
     "metadata": {
      "needs_background": "light"
     },
     "output_type": "display_data"
    }
   ],
   "source": [
    "from sklearn.metrics import confusion_matrix, ConfusionMatrixDisplay\n",
    "cm = confusion_matrix(y_test, y_pred, labels=[1,0], normalize = 'true')\n",
    "disp = ConfusionMatrixDisplay(confusion_matrix=cm, \n",
    "                              display_labels=['DA','DAZ'])\n",
    "disp.plot(cmap='Blues')\n",
    "plt.title('Confusion Matrix')\n",
    "plt.show()"
   ]
  },
  {
   "cell_type": "code",
   "execution_count": 88,
   "id": "efda18b2",
   "metadata": {},
   "outputs": [],
   "source": [
    "#Save data\n",
    "\n",
    "df_all_features.to_csv('df_all_features_snr50.csv',index=False)\n",
    "prediction = pd.DataFrame(y_pred_proba, columns=['predictions']).to_csv('predictionsnr50.csv',index=False)"
   ]
  },
  {
   "cell_type": "code",
   "execution_count": 89,
   "id": "66052125",
   "metadata": {},
   "outputs": [],
   "source": [
    "wd_subclass = []\n",
    "for i in testsnr10.y_actual :\n",
    "    if i == 0:\n",
    "        wd_subclass.append('Katai putih DAZ')\n",
    "    elif i == 1 :\n",
    "        wd_subclass.append('Katai putih DA')\n",
    "testsnr10['wd_subclass'] = wd_subclass"
   ]
  },
  {
   "cell_type": "code",
   "execution_count": 92,
   "id": "94bacc4a",
   "metadata": {},
   "outputs": [
    {
     "data": {
      "image/png": "[encoded data removed]",
      "text/plain": [
       "<Figure size 432x288 with 1 Axes>"
      ]
     },
     "metadata": {
      "needs_background": "light"
     },
     "output_type": "display_data"
    }
   ],
   "source": [
    "#plt.figure(figsize=(14,7))\n",
    "sns.histplot(x=testsnr10.y_predict_proba, kde=True, hue = testsnr10.wd_subclass, palette = 'Set2_r', bins=20)\n",
    "plt.axvline(x = 0.8, color = 'r', label = 'threshold = 0.8')\n",
    "plt.annotate('threshold = 0.8', xy=[0.79, 180],  ha = 'center', rotation = 90, color='r', size = 10)\n",
    "plt.xlabel('Predicted Probability')\n",
    "plt.grid()"
   ]
  },
  {
   "cell_type": "markdown",
   "id": "dbbc254e",
   "metadata": {},
   "source": [
    "# SNR 100"
   ]
  },
  {
   "cell_type": "code",
   "execution_count": 93,
   "id": "060e9610",
   "metadata": {},
   "outputs": [],
   "source": [
    "snr100 = snr100[['wd_subclass','obsid']]"
   ]
  },
  {
   "cell_type": "code",
   "execution_count": 94,
   "id": "6588b88b",
   "metadata": {},
   "outputs": [],
   "source": [
    "snr100 = pd.merge(snr100, data, on = \"obsid\", how = \"inner\")"
   ]
  },
  {
   "cell_type": "code",
   "execution_count": 95,
   "id": "e8b1bd3a",
   "metadata": {},
   "outputs": [
    {
     "name": "stdout",
     "output_type": "stream",
     "text": [
      "jumlah data dengan snr <= 100 : 531\n",
      "jumlah sub-kelas DA : 507\n",
      "jumlah sub-kelas DAZ : 24\n"
     ]
    }
   ],
   "source": [
    "print('jumlah data dengan snr <= 100 : '+str(len(snr100)))\n",
    "print('jumlah sub-kelas DA : ' + str(len(snr100[snr100.wd_subclass_x == 'DA'])))\n",
    "print('jumlah sub-kelas DAZ : ' + str(len(snr100[snr100.wd_subclass_x == 'DAZ'])))"
   ]
  },
  {
   "cell_type": "markdown",
   "id": "d88e8116",
   "metadata": {},
   "source": [
    "### Train test split"
   ]
  },
  {
   "cell_type": "code",
   "execution_count": 125,
   "id": "a3973f70",
   "metadata": {},
   "outputs": [],
   "source": [
    "from sklearn.model_selection import train_test_split"
   ]
  },
  {
   "cell_type": "code",
   "execution_count": 197,
   "id": "26c37317",
   "metadata": {},
   "outputs": [],
   "source": [
    "X = snr100.drop(['wd_subclass_x','obsid','wd_subclass_y'], axis=1)\n",
    "y = snr100['wd_subclass_y']\n",
    "\n",
    "X_train, X_test, y_train, y_test = train_test_split(X, y, test_size=0.2, random_state=42)"
   ]
  },
  {
   "cell_type": "code",
   "execution_count": 198,
   "id": "6143be32",
   "metadata": {},
   "outputs": [
    {
     "data": {
      "text/plain": [
       "((424, 2410), (107, 2410))"
      ]
     },
     "execution_count": 198,
     "metadata": {},
     "output_type": "execute_result"
    }
   ],
   "source": [
    "X_train.shape, X_test.shape"
   ]
  },
  {
   "cell_type": "markdown",
   "id": "bc6d9638",
   "metadata": {},
   "source": [
    "### Training"
   ]
  },
  {
   "cell_type": "code",
   "execution_count": 199,
   "id": "175d3ddd",
   "metadata": {},
   "outputs": [],
   "source": [
    "from sklearn.ensemble import RandomForestClassifier"
   ]
  },
  {
   "cell_type": "code",
   "execution_count": 200,
   "id": "2e5f4734",
   "metadata": {},
   "outputs": [
    {
     "data": {
      "text/html": [
       "<style>#sk-container-id-16 {color: black;background-color: white;}#sk-container-id-16 pre{padding: 0;}#sk-container-id-16 div.sk-toggleable {background-color: white;}#sk-container-id-16 label.sk-toggleable__label {cursor: pointer;display: block;width: 100%;margin-bottom: 0;padding: 0.3em;box-sizing: border-box;text-align: center;}#sk-container-id-16 label.sk-toggleable__label-arrow:before {content: \"▸\";float: left;margin-right: 0.25em;color: #696969;}#sk-container-id-16 label.sk-toggleable__label-arrow:hover:before {color: black;}#sk-container-id-16 div.sk-estimator:hover label.sk-toggleable__label-arrow:before {color: black;}#sk-container-id-16 div.sk-toggleable__content {max-height: 0;max-width: 0;overflow: hidden;text-align: left;background-color: #f0f8ff;}#sk-container-id-16 div.sk-toggleable__content pre {margin: 0.2em;color: black;border-radius: 0.25em;background-color: #f0f8ff;}#sk-container-id-16 input.sk-toggleable__control:checked~div.sk-toggleable__content {max-height: 200px;max-width: 100%;overflow: auto;}#sk-container-id-16 input.sk-toggleable__control:checked~label.sk-toggleable__label-arrow:before {content: \"▾\";}#sk-container-id-16 div.sk-estimator input.sk-toggleable__control:checked~label.sk-toggleable__label {background-color: #d4ebff;}#sk-container-id-16 div.sk-label input.sk-toggleable__control:checked~label.sk-toggleable__label {background-color: #d4ebff;}#sk-container-id-16 input.sk-hidden--visually {border: 0;clip: rect(1px 1px 1px 1px);clip: rect(1px, 1px, 1px, 1px);height: 1px;margin: -1px;overflow: hidden;padding: 0;position: absolute;width: 1px;}#sk-container-id-16 div.sk-estimator {font-family: monospace;background-color: #f0f8ff;border: 1px dotted black;border-radius: 0.25em;box-sizing: border-box;margin-bottom: 0.5em;}#sk-container-id-16 div.sk-estimator:hover {background-color: #d4ebff;}#sk-container-id-16 div.sk-parallel-item::after {content: \"\";width: 100%;border-bottom: 1px solid gray;flex-grow: 1;}#sk-container-id-16 div.sk-label:hover label.sk-toggleable__label {background-color: #d4ebff;}#sk-container-id-16 div.sk-serial::before {content: \"\";position: absolute;border-left: 1px solid gray;box-sizing: border-box;top: 0;bottom: 0;left: 50%;z-index: 0;}#sk-container-id-16 div.sk-serial {display: flex;flex-direction: column;align-items: center;background-color: white;padding-right: 0.2em;padding-left: 0.2em;position: relative;}#sk-container-id-16 div.sk-item {position: relative;z-index: 1;}#sk-container-id-16 div.sk-parallel {display: flex;align-items: stretch;justify-content: center;background-color: white;position: relative;}#sk-container-id-16 div.sk-item::before, #sk-container-id-16 div.sk-parallel-item::before {content: \"\";position: absolute;border-left: 1px solid gray;box-sizing: border-box;top: 0;bottom: 0;left: 50%;z-index: -1;}#sk-container-id-16 div.sk-parallel-item {display: flex;flex-direction: column;z-index: 1;position: relative;background-color: white;}#sk-container-id-16 div.sk-parallel-item:first-child::after {align-self: flex-end;width: 50%;}#sk-container-id-16 div.sk-parallel-item:last-child::after {align-self: flex-start;width: 50%;}#sk-container-id-16 div.sk-parallel-item:only-child::after {width: 0;}#sk-container-id-16 div.sk-dashed-wrapped {border: 1px dashed gray;margin: 0 0.4em 0.5em 0.4em;box-sizing: border-box;padding-bottom: 0.4em;background-color: white;}#sk-container-id-16 div.sk-label label {font-family: monospace;font-weight: bold;display: inline-block;line-height: 1.2em;}#sk-container-id-16 div.sk-label-container {text-align: center;}#sk-container-id-16 div.sk-container {/* jupyter's `normalize.less` sets `[hidden] { display: none; }` but bootstrap.min.css set `[hidden] { display: none !important; }` so we also need the `!important` here to be able to override the default hidden behavior on the sphinx rendered scikit-learn.org. See: https://github.com/scikit-learn/scikit-learn/issues/21755 */display: inline-block !important;position: relative;}#sk-container-id-16 div.sk-text-repr-fallback {display: none;}</style><div id=\"sk-container-id-16\" class=\"sk-top-container\"><div class=\"sk-text-repr-fallback\"><pre>RandomForestClassifier(max_features=75, n_estimators=300)</pre><b>In a Jupyter environment, please rerun this cell to show the HTML representation or trust the notebook. <br />On GitHub, the HTML representation is unable to render, please try loading this page with nbviewer.org.</b></div><div class=\"sk-container\" hidden><div class=\"sk-item\"><div class=\"sk-estimator sk-toggleable\"><input class=\"sk-toggleable__control sk-hidden--visually\" id=\"sk-estimator-id-16\" type=\"checkbox\" checked><label for=\"sk-estimator-id-16\" class=\"sk-toggleable__label sk-toggleable__label-arrow\">RandomForestClassifier</label><div class=\"sk-toggleable__content\"><pre>RandomForestClassifier(max_features=75, n_estimators=300)</pre></div></div></div></div></div>"
      ],
      "text/plain": [
       "RandomForestClassifier(max_features=75, n_estimators=300)"
      ]
     },
     "execution_count": 200,
     "metadata": {},
     "output_type": "execute_result"
    }
   ],
   "source": [
    "rfc = RandomForestClassifier(n_estimators=300, max_features = 75)\n",
    "rfc.fit(X_train, y_train)"
   ]
  },
  {
   "cell_type": "code",
   "execution_count": 201,
   "id": "5d841f5e",
   "metadata": {},
   "outputs": [
    {
     "data": {
      "text/html": [
       "<div>\n",
       "<style scoped>\n",
       "    .dataframe tbody tr th:only-of-type {\n",
       "        vertical-align: middle;\n",
       "    }\n",
       "\n",
       "    .dataframe tbody tr th {\n",
       "        vertical-align: top;\n",
       "    }\n",
       "\n",
       "    .dataframe thead th {\n",
       "        text-align: right;\n",
       "    }\n",
       "</style>\n",
       "<table border=\"1\" class=\"dataframe\">\n",
       "  <thead>\n",
       "    <tr style=\"text-align: right;\">\n",
       "      <th></th>\n",
       "      <th>feature</th>\n",
       "      <th>importance</th>\n",
       "    </tr>\n",
       "  </thead>\n",
       "  <tbody>\n",
       "    <tr>\n",
       "      <th>152</th>\n",
       "      <td>3984.7412</td>\n",
       "      <td>0.005948</td>\n",
       "    </tr>\n",
       "    <tr>\n",
       "      <th>80</th>\n",
       "      <td>3919.224</td>\n",
       "      <td>0.005173</td>\n",
       "    </tr>\n",
       "    <tr>\n",
       "      <th>4</th>\n",
       "      <td>3851.2358</td>\n",
       "      <td>0.004639</td>\n",
       "    </tr>\n",
       "    <tr>\n",
       "      <th>130</th>\n",
       "      <td>3964.6067</td>\n",
       "      <td>0.004350</td>\n",
       "    </tr>\n",
       "    <tr>\n",
       "      <th>73</th>\n",
       "      <td>3912.9124</td>\n",
       "      <td>0.004214</td>\n",
       "    </tr>\n",
       "    <tr>\n",
       "      <th>...</th>\n",
       "      <td>...</td>\n",
       "      <td>...</td>\n",
       "    </tr>\n",
       "    <tr>\n",
       "      <th>1508</th>\n",
       "      <td>5445.028</td>\n",
       "      <td>0.000000</td>\n",
       "    </tr>\n",
       "    <tr>\n",
       "      <th>1509</th>\n",
       "      <td>5446.2817</td>\n",
       "      <td>0.000000</td>\n",
       "    </tr>\n",
       "    <tr>\n",
       "      <th>1512</th>\n",
       "      <td>5450.0454</td>\n",
       "      <td>0.000000</td>\n",
       "    </tr>\n",
       "    <tr>\n",
       "      <th>754</th>\n",
       "      <td>4577.202</td>\n",
       "      <td>0.000000</td>\n",
       "    </tr>\n",
       "    <tr>\n",
       "      <th>1205</th>\n",
       "      <td>5078.087</td>\n",
       "      <td>0.000000</td>\n",
       "    </tr>\n",
       "  </tbody>\n",
       "</table>\n",
       "<p>2410 rows × 2 columns</p>\n",
       "</div>"
      ],
      "text/plain": [
       "        feature  importance\n",
       "152   3984.7412    0.005948\n",
       "80     3919.224    0.005173\n",
       "4     3851.2358    0.004639\n",
       "130   3964.6067    0.004350\n",
       "73    3912.9124    0.004214\n",
       "...         ...         ...\n",
       "1508   5445.028    0.000000\n",
       "1509  5446.2817    0.000000\n",
       "1512  5450.0454    0.000000\n",
       "754    4577.202    0.000000\n",
       "1205   5078.087    0.000000\n",
       "\n",
       "[2410 rows x 2 columns]"
      ]
     },
     "execution_count": 201,
     "metadata": {},
     "output_type": "execute_result"
    }
   ],
   "source": [
    "arr_feature_importances = rfc.feature_importances_\n",
    "arr_feature_names = X_train.columns.values\n",
    "    \n",
    "df_feature_importance = pd.DataFrame(index=range(len(arr_feature_importances)), columns=['feature', 'importance'])\n",
    "df_feature_importance['feature'] = arr_feature_names\n",
    "df_feature_importance['importance'] = arr_feature_importances\n",
    "df_all_features = df_feature_importance.sort_values(by='importance', ascending=False)\n",
    "#df_all_features.head(30)\n",
    "df_all_features"
   ]
  },
  {
   "cell_type": "markdown",
   "id": "451d5fab",
   "metadata": {},
   "source": [
    "### Validation"
   ]
  },
  {
   "cell_type": "code",
   "execution_count": 202,
   "id": "1ed426a1",
   "metadata": {},
   "outputs": [],
   "source": [
    "y_pred_proba = rfc.predict_proba(X_test)[:][:,1]\n",
    "\n",
    "df_actual_predicted = pd.concat([pd.DataFrame(np.array(y_test), columns=['y_actual']), pd.DataFrame(y_pred_proba, columns=['y_pred_proba'])], axis=1)\n",
    "df_actual_predicted.index = y_test.index"
   ]
  },
  {
   "cell_type": "markdown",
   "id": "2eb54c8b",
   "metadata": {},
   "source": [
    "### AUC"
   ]
  },
  {
   "cell_type": "code",
   "execution_count": 203,
   "id": "d845fde4",
   "metadata": {},
   "outputs": [
    {
     "data": {
      "text/plain": [
       "<matplotlib.legend.Legend at 0x29d83722b80>"
      ]
     },
     "execution_count": 203,
     "metadata": {},
     "output_type": "execute_result"
    },
    {
     "data": {
      "image/png": "[encoded data removed]",
      "text/plain": [
       "<Figure size 432x288 with 1 Axes>"
      ]
     },
     "metadata": {
      "needs_background": "light"
     },
     "output_type": "display_data"
    }
   ],
   "source": [
    "from sklearn.metrics import roc_curve, roc_auc_score\n",
    "\n",
    "fpr, tpr, tr = roc_curve(df_actual_predicted['y_actual'], df_actual_predicted['y_pred_proba'])\n",
    "auc = roc_auc_score(df_actual_predicted['y_actual'], df_actual_predicted['y_pred_proba'])\n",
    "\n",
    "plt.plot(fpr, tpr, label='AUC = %0.4f' %auc)\n",
    "plt.plot(fpr, fpr, linestyle = '--', color='k')\n",
    "plt.xlabel('False Positive Rate')\n",
    "plt.ylabel('True Positive Rate')\n",
    "plt.title('ROC Curve')\n",
    "plt.legend()"
   ]
  },
  {
   "cell_type": "code",
   "execution_count": 204,
   "id": "00a9da6a",
   "metadata": {},
   "outputs": [],
   "source": [
    "#membuat dataframe roc curve\n",
    "roccurve = pd.DataFrame({'fpr' : fpr,\n",
    "                  'tpr' : tpr,\n",
    "                  'threshold' : tr})\n",
    "roccurve[(roccurve.threshold >= 0.61) & (roccurve.threshold <= 0.61)]\n",
    "roccurve.to_csv('roccurvesnr100.csv')\n",
    "\n",
    "#membuat dataframe yg y_pred y_act untuk test\n",
    "testsnr10 = pd.DataFrame({'y_actual' : y_test,\n",
    "                         'y_predict_proba' : y_pred_proba})\n",
    "testsnr10.to_csv('testsnr100.csv')\n",
    "\n",
    "#membuat dataframe yg y_pred y_act untuk train\n",
    "y_pred_train = rfc.predict_proba(X_train)[:][:,1]\n",
    "trainsnr10 = pd.DataFrame({'y_actual' : y_train,\n",
    "                          'y_predict_proba' : y_pred_train})\n",
    "trainsnr10.to_csv('trainsnr100.csv')"
   ]
  },
  {
   "cell_type": "code",
   "execution_count": 205,
   "id": "b1784064",
   "metadata": {},
   "outputs": [
    {
     "data": {
      "text/html": [
       "<div>\n",
       "<style scoped>\n",
       "    .dataframe tbody tr th:only-of-type {\n",
       "        vertical-align: middle;\n",
       "    }\n",
       "\n",
       "    .dataframe tbody tr th {\n",
       "        vertical-align: top;\n",
       "    }\n",
       "\n",
       "    .dataframe thead th {\n",
       "        text-align: right;\n",
       "    }\n",
       "</style>\n",
       "<table border=\"1\" class=\"dataframe\">\n",
       "  <thead>\n",
       "    <tr style=\"text-align: right;\">\n",
       "      <th></th>\n",
       "      <th>fpr</th>\n",
       "      <th>tpr</th>\n",
       "      <th>threshold</th>\n",
       "    </tr>\n",
       "  </thead>\n",
       "  <tbody>\n",
       "    <tr>\n",
       "      <th>21</th>\n",
       "      <td>0.375</td>\n",
       "      <td>0.919192</td>\n",
       "      <td>0.880000</td>\n",
       "    </tr>\n",
       "    <tr>\n",
       "      <th>22</th>\n",
       "      <td>0.375</td>\n",
       "      <td>0.939394</td>\n",
       "      <td>0.863333</td>\n",
       "    </tr>\n",
       "  </tbody>\n",
       "</table>\n",
       "</div>"
      ],
      "text/plain": [
       "      fpr       tpr  threshold\n",
       "21  0.375  0.919192   0.880000\n",
       "22  0.375  0.939394   0.863333"
      ]
     },
     "execution_count": 205,
     "metadata": {},
     "output_type": "execute_result"
    }
   ],
   "source": [
    "roccurve[(roccurve.threshold >= 0.84) & (roccurve.threshold <= 0.88)]"
   ]
  },
  {
   "cell_type": "code",
   "execution_count": 206,
   "id": "3f25a6f8",
   "metadata": {},
   "outputs": [
    {
     "data": {
      "image/png": "[encoded data removed]",
      "text/plain": [
       "<Figure size 432x288 with 1 Axes>"
      ]
     },
     "metadata": {
      "needs_background": "light"
     },
     "output_type": "display_data"
    }
   ],
   "source": [
    "plt.plot(fpr, tpr, label='AUC = %0.4f' %auc)\n",
    "plt.plot(fpr, fpr, linestyle = '--', color='k')\n",
    "plt.scatter(x = 0.375, y = 0.919192, color = 'r',  label = 'threshold')\n",
    "plt.annotate('0.8', xy=[0.375, 0.969192],  ha = 'center', color='r', size = 11)\n",
    "plt.xlabel('False Positive Rate')\n",
    "plt.ylabel('True Positive Rate')\n",
    "plt.title('ROC Curve')\n",
    "plt.legend()\n",
    "plt.grid()"
   ]
  },
  {
   "cell_type": "code",
   "execution_count": null,
   "id": "b4fb33f4",
   "metadata": {},
   "outputs": [],
   "source": []
  },
  {
   "cell_type": "code",
   "execution_count": null,
   "id": "38cd8baf",
   "metadata": {},
   "outputs": [],
   "source": []
  },
  {
   "cell_type": "code",
   "execution_count": 207,
   "id": "a57a89e5",
   "metadata": {},
   "outputs": [],
   "source": [
    "y_pred = []\n",
    "for i in y_pred_proba:\n",
    "    if i >= 0.87 :\n",
    "        y_pred.append(1)\n",
    "    elif i < 0.87 :\n",
    "        y_pred.append(0)"
   ]
  },
  {
   "cell_type": "code",
   "execution_count": 208,
   "id": "f7ac472e",
   "metadata": {},
   "outputs": [
    {
     "data": {
      "image/png": "[encoded data removed]",
      "text/plain": [
       "<Figure size 432x288 with 2 Axes>"
      ]
     },
     "metadata": {
      "needs_background": "light"
     },
     "output_type": "display_data"
    }
   ],
   "source": [
    "from sklearn.metrics import confusion_matrix, ConfusionMatrixDisplay\n",
    "cm = confusion_matrix(y_test, y_pred, labels=[1,0], normalize = 'true')\n",
    "disp = ConfusionMatrixDisplay(confusion_matrix=cm, \n",
    "                              display_labels=['DA','DAZ'])\n",
    "disp.plot(cmap='Blues')\n",
    "plt.title('Confusion Matrix')\n",
    "plt.show()"
   ]
  },
  {
   "cell_type": "code",
   "execution_count": 213,
   "id": "43f54f47",
   "metadata": {},
   "outputs": [],
   "source": [
    "#Save data\n",
    "\n",
    "df_all_features.to_csv('df_all_features_snr100.csv',index=False)\n",
    "prediction = pd.DataFrame(y_pred_proba, columns=['predictions']).to_csv('predictionsnr100.csv',index=False)"
   ]
  },
  {
   "cell_type": "code",
   "execution_count": 210,
   "id": "a66cbbc2",
   "metadata": {},
   "outputs": [],
   "source": [
    "wd_subclass = []\n",
    "for i in testsnr10.y_actual :\n",
    "    if i == 0:\n",
    "        wd_subclass.append('Katai putih DAZ')\n",
    "    elif i == 1 :\n",
    "        wd_subclass.append('Katai putih DA')\n",
    "testsnr10['wd_subclass'] = wd_subclass"
   ]
  },
  {
   "cell_type": "code",
   "execution_count": 1,
   "id": "3886e8ab",
   "metadata": {},
   "outputs": [
    {
     "ename": "NameError",
     "evalue": "name 'sns' is not defined",
     "output_type": "error",
     "traceback": [
      "\u001b[1;31m---------------------------------------------------------------------------\u001b[0m",
      "\u001b[1;31mNameError\u001b[0m                                 Traceback (most recent call last)",
      "\u001b[1;32m~\\AppData\\Local\\Temp/ipykernel_5156/2737164488.py\u001b[0m in \u001b[0;36m<module>\u001b[1;34m\u001b[0m\n\u001b[0;32m      1\u001b[0m \u001b[1;31m#plt.figure(figsize=(14,7))\u001b[0m\u001b[1;33m\u001b[0m\u001b[1;33m\u001b[0m\u001b[0m\n\u001b[1;32m----> 2\u001b[1;33m \u001b[0msns\u001b[0m\u001b[1;33m.\u001b[0m\u001b[0mhistplot\u001b[0m\u001b[1;33m(\u001b[0m\u001b[0mx\u001b[0m\u001b[1;33m=\u001b[0m\u001b[0mtestsnr10\u001b[0m\u001b[1;33m.\u001b[0m\u001b[0my_predict_proba\u001b[0m\u001b[1;33m,\u001b[0m \u001b[0mkde\u001b[0m\u001b[1;33m=\u001b[0m\u001b[1;32mTrue\u001b[0m\u001b[1;33m,\u001b[0m \u001b[0mhue\u001b[0m \u001b[1;33m=\u001b[0m \u001b[0mtestsnr10\u001b[0m\u001b[1;33m.\u001b[0m\u001b[0mwd_subclass\u001b[0m\u001b[1;33m,\u001b[0m \u001b[0mpalette\u001b[0m \u001b[1;33m=\u001b[0m \u001b[1;34m'Set2_r'\u001b[0m\u001b[1;33m,\u001b[0m \u001b[0mbins\u001b[0m\u001b[1;33m=\u001b[0m\u001b[1;36m10\u001b[0m\u001b[1;33m)\u001b[0m\u001b[1;33m\u001b[0m\u001b[1;33m\u001b[0m\u001b[0m\n\u001b[0m\u001b[0;32m      3\u001b[0m \u001b[0mplt\u001b[0m\u001b[1;33m.\u001b[0m\u001b[0maxvline\u001b[0m\u001b[1;33m(\u001b[0m\u001b[0mx\u001b[0m \u001b[1;33m=\u001b[0m \u001b[1;36m0.87\u001b[0m\u001b[1;33m,\u001b[0m \u001b[0mcolor\u001b[0m \u001b[1;33m=\u001b[0m \u001b[1;34m'r'\u001b[0m\u001b[1;33m,\u001b[0m \u001b[0mlabel\u001b[0m \u001b[1;33m=\u001b[0m \u001b[1;34m'threshold = 0.87'\u001b[0m\u001b[1;33m)\u001b[0m\u001b[1;33m\u001b[0m\u001b[1;33m\u001b[0m\u001b[0m\n\u001b[0;32m      4\u001b[0m \u001b[0mplt\u001b[0m\u001b[1;33m.\u001b[0m\u001b[0mannotate\u001b[0m\u001b[1;33m(\u001b[0m\u001b[1;34m'threshold = 0.87'\u001b[0m\u001b[1;33m,\u001b[0m \u001b[0mxy\u001b[0m\u001b[1;33m=\u001b[0m\u001b[1;33m[\u001b[0m\u001b[1;36m0.86\u001b[0m\u001b[1;33m,\u001b[0m \u001b[1;36m25\u001b[0m\u001b[1;33m]\u001b[0m\u001b[1;33m,\u001b[0m  \u001b[0mha\u001b[0m \u001b[1;33m=\u001b[0m \u001b[1;34m'center'\u001b[0m\u001b[1;33m,\u001b[0m \u001b[0mrotation\u001b[0m \u001b[1;33m=\u001b[0m \u001b[1;36m90\u001b[0m\u001b[1;33m,\u001b[0m \u001b[0mcolor\u001b[0m\u001b[1;33m=\u001b[0m\u001b[1;34m'r'\u001b[0m\u001b[1;33m,\u001b[0m \u001b[0msize\u001b[0m \u001b[1;33m=\u001b[0m \u001b[1;36m10\u001b[0m\u001b[1;33m)\u001b[0m\u001b[1;33m\u001b[0m\u001b[1;33m\u001b[0m\u001b[0m\n\u001b[0;32m      5\u001b[0m \u001b[0mplt\u001b[0m\u001b[1;33m.\u001b[0m\u001b[0mxlabel\u001b[0m\u001b[1;33m(\u001b[0m\u001b[1;34m'Predicted Probability'\u001b[0m\u001b[1;33m)\u001b[0m\u001b[1;33m\u001b[0m\u001b[1;33m\u001b[0m\u001b[0m\n",
      "\u001b[1;31mNameError\u001b[0m: name 'sns' is not defined"
     ]
    }
   ],
   "source": [
    "#plt.figure(figsize=(14,7))\n",
    "sns.histplot(x=testsnr10.y_predict_proba, kde=True, hue = testsnr10.wd_subclass, palette = 'Set2_r', bins=10)\n",
    "plt.axvline(x = 0.87, color = 'r', label = 'threshold = 0.87')\n",
    "plt.annotate('threshold = 0.87', xy=[0.86, 25],  ha = 'center', rotation = 90, color='r', size = 10)\n",
    "plt.xlabel('Predicted Probability')\n",
    "plt.grid()"
   ]
  },
  {
   "cell_type": "code",
   "execution_count": null,
   "id": "c06ba93b",
   "metadata": {},
   "outputs": [],
   "source": []
  }
 ],
 "metadata": {
  "kernelspec": {
   "display_name": "Python 3 (ipykernel)",
   "language": "python",
   "name": "python3"
  },
  "language_info": {
   "codemirror_mode": {
    "name": "ipython",
    "version": 3
   },
   "file_extension": ".py",
   "mimetype": "text/x-python",
   "name": "python",
   "nbconvert_exporter": "python",
   "pygments_lexer": "ipython3",
   "version": "3.9.7"
  }
 },
 "nbformat": 4,
 "nbformat_minor": 5
}
