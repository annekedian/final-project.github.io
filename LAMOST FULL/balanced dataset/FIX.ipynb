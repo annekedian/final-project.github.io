{
 "cells": [
  {
   "cell_type": "code",
   "execution_count": 1,
   "id": "3b535600",
   "metadata": {},
   "outputs": [],
   "source": [
    "import pandas as pd\n",
    "import matplotlib.pyplot as plt\n",
    "import seaborn as sns\n",
    "import numpy as np"
   ]
  },
  {
   "cell_type": "code",
   "execution_count": 2,
   "id": "77f282ca",
   "metadata": {},
   "outputs": [],
   "source": [
    "data = pd.read_csv('data olah.csv')\n",
    "data = data.drop('Unnamed: 0', axis = 1)"
   ]
  },
  {
   "cell_type": "code",
   "execution_count": 3,
   "id": "4c8c1e1f",
   "metadata": {},
   "outputs": [
    {
     "data": {
      "text/html": [
       "<div>\n",
       "<style scoped>\n",
       "    .dataframe tbody tr th:only-of-type {\n",
       "        vertical-align: middle;\n",
       "    }\n",
       "\n",
       "    .dataframe tbody tr th {\n",
       "        vertical-align: top;\n",
       "    }\n",
       "\n",
       "    .dataframe thead th {\n",
       "        text-align: right;\n",
       "    }\n",
       "</style>\n",
       "<table border=\"1\" class=\"dataframe\">\n",
       "  <thead>\n",
       "    <tr style=\"text-align: right;\">\n",
       "      <th></th>\n",
       "      <th>3847.6904</th>\n",
       "      <th>3848.5764</th>\n",
       "      <th>3849.4626</th>\n",
       "      <th>3850.349</th>\n",
       "      <th>3851.2358</th>\n",
       "      <th>3852.1228</th>\n",
       "      <th>3853.0098</th>\n",
       "      <th>3853.897</th>\n",
       "      <th>3854.7847</th>\n",
       "      <th>3855.6724</th>\n",
       "      <th>...</th>\n",
       "      <th>6688.059</th>\n",
       "      <th>6689.5996</th>\n",
       "      <th>6691.14</th>\n",
       "      <th>6692.6807</th>\n",
       "      <th>6694.222</th>\n",
       "      <th>6695.7637</th>\n",
       "      <th>6697.3057</th>\n",
       "      <th>6698.8477</th>\n",
       "      <th>6700.3906</th>\n",
       "      <th>wd_subclass</th>\n",
       "    </tr>\n",
       "  </thead>\n",
       "  <tbody>\n",
       "    <tr>\n",
       "      <th>0</th>\n",
       "      <td>24.728888</td>\n",
       "      <td>27.64467</td>\n",
       "      <td>24.893251</td>\n",
       "      <td>27.215405</td>\n",
       "      <td>26.310278</td>\n",
       "      <td>24.307577</td>\n",
       "      <td>29.245514</td>\n",
       "      <td>29.070126</td>\n",
       "      <td>30.490877</td>\n",
       "      <td>35.01845</td>\n",
       "      <td>...</td>\n",
       "      <td>17.665596</td>\n",
       "      <td>17.521635</td>\n",
       "      <td>18.051397</td>\n",
       "      <td>17.52665</td>\n",
       "      <td>17.180534</td>\n",
       "      <td>17.99281</td>\n",
       "      <td>17.179358</td>\n",
       "      <td>17.089285</td>\n",
       "      <td>17.443895</td>\n",
       "      <td>DA</td>\n",
       "    </tr>\n",
       "    <tr>\n",
       "      <th>1</th>\n",
       "      <td>1290.423500</td>\n",
       "      <td>1190.24150</td>\n",
       "      <td>1224.700700</td>\n",
       "      <td>1160.337400</td>\n",
       "      <td>1100.303100</td>\n",
       "      <td>1088.031500</td>\n",
       "      <td>1152.384600</td>\n",
       "      <td>1154.704500</td>\n",
       "      <td>1115.064600</td>\n",
       "      <td>1319.14640</td>\n",
       "      <td>...</td>\n",
       "      <td>150.075820</td>\n",
       "      <td>150.250370</td>\n",
       "      <td>142.590470</td>\n",
       "      <td>143.92473</td>\n",
       "      <td>148.038850</td>\n",
       "      <td>154.53412</td>\n",
       "      <td>153.505140</td>\n",
       "      <td>149.336000</td>\n",
       "      <td>144.941860</td>\n",
       "      <td>DA</td>\n",
       "    </tr>\n",
       "    <tr>\n",
       "      <th>2</th>\n",
       "      <td>9819.987000</td>\n",
       "      <td>9687.30800</td>\n",
       "      <td>9957.726000</td>\n",
       "      <td>9896.959000</td>\n",
       "      <td>10370.940000</td>\n",
       "      <td>10643.110000</td>\n",
       "      <td>10709.778000</td>\n",
       "      <td>11047.445000</td>\n",
       "      <td>11019.559000</td>\n",
       "      <td>10969.06800</td>\n",
       "      <td>...</td>\n",
       "      <td>1462.006700</td>\n",
       "      <td>1473.770300</td>\n",
       "      <td>1483.637200</td>\n",
       "      <td>1470.29220</td>\n",
       "      <td>1457.449600</td>\n",
       "      <td>1450.70750</td>\n",
       "      <td>1469.381200</td>\n",
       "      <td>1475.331200</td>\n",
       "      <td>1460.837900</td>\n",
       "      <td>DA</td>\n",
       "    </tr>\n",
       "    <tr>\n",
       "      <th>3</th>\n",
       "      <td>1093.884500</td>\n",
       "      <td>1043.11580</td>\n",
       "      <td>1102.687500</td>\n",
       "      <td>1149.345100</td>\n",
       "      <td>1114.538500</td>\n",
       "      <td>1140.821400</td>\n",
       "      <td>1153.040000</td>\n",
       "      <td>1195.502800</td>\n",
       "      <td>1167.717200</td>\n",
       "      <td>1147.95520</td>\n",
       "      <td>...</td>\n",
       "      <td>136.972170</td>\n",
       "      <td>140.127240</td>\n",
       "      <td>140.010470</td>\n",
       "      <td>140.37068</td>\n",
       "      <td>137.124980</td>\n",
       "      <td>138.57338</td>\n",
       "      <td>135.967210</td>\n",
       "      <td>135.260400</td>\n",
       "      <td>138.557480</td>\n",
       "      <td>DA</td>\n",
       "    </tr>\n",
       "    <tr>\n",
       "      <th>4</th>\n",
       "      <td>1945.595200</td>\n",
       "      <td>1919.27200</td>\n",
       "      <td>1890.047000</td>\n",
       "      <td>2007.562900</td>\n",
       "      <td>1974.344600</td>\n",
       "      <td>1933.755500</td>\n",
       "      <td>2028.300500</td>\n",
       "      <td>2040.959200</td>\n",
       "      <td>2060.863300</td>\n",
       "      <td>2075.57150</td>\n",
       "      <td>...</td>\n",
       "      <td>211.261810</td>\n",
       "      <td>214.697770</td>\n",
       "      <td>217.529720</td>\n",
       "      <td>214.75264</td>\n",
       "      <td>221.029900</td>\n",
       "      <td>217.97780</td>\n",
       "      <td>217.672780</td>\n",
       "      <td>212.324870</td>\n",
       "      <td>216.794740</td>\n",
       "      <td>DA</td>\n",
       "    </tr>\n",
       "  </tbody>\n",
       "</table>\n",
       "<p>5 rows × 2411 columns</p>\n",
       "</div>"
      ],
      "text/plain": [
       "     3847.6904   3848.5764    3849.4626     3850.349     3851.2358  \\\n",
       "0    24.728888    27.64467    24.893251    27.215405     26.310278   \n",
       "1  1290.423500  1190.24150  1224.700700  1160.337400   1100.303100   \n",
       "2  9819.987000  9687.30800  9957.726000  9896.959000  10370.940000   \n",
       "3  1093.884500  1043.11580  1102.687500  1149.345100   1114.538500   \n",
       "4  1945.595200  1919.27200  1890.047000  2007.562900   1974.344600   \n",
       "\n",
       "      3852.1228     3853.0098      3853.897     3854.7847    3855.6724  ...  \\\n",
       "0     24.307577     29.245514     29.070126     30.490877     35.01845  ...   \n",
       "1   1088.031500   1152.384600   1154.704500   1115.064600   1319.14640  ...   \n",
       "2  10643.110000  10709.778000  11047.445000  11019.559000  10969.06800  ...   \n",
       "3   1140.821400   1153.040000   1195.502800   1167.717200   1147.95520  ...   \n",
       "4   1933.755500   2028.300500   2040.959200   2060.863300   2075.57150  ...   \n",
       "\n",
       "      6688.059    6689.5996      6691.14   6692.6807     6694.222   6695.7637  \\\n",
       "0    17.665596    17.521635    18.051397    17.52665    17.180534    17.99281   \n",
       "1   150.075820   150.250370   142.590470   143.92473   148.038850   154.53412   \n",
       "2  1462.006700  1473.770300  1483.637200  1470.29220  1457.449600  1450.70750   \n",
       "3   136.972170   140.127240   140.010470   140.37068   137.124980   138.57338   \n",
       "4   211.261810   214.697770   217.529720   214.75264   221.029900   217.97780   \n",
       "\n",
       "     6697.3057    6698.8477    6700.3906  wd_subclass  \n",
       "0    17.179358    17.089285    17.443895           DA  \n",
       "1   153.505140   149.336000   144.941860           DA  \n",
       "2  1469.381200  1475.331200  1460.837900           DA  \n",
       "3   135.967210   135.260400   138.557480           DA  \n",
       "4   217.672780   212.324870   216.794740           DA  \n",
       "\n",
       "[5 rows x 2411 columns]"
      ]
     },
     "execution_count": 3,
     "metadata": {},
     "output_type": "execute_result"
    }
   ],
   "source": [
    "data.drop(data.columns[2410:3579], axis=1, inplace=True)\n",
    "data.head(5)"
   ]
  },
  {
   "cell_type": "markdown",
   "id": "ee863bdc",
   "metadata": {},
   "source": [
    "# Buat gambar"
   ]
  },
  {
   "cell_type": "code",
   "execution_count": 4,
   "id": "7a6110eb",
   "metadata": {},
   "outputs": [],
   "source": [
    "gambar = data.copy()"
   ]
  },
  {
   "cell_type": "code",
   "execution_count": 5,
   "id": "60baaa41",
   "metadata": {},
   "outputs": [],
   "source": [
    "gambar1 = data[data.wd_subclass == 'DA'][0:3]"
   ]
  },
  {
   "cell_type": "code",
   "execution_count": 6,
   "id": "0b5b1fe5",
   "metadata": {},
   "outputs": [],
   "source": [
    "gambar2 = data[data.wd_subclass == 'DAZ'][0:3]"
   ]
  },
  {
   "cell_type": "code",
   "execution_count": 7,
   "id": "234085ff",
   "metadata": {},
   "outputs": [
    {
     "data": {
      "text/html": [
       "<div>\n",
       "<style scoped>\n",
       "    .dataframe tbody tr th:only-of-type {\n",
       "        vertical-align: middle;\n",
       "    }\n",
       "\n",
       "    .dataframe tbody tr th {\n",
       "        vertical-align: top;\n",
       "    }\n",
       "\n",
       "    .dataframe thead th {\n",
       "        text-align: right;\n",
       "    }\n",
       "</style>\n",
       "<table border=\"1\" class=\"dataframe\">\n",
       "  <thead>\n",
       "    <tr style=\"text-align: right;\">\n",
       "      <th></th>\n",
       "      <th>3847.6904</th>\n",
       "      <th>3848.5764</th>\n",
       "      <th>3849.4626</th>\n",
       "      <th>3850.349</th>\n",
       "      <th>3851.2358</th>\n",
       "      <th>3852.1228</th>\n",
       "      <th>3853.0098</th>\n",
       "      <th>3853.897</th>\n",
       "      <th>3854.7847</th>\n",
       "      <th>3855.6724</th>\n",
       "      <th>...</th>\n",
       "      <th>6688.059</th>\n",
       "      <th>6689.5996</th>\n",
       "      <th>6691.14</th>\n",
       "      <th>6692.6807</th>\n",
       "      <th>6694.222</th>\n",
       "      <th>6695.7637</th>\n",
       "      <th>6697.3057</th>\n",
       "      <th>6698.8477</th>\n",
       "      <th>6700.3906</th>\n",
       "      <th>wd_subclass</th>\n",
       "    </tr>\n",
       "  </thead>\n",
       "  <tbody>\n",
       "    <tr>\n",
       "      <th>0</th>\n",
       "      <td>24.728888</td>\n",
       "      <td>27.64467</td>\n",
       "      <td>24.893251</td>\n",
       "      <td>27.215405</td>\n",
       "      <td>26.310278</td>\n",
       "      <td>24.307577</td>\n",
       "      <td>29.245514</td>\n",
       "      <td>29.070126</td>\n",
       "      <td>30.490877</td>\n",
       "      <td>35.018450</td>\n",
       "      <td>...</td>\n",
       "      <td>17.665596</td>\n",
       "      <td>17.521635</td>\n",
       "      <td>18.051397</td>\n",
       "      <td>17.526650</td>\n",
       "      <td>17.180534</td>\n",
       "      <td>17.992810</td>\n",
       "      <td>17.179358</td>\n",
       "      <td>17.089285</td>\n",
       "      <td>17.443895</td>\n",
       "      <td>DA</td>\n",
       "    </tr>\n",
       "    <tr>\n",
       "      <th>1</th>\n",
       "      <td>1290.423500</td>\n",
       "      <td>1190.24150</td>\n",
       "      <td>1224.700700</td>\n",
       "      <td>1160.337400</td>\n",
       "      <td>1100.303100</td>\n",
       "      <td>1088.031500</td>\n",
       "      <td>1152.384600</td>\n",
       "      <td>1154.704500</td>\n",
       "      <td>1115.064600</td>\n",
       "      <td>1319.146400</td>\n",
       "      <td>...</td>\n",
       "      <td>150.075820</td>\n",
       "      <td>150.250370</td>\n",
       "      <td>142.590470</td>\n",
       "      <td>143.924730</td>\n",
       "      <td>148.038850</td>\n",
       "      <td>154.534120</td>\n",
       "      <td>153.505140</td>\n",
       "      <td>149.336000</td>\n",
       "      <td>144.941860</td>\n",
       "      <td>DA</td>\n",
       "    </tr>\n",
       "    <tr>\n",
       "      <th>2</th>\n",
       "      <td>9819.987000</td>\n",
       "      <td>9687.30800</td>\n",
       "      <td>9957.726000</td>\n",
       "      <td>9896.959000</td>\n",
       "      <td>10370.940000</td>\n",
       "      <td>10643.110000</td>\n",
       "      <td>10709.778000</td>\n",
       "      <td>11047.445000</td>\n",
       "      <td>11019.559000</td>\n",
       "      <td>10969.068000</td>\n",
       "      <td>...</td>\n",
       "      <td>1462.006700</td>\n",
       "      <td>1473.770300</td>\n",
       "      <td>1483.637200</td>\n",
       "      <td>1470.292200</td>\n",
       "      <td>1457.449600</td>\n",
       "      <td>1450.707500</td>\n",
       "      <td>1469.381200</td>\n",
       "      <td>1475.331200</td>\n",
       "      <td>1460.837900</td>\n",
       "      <td>DA</td>\n",
       "    </tr>\n",
       "    <tr>\n",
       "      <th>1950</th>\n",
       "      <td>63.675390</td>\n",
       "      <td>71.42969</td>\n",
       "      <td>54.515865</td>\n",
       "      <td>75.541830</td>\n",
       "      <td>59.235820</td>\n",
       "      <td>43.579388</td>\n",
       "      <td>60.494823</td>\n",
       "      <td>39.674545</td>\n",
       "      <td>68.037620</td>\n",
       "      <td>79.678460</td>\n",
       "      <td>...</td>\n",
       "      <td>10.015361</td>\n",
       "      <td>9.846724</td>\n",
       "      <td>10.150140</td>\n",
       "      <td>9.750017</td>\n",
       "      <td>8.608645</td>\n",
       "      <td>10.823217</td>\n",
       "      <td>8.625998</td>\n",
       "      <td>10.128339</td>\n",
       "      <td>9.736727</td>\n",
       "      <td>DAZ</td>\n",
       "    </tr>\n",
       "    <tr>\n",
       "      <th>1951</th>\n",
       "      <td>53.456270</td>\n",
       "      <td>51.67845</td>\n",
       "      <td>49.296844</td>\n",
       "      <td>52.897137</td>\n",
       "      <td>53.157190</td>\n",
       "      <td>50.602825</td>\n",
       "      <td>48.406593</td>\n",
       "      <td>43.893345</td>\n",
       "      <td>54.005627</td>\n",
       "      <td>49.732048</td>\n",
       "      <td>...</td>\n",
       "      <td>5.645426</td>\n",
       "      <td>5.510853</td>\n",
       "      <td>5.443565</td>\n",
       "      <td>4.329355</td>\n",
       "      <td>5.490774</td>\n",
       "      <td>5.263538</td>\n",
       "      <td>4.980087</td>\n",
       "      <td>4.796206</td>\n",
       "      <td>5.550964</td>\n",
       "      <td>DAZ</td>\n",
       "    </tr>\n",
       "  </tbody>\n",
       "</table>\n",
       "<p>5 rows × 2411 columns</p>\n",
       "</div>"
      ],
      "text/plain": [
       "        3847.6904   3848.5764    3849.4626     3850.349     3851.2358  \\\n",
       "0       24.728888    27.64467    24.893251    27.215405     26.310278   \n",
       "1     1290.423500  1190.24150  1224.700700  1160.337400   1100.303100   \n",
       "2     9819.987000  9687.30800  9957.726000  9896.959000  10370.940000   \n",
       "1950    63.675390    71.42969    54.515865    75.541830     59.235820   \n",
       "1951    53.456270    51.67845    49.296844    52.897137     53.157190   \n",
       "\n",
       "         3852.1228     3853.0098      3853.897     3854.7847     3855.6724  \\\n",
       "0        24.307577     29.245514     29.070126     30.490877     35.018450   \n",
       "1      1088.031500   1152.384600   1154.704500   1115.064600   1319.146400   \n",
       "2     10643.110000  10709.778000  11047.445000  11019.559000  10969.068000   \n",
       "1950     43.579388     60.494823     39.674545     68.037620     79.678460   \n",
       "1951     50.602825     48.406593     43.893345     54.005627     49.732048   \n",
       "\n",
       "      ...     6688.059    6689.5996      6691.14    6692.6807     6694.222  \\\n",
       "0     ...    17.665596    17.521635    18.051397    17.526650    17.180534   \n",
       "1     ...   150.075820   150.250370   142.590470   143.924730   148.038850   \n",
       "2     ...  1462.006700  1473.770300  1483.637200  1470.292200  1457.449600   \n",
       "1950  ...    10.015361     9.846724    10.150140     9.750017     8.608645   \n",
       "1951  ...     5.645426     5.510853     5.443565     4.329355     5.490774   \n",
       "\n",
       "        6695.7637    6697.3057    6698.8477    6700.3906  wd_subclass  \n",
       "0       17.992810    17.179358    17.089285    17.443895           DA  \n",
       "1      154.534120   153.505140   149.336000   144.941860           DA  \n",
       "2     1450.707500  1469.381200  1475.331200  1460.837900           DA  \n",
       "1950    10.823217     8.625998    10.128339     9.736727          DAZ  \n",
       "1951     5.263538     4.980087     4.796206     5.550964          DAZ  \n",
       "\n",
       "[5 rows x 2411 columns]"
      ]
     },
     "execution_count": 7,
     "metadata": {},
     "output_type": "execute_result"
    }
   ],
   "source": [
    "gambar = pd.concat([gambar1, gambar2])\n",
    "gambar.head()"
   ]
  },
  {
   "cell_type": "code",
   "execution_count": 8,
   "id": "4dc38d3f",
   "metadata": {},
   "outputs": [],
   "source": [
    "gambar.to_csv('gambar.csv')"
   ]
  },
  {
   "cell_type": "markdown",
   "id": "647df633",
   "metadata": {},
   "source": [
    "# Selesai"
   ]
  },
  {
   "cell_type": "code",
   "execution_count": 4,
   "id": "7aae0ccf",
   "metadata": {},
   "outputs": [],
   "source": [
    "dadaz = [\n",
    "    'DA' \n",
    "]\n",
    "\n",
    "data['wd_subclass'] = np.where(data['wd_subclass'].isin(dadaz), 1, 0)"
   ]
  },
  {
   "cell_type": "code",
   "execution_count": 5,
   "id": "f33bf43a",
   "metadata": {},
   "outputs": [
    {
     "data": {
      "text/plain": [
       "1    57.336078\n",
       "0    42.663922\n",
       "Name: wd_subclass, dtype: float64"
      ]
     },
     "execution_count": 5,
     "metadata": {},
     "output_type": "execute_result"
    }
   ],
   "source": [
    "data['wd_subclass'].value_counts(normalize=True)*100"
   ]
  },
  {
   "cell_type": "markdown",
   "id": "43fb698d",
   "metadata": {},
   "source": [
    "# Train test split"
   ]
  },
  {
   "cell_type": "code",
   "execution_count": 6,
   "id": "4bd72c23",
   "metadata": {},
   "outputs": [],
   "source": [
    "from sklearn.model_selection import train_test_split"
   ]
  },
  {
   "cell_type": "code",
   "execution_count": 7,
   "id": "189b692a",
   "metadata": {},
   "outputs": [],
   "source": [
    "X = data.drop('wd_subclass', axis=1)\n",
    "y = data['wd_subclass']\n",
    "\n",
    "X_train, X_test, y_train, y_test = train_test_split(X, y, test_size=0.2, random_state=42)"
   ]
  },
  {
   "cell_type": "code",
   "execution_count": 8,
   "id": "acf4a369",
   "metadata": {},
   "outputs": [
    {
     "data": {
      "text/plain": [
       "((2720, 2410), (681, 2410))"
      ]
     },
     "execution_count": 8,
     "metadata": {},
     "output_type": "execute_result"
    }
   ],
   "source": [
    "X_train.shape, X_test.shape"
   ]
  },
  {
   "cell_type": "code",
   "execution_count": null,
   "id": "252af2f0",
   "metadata": {},
   "outputs": [],
   "source": [
    "### from sklearn.ensemble import RandomForestClassifier\n",
    "from sklearn.metrics import roc_curve, roc_auc_score\n",
    "\n",
    "\n",
    "rfc = RandomForestClassifier(n_estimators=500, max_features = 25)\n",
    "rfc.fit(X_train, y_train)"
   ]
  },
  {
   "cell_type": "code",
   "execution_count": 11,
   "id": "0b2601d9",
   "metadata": {},
   "outputs": [
    {
     "data": {
      "text/html": [
       "<div>\n",
       "<style scoped>\n",
       "    .dataframe tbody tr th:only-of-type {\n",
       "        vertical-align: middle;\n",
       "    }\n",
       "\n",
       "    .dataframe tbody tr th {\n",
       "        vertical-align: top;\n",
       "    }\n",
       "\n",
       "    .dataframe thead th {\n",
       "        text-align: right;\n",
       "    }\n",
       "</style>\n",
       "<table border=\"1\" class=\"dataframe\">\n",
       "  <thead>\n",
       "    <tr style=\"text-align: right;\">\n",
       "      <th></th>\n",
       "      <th>feature</th>\n",
       "      <th>importance</th>\n",
       "    </tr>\n",
       "  </thead>\n",
       "  <tbody>\n",
       "    <tr>\n",
       "      <th>47</th>\n",
       "      <td>3889.5566</td>\n",
       "      <td>0.006068</td>\n",
       "    </tr>\n",
       "    <tr>\n",
       "      <th>48</th>\n",
       "      <td>3890.4524</td>\n",
       "      <td>0.005950</td>\n",
       "    </tr>\n",
       "    <tr>\n",
       "      <th>51</th>\n",
       "      <td>3893.1409</td>\n",
       "      <td>0.005916</td>\n",
       "    </tr>\n",
       "  </tbody>\n",
       "</table>\n",
       "</div>"
      ],
      "text/plain": [
       "      feature  importance\n",
       "47  3889.5566    0.006068\n",
       "48  3890.4524    0.005950\n",
       "51  3893.1409    0.005916"
      ]
     },
     "execution_count": 11,
     "metadata": {},
     "output_type": "execute_result"
    }
   ],
   "source": [
    "arr_feature_importances = rfc.feature_importances_\n",
    "arr_feature_names = X_train.columns.values\n",
    "    \n",
    "df_feature_importance = pd.DataFrame(index=range(len(arr_feature_importances)), columns=['feature', 'importance'])\n",
    "df_feature_importance['feature'] = arr_feature_names\n",
    "df_feature_importance['importance'] = arr_feature_importances\n",
    "df_all_features = df_feature_importance.sort_values(by='importance', ascending=False)\n",
    "df_all_features.head(3)"
   ]
  },
  {
   "cell_type": "code",
   "execution_count": 12,
   "id": "e9db3b74",
   "metadata": {},
   "outputs": [],
   "source": [
    "y_pred_proba = rfc.predict_proba(X_test)[:][:,1]\n",
    "\n",
    "df_actual_predicted = pd.concat([pd.DataFrame(np.array(y_test), columns=['y_actual']), pd.DataFrame(y_pred_proba, columns=['y_pred_proba'])], axis=1)\n",
    "df_actual_predicted.index = y_test.index"
   ]
  },
  {
   "cell_type": "code",
   "execution_count": 13,
   "id": "bd0b2095",
   "metadata": {},
   "outputs": [
    {
     "data": {
      "text/plain": [
       "<matplotlib.legend.Legend at 0x266910e09d0>"
      ]
     },
     "execution_count": 13,
     "metadata": {},
     "output_type": "execute_result"
    },
    {
     "data": {
      "image/png": "[encoded data removed]",
      "text/plain": [
       "<Figure size 432x288 with 1 Axes>"
      ]
     },
     "metadata": {
      "needs_background": "light"
     },
     "output_type": "display_data"
    }
   ],
   "source": [
    "fpr, tpr, tr = roc_curve(df_actual_predicted['y_actual'], df_actual_predicted['y_pred_proba'])\n",
    "auc = roc_auc_score(df_actual_predicted['y_actual'], df_actual_predicted['y_pred_proba'])\n",
    "\n",
    "plt.plot(fpr, tpr, label='AUC = %0.4f' %auc)\n",
    "plt.plot(fpr, fpr, linestyle = '--', color='k')\n",
    "plt.xlabel('False Positive Rate')\n",
    "plt.ylabel('True Positive Rate')\n",
    "plt.title('ROC Curve')\n",
    "plt.legend()"
   ]
  },
  {
   "cell_type": "code",
   "execution_count": 106,
   "id": "14a0a51b",
   "metadata": {},
   "outputs": [
    {
     "data": {
      "text/html": [
       "<div>\n",
       "<style scoped>\n",
       "    .dataframe tbody tr th:only-of-type {\n",
       "        vertical-align: middle;\n",
       "    }\n",
       "\n",
       "    .dataframe tbody tr th {\n",
       "        vertical-align: top;\n",
       "    }\n",
       "\n",
       "    .dataframe thead th {\n",
       "        text-align: right;\n",
       "    }\n",
       "</style>\n",
       "<table border=\"1\" class=\"dataframe\">\n",
       "  <thead>\n",
       "    <tr style=\"text-align: right;\">\n",
       "      <th></th>\n",
       "      <th>fpr</th>\n",
       "      <th>tpr</th>\n",
       "      <th>threshold</th>\n",
       "    </tr>\n",
       "  </thead>\n",
       "  <tbody>\n",
       "    <tr>\n",
       "      <th>115</th>\n",
       "      <td>0.162362</td>\n",
       "      <td>0.878049</td>\n",
       "      <td>0.520</td>\n",
       "    </tr>\n",
       "    <tr>\n",
       "      <th>116</th>\n",
       "      <td>0.162362</td>\n",
       "      <td>0.885366</td>\n",
       "      <td>0.510</td>\n",
       "    </tr>\n",
       "    <tr>\n",
       "      <th>117</th>\n",
       "      <td>0.169742</td>\n",
       "      <td>0.887805</td>\n",
       "      <td>0.506</td>\n",
       "    </tr>\n",
       "    <tr>\n",
       "      <th>118</th>\n",
       "      <td>0.169742</td>\n",
       "      <td>0.892683</td>\n",
       "      <td>0.502</td>\n",
       "    </tr>\n",
       "    <tr>\n",
       "      <th>119</th>\n",
       "      <td>0.177122</td>\n",
       "      <td>0.897561</td>\n",
       "      <td>0.498</td>\n",
       "    </tr>\n",
       "    <tr>\n",
       "      <th>120</th>\n",
       "      <td>0.184502</td>\n",
       "      <td>0.900000</td>\n",
       "      <td>0.496</td>\n",
       "    </tr>\n",
       "  </tbody>\n",
       "</table>\n",
       "</div>"
      ],
      "text/plain": [
       "          fpr       tpr  threshold\n",
       "115  0.162362  0.878049      0.520\n",
       "116  0.162362  0.885366      0.510\n",
       "117  0.169742  0.887805      0.506\n",
       "118  0.169742  0.892683      0.502\n",
       "119  0.177122  0.897561      0.498\n",
       "120  0.184502  0.900000      0.496"
      ]
     },
     "execution_count": 106,
     "metadata": {},
     "output_type": "execute_result"
    }
   ],
   "source": [
    "roccurve = pd.DataFrame({'fpr' : fpr,\n",
    "                  'tpr' : tpr,\n",
    "                  'threshold' : tr})\n",
    "roccurve[(roccurve.threshold >= 0.49) & (roccurve.threshold <= 0.52)]"
   ]
  },
  {
   "cell_type": "code",
   "execution_count": 116,
   "id": "589b9b91",
   "metadata": {},
   "outputs": [],
   "source": [
    "roccurve.to_csv('roccurve.csv')"
   ]
  },
  {
   "cell_type": "code",
   "execution_count": 115,
   "id": "7a2ea326",
   "metadata": {},
   "outputs": [
    {
     "data": {
      "image/png": "[encoded data removed]",
      "text/plain": [
       "<Figure size 432x288 with 1 Axes>"
      ]
     },
     "metadata": {
      "needs_background": "light"
     },
     "output_type": "display_data"
    }
   ],
   "source": [
    "plt.plot(fpr, tpr, label='AUC = %0.4f' %auc)\n",
    "plt.plot(fpr, fpr, linestyle = '--', color='k')\n",
    "plt.scatter(x = 0.169742, y = 0.892683, color = 'r',  label = 'threshold')\n",
    "plt.annotate('0.5', xy=[0.169742, 0.922683],  ha = 'center', color='r', size = 11)\n",
    "plt.xlabel('False Positive Rate')\n",
    "plt.ylabel('True Positive Rate')\n",
    "plt.title('ROC Curve')\n",
    "plt.legend()\n",
    "plt.grid()"
   ]
  },
  {
   "cell_type": "code",
   "execution_count": 16,
   "id": "106298f6",
   "metadata": {},
   "outputs": [],
   "source": [
    "y_pred = rfc.predict(X_test)"
   ]
  },
  {
   "cell_type": "code",
   "execution_count": 92,
   "id": "f36cb89a",
   "metadata": {},
   "outputs": [
    {
     "data": {
      "image/png": "[encoded data removed]",
      "text/plain": [
       "<Figure size 432x288 with 1 Axes>"
      ]
     },
     "metadata": {
      "needs_background": "light"
     },
     "output_type": "display_data"
    }
   ],
   "source": [
    "#plt.figure(figsize=(14,7))\n",
    "#sns.histplot(x=1 - y_pred_proba_test,  bins = 50, color = 'firebrick')\n",
    "sns.histplot(x=1 - y_pred_proba_test,  bins = 15, color = 'firebrick', kde=True)\n",
    "plt.xlabel('Predicted Probability of Correct Class')\n",
    "plt.ylabel('Loss')\n",
    "plt.title('Cross-Entropy')\n",
    "plt.grid()"
   ]
  },
  {
   "cell_type": "code",
   "execution_count": 119,
   "id": "cfe27760",
   "metadata": {},
   "outputs": [],
   "source": [
    "wd_subclass = []\n",
    "for i in y_test :\n",
    "    if i == 0:\n",
    "        wd_subclass.append('Katai putih DAZ')\n",
    "    elif i == 1 :\n",
    "        wd_subclass.append('Katai putih DA')\n",
    "dh = pd.DataFrame({'wd_subclass' : wd_subclass})"
   ]
  },
  {
   "cell_type": "code",
   "execution_count": 120,
   "id": "442d0250",
   "metadata": {},
   "outputs": [
    {
     "data": {
      "image/png": "[encoded data removed]",
      "text/plain": [
       "<Figure size 432x288 with 1 Axes>"
      ]
     },
     "metadata": {
      "needs_background": "light"
     },
     "output_type": "display_data"
    }
   ],
   "source": [
    "#plt.figure(figsize=(14,7))\n",
    "sns.histplot(x=y_pred_proba_test, kde=True, hue = dh.wd_subclass, palette = 'Set2_r')\n",
    "plt.axvline(x = 0.5, color = 'r', label = 'threshold = 0.5')\n",
    "plt.annotate('threshold = 0.5', xy=[0.48, 125],  ha = 'center', rotation = 90, color='r', size = 10)\n",
    "plt.xlabel('Predicted Probability')\n",
    "plt.grid()"
   ]
  },
  {
   "cell_type": "code",
   "execution_count": 40,
   "id": "9c8944d4",
   "metadata": {},
   "outputs": [
    {
     "data": {
      "text/html": [
       "<div>\n",
       "<style scoped>\n",
       "    .dataframe tbody tr th:only-of-type {\n",
       "        vertical-align: middle;\n",
       "    }\n",
       "\n",
       "    .dataframe tbody tr th {\n",
       "        vertical-align: top;\n",
       "    }\n",
       "\n",
       "    .dataframe thead th {\n",
       "        text-align: right;\n",
       "    }\n",
       "</style>\n",
       "<table border=\"1\" class=\"dataframe\">\n",
       "  <thead>\n",
       "    <tr style=\"text-align: right;\">\n",
       "      <th></th>\n",
       "      <th>y_pred_proba</th>\n",
       "      <th>y_pred</th>\n",
       "    </tr>\n",
       "  </thead>\n",
       "  <tbody>\n",
       "    <tr>\n",
       "      <th>0</th>\n",
       "      <td>0.950</td>\n",
       "      <td>1</td>\n",
       "    </tr>\n",
       "    <tr>\n",
       "      <th>1</th>\n",
       "      <td>0.952</td>\n",
       "      <td>1</td>\n",
       "    </tr>\n",
       "    <tr>\n",
       "      <th>2</th>\n",
       "      <td>0.372</td>\n",
       "      <td>0</td>\n",
       "    </tr>\n",
       "  </tbody>\n",
       "</table>\n",
       "</div>"
      ],
      "text/plain": [
       "   y_pred_proba  y_pred\n",
       "0         0.950       1\n",
       "1         0.952       1\n",
       "2         0.372       0"
      ]
     },
     "execution_count": 40,
     "metadata": {},
     "output_type": "execute_result"
    }
   ],
   "source": [
    "y_pred_proba_test = rfc.predict_proba(X_test)[:][:,1]\n",
    "y_pred_test = rfc.predict(X_test)\n",
    "\n",
    "test = pd.DataFrame({'y_pred_proba' : y_pred_proba_test,\n",
    "                    'y_pred' : y_pred_test})\n",
    "test.head(3)"
   ]
  },
  {
   "cell_type": "code",
   "execution_count": 41,
   "id": "29cf3631",
   "metadata": {},
   "outputs": [],
   "source": [
    "test.to_csv('nilai test.csv')"
   ]
  },
  {
   "cell_type": "code",
   "execution_count": 42,
   "id": "5ed1c9c4",
   "metadata": {},
   "outputs": [
    {
     "data": {
      "text/html": [
       "<div>\n",
       "<style scoped>\n",
       "    .dataframe tbody tr th:only-of-type {\n",
       "        vertical-align: middle;\n",
       "    }\n",
       "\n",
       "    .dataframe tbody tr th {\n",
       "        vertical-align: top;\n",
       "    }\n",
       "\n",
       "    .dataframe thead th {\n",
       "        text-align: right;\n",
       "    }\n",
       "</style>\n",
       "<table border=\"1\" class=\"dataframe\">\n",
       "  <thead>\n",
       "    <tr style=\"text-align: right;\">\n",
       "      <th></th>\n",
       "      <th>y_pred_proba</th>\n",
       "      <th>y_pred</th>\n",
       "    </tr>\n",
       "  </thead>\n",
       "  <tbody>\n",
       "    <tr>\n",
       "      <th>0</th>\n",
       "      <td>0.078</td>\n",
       "      <td>0</td>\n",
       "    </tr>\n",
       "    <tr>\n",
       "      <th>1</th>\n",
       "      <td>0.994</td>\n",
       "      <td>1</td>\n",
       "    </tr>\n",
       "    <tr>\n",
       "      <th>2</th>\n",
       "      <td>0.138</td>\n",
       "      <td>0</td>\n",
       "    </tr>\n",
       "  </tbody>\n",
       "</table>\n",
       "</div>"
      ],
      "text/plain": [
       "   y_pred_proba  y_pred\n",
       "0         0.078       0\n",
       "1         0.994       1\n",
       "2         0.138       0"
      ]
     },
     "execution_count": 42,
     "metadata": {},
     "output_type": "execute_result"
    }
   ],
   "source": [
    "y_pred_proba_train = rfc.predict_proba(X_train)[:][:,1]\n",
    "y_pred_train = rfc.predict(X_train)\n",
    "\n",
    "test = pd.DataFrame({'y_pred_proba' : y_pred_proba_train,\n",
    "                    'y_pred' : y_pred_train})\n",
    "test.head(3)"
   ]
  },
  {
   "cell_type": "code",
   "execution_count": 43,
   "id": "b9318cfe",
   "metadata": {},
   "outputs": [],
   "source": [
    "test.to_csv('nilai train.csv')"
   ]
  },
  {
   "cell_type": "code",
   "execution_count": 62,
   "id": "b931fc12",
   "metadata": {},
   "outputs": [
    {
     "data": {
      "text/plain": [
       "array([[0.05 , 0.95 ],\n",
       "       [0.048, 0.952],\n",
       "       [0.628, 0.372],\n",
       "       ...,\n",
       "       [0.692, 0.308],\n",
       "       [0.814, 0.186],\n",
       "       [0.71 , 0.29 ]])"
      ]
     },
     "execution_count": 62,
     "metadata": {},
     "output_type": "execute_result"
    }
   ],
   "source": [
    "y_pred_proba = rfc.predict_proba(X_test)\n",
    "y_pred_proba"
   ]
  },
  {
   "cell_type": "code",
   "execution_count": 63,
   "id": "206e7f01",
   "metadata": {},
   "outputs": [
    {
     "data": {
      "text/plain": [
       "array([0.95 , 0.952, 0.372, 0.962, 0.978, 0.954, 0.936, 0.284, 0.184,\n",
       "       0.838, 0.126, 0.684, 0.796, 0.924, 0.638, 0.976, 0.2  , 0.53 ,\n",
       "       0.35 , 0.506, 0.214, 0.942, 0.95 , 0.274, 0.594, 0.922, 0.984,\n",
       "       0.766, 0.95 , 0.98 , 0.894, 0.914, 0.316, 0.966, 0.402, 0.36 ,\n",
       "       0.782, 0.264, 0.422, 0.892, 0.878, 0.836, 0.054, 0.152, 0.988,\n",
       "       0.138, 0.912, 0.504, 0.944, 0.686, 0.984, 0.096, 0.404, 0.42 ,\n",
       "       0.91 , 0.166, 0.93 , 0.296, 0.036, 0.366, 0.904, 0.918, 0.942,\n",
       "       0.856, 0.966, 0.66 , 0.806, 0.858, 0.104, 0.992, 0.268, 0.996,\n",
       "       0.186, 0.26 , 0.314, 0.088, 0.484, 0.92 , 0.728, 0.498, 0.236,\n",
       "       0.97 , 0.994, 0.934, 0.498, 0.942, 0.462, 0.976, 0.228, 0.984,\n",
       "       0.468, 0.974, 0.342, 0.966, 0.106, 0.608, 0.266, 0.14 , 0.822,\n",
       "       0.072, 0.946, 0.942, 0.926, 0.864, 0.99 , 0.502, 0.574, 0.676,\n",
       "       0.65 , 0.468, 0.982, 0.434, 0.208, 0.662, 1.   , 0.372, 0.922,\n",
       "       0.158, 0.862, 0.98 , 1.   , 0.152, 0.184, 0.938, 0.872, 0.526,\n",
       "       0.952, 0.688, 0.696, 0.184, 0.074, 0.994, 0.342, 0.07 , 0.468,\n",
       "       0.876, 0.372, 0.19 , 0.368, 0.176, 0.898, 0.544, 0.824, 0.524,\n",
       "       0.998, 0.978, 0.976, 0.962, 0.412, 0.988, 0.998, 0.99 , 0.33 ,\n",
       "       0.458, 0.942, 0.41 , 0.972, 0.762, 0.124, 0.914, 0.926, 0.54 ,\n",
       "       0.41 , 0.976, 0.97 , 0.368, 0.024, 0.922, 0.73 , 0.234, 0.588,\n",
       "       1.   , 0.966, 0.346, 0.702, 0.982, 0.714, 0.826, 0.586, 0.496,\n",
       "       0.602, 0.078, 0.818, 0.188, 0.28 , 0.222, 0.99 , 0.796, 0.26 ,\n",
       "       0.49 , 0.986, 0.432, 0.416, 0.234, 0.972, 0.342, 0.58 , 0.718,\n",
       "       0.126, 0.982, 0.934, 0.894, 0.178, 0.338, 0.992, 0.174, 0.51 ,\n",
       "       0.794, 0.64 , 0.546, 0.492, 0.894, 0.95 , 0.328, 0.99 , 0.982,\n",
       "       0.81 , 0.288, 0.998, 0.582, 0.952, 0.708, 0.984, 0.712, 0.976,\n",
       "       0.158, 0.28 , 0.814, 0.296, 0.17 , 1.   , 0.2  , 0.962, 0.178,\n",
       "       0.904, 0.452, 0.954, 0.382, 0.1  , 0.894, 0.642, 0.994, 0.992,\n",
       "       0.276, 0.226, 1.   , 0.956, 0.188, 0.532, 0.906, 0.328, 0.054,\n",
       "       0.954, 0.964, 0.428, 0.558, 0.614, 0.14 , 0.3  , 0.408, 0.062,\n",
       "       0.8  , 0.506, 0.94 , 0.96 , 0.598, 0.796, 0.572, 0.952, 0.948,\n",
       "       0.986, 0.992, 0.956, 0.19 , 0.938, 0.166, 0.968, 0.212, 0.354,\n",
       "       1.   , 0.97 , 0.48 , 0.794, 0.16 , 0.984, 0.864, 0.498, 0.93 ,\n",
       "       0.97 , 0.21 , 0.968, 0.868, 0.922, 0.966, 0.994, 0.87 , 0.946,\n",
       "       0.27 , 0.446, 0.934, 0.224, 0.146, 0.118, 0.708, 0.99 , 0.978,\n",
       "       0.974, 0.126, 0.52 , 0.594, 0.972, 0.268, 0.092, 0.986, 0.576,\n",
       "       0.466, 0.24 , 0.588, 0.972, 0.266, 0.768, 0.976, 0.04 , 0.35 ,\n",
       "       0.878, 0.776, 0.864, 0.938, 0.726, 0.666, 0.322, 0.9  , 0.156,\n",
       "       0.4  , 0.506, 0.21 , 1.   , 0.416, 0.956, 0.182, 0.634, 0.982,\n",
       "       0.784, 0.918, 0.87 , 0.972, 0.066, 0.562, 0.342, 1.   , 0.06 ,\n",
       "       0.818, 0.984, 0.19 , 0.266, 0.496, 0.972, 0.254, 0.952, 0.848,\n",
       "       0.966, 0.92 , 0.24 , 0.1  , 0.52 , 0.058, 0.852, 0.98 , 0.986,\n",
       "       0.908, 0.888, 0.902, 0.968, 0.998, 0.85 , 0.242, 0.928, 0.754,\n",
       "       0.994, 0.606, 0.154, 0.362, 0.602, 0.876, 0.884, 0.344, 0.876,\n",
       "       0.96 , 0.35 , 0.816, 0.956, 0.056, 0.206, 0.498, 0.12 , 0.812,\n",
       "       0.158, 0.974, 0.966, 0.222, 0.398, 0.976, 0.89 , 0.774, 0.576,\n",
       "       0.99 , 1.   , 0.962, 0.994, 0.382, 0.514, 0.964, 0.626, 0.914,\n",
       "       0.378, 0.534, 0.84 , 0.42 , 0.986, 0.34 , 0.236, 0.318, 0.984,\n",
       "       0.2  , 1.   , 0.364, 0.546, 0.854, 0.972, 0.33 , 0.984, 0.398,\n",
       "       1.   , 0.984, 0.138, 0.93 , 0.946, 0.936, 0.002, 0.906, 0.96 ,\n",
       "       0.228, 0.282, 0.998, 0.928, 0.98 , 0.602, 0.958, 0.618, 0.98 ,\n",
       "       0.64 , 0.86 , 0.98 , 0.22 , 0.716, 0.744, 0.404, 0.742, 0.424,\n",
       "       0.254, 0.954, 0.964, 0.086, 0.628, 0.024, 0.91 , 0.972, 0.382,\n",
       "       0.624, 0.916, 0.29 , 0.902, 0.276, 0.9  , 0.616, 0.888, 0.936,\n",
       "       1.   , 0.41 , 0.954, 0.92 , 0.178, 0.848, 0.362, 0.924, 0.11 ,\n",
       "       0.988, 0.41 , 0.474, 0.916, 0.128, 0.178, 0.1  , 0.362, 0.34 ,\n",
       "       0.988, 0.196, 0.906, 0.932, 0.756, 0.99 , 0.138, 0.9  , 0.354,\n",
       "       0.24 , 0.686, 0.94 , 0.216, 0.214, 0.798, 0.904, 0.978, 0.87 ,\n",
       "       0.112, 0.418, 0.872, 0.072, 0.184, 0.826, 0.948, 0.908, 0.178,\n",
       "       0.972, 0.228, 0.902, 0.46 , 0.954, 0.266, 0.112, 0.966, 0.286,\n",
       "       0.642, 0.97 , 0.148, 0.834, 0.798, 0.802, 1.   , 0.99 , 0.878,\n",
       "       0.086, 0.054, 0.912, 0.724, 0.996, 0.072, 0.77 , 0.522, 0.382,\n",
       "       0.964, 0.99 , 0.546, 0.576, 0.578, 0.684, 0.6  , 0.842, 0.958,\n",
       "       0.046, 0.77 , 0.354, 0.944, 0.254, 0.89 , 0.978, 0.27 , 0.254,\n",
       "       0.218, 0.568, 0.192, 0.064, 0.994, 0.594, 0.84 , 0.222, 0.208,\n",
       "       0.228, 0.992, 0.24 , 0.574, 0.374, 0.388, 0.254, 0.45 , 0.956,\n",
       "       0.348, 0.512, 0.942, 0.144, 0.972, 0.974, 0.286, 0.924, 0.074,\n",
       "       1.   , 0.146, 0.104, 0.464, 0.97 , 0.596, 0.396, 0.184, 0.826,\n",
       "       0.94 , 0.712, 0.098, 0.064, 0.93 , 0.672, 0.89 , 0.976, 0.268,\n",
       "       0.538, 0.716, 0.304, 0.052, 0.976, 0.124, 0.276, 1.   , 0.486,\n",
       "       0.274, 0.522, 1.   , 0.352, 0.384, 0.302, 0.358, 0.56 , 0.964,\n",
       "       0.252, 0.164, 0.99 , 0.984, 0.76 , 0.912, 0.996, 0.034, 0.944,\n",
       "       0.972, 0.98 , 0.496, 0.878, 0.722, 0.982, 0.46 , 0.064, 0.59 ,\n",
       "       0.274, 0.838, 0.094, 0.696, 0.308, 0.074, 0.166, 0.53 , 0.226,\n",
       "       0.974, 0.974, 0.232, 0.966, 0.892, 0.978, 0.82 , 0.304, 0.42 ,\n",
       "       0.434, 0.954, 0.084, 0.982, 0.972, 0.956, 0.574, 0.054, 0.902,\n",
       "       0.956, 0.24 , 0.308, 0.308, 0.186, 0.29 ])"
      ]
     },
     "execution_count": 63,
     "metadata": {},
     "output_type": "execute_result"
    }
   ],
   "source": [
    "y_pred_proba_test"
   ]
  },
  {
   "cell_type": "code",
   "execution_count": 64,
   "id": "3654468a",
   "metadata": {},
   "outputs": [],
   "source": [
    "y_pred_0 = rfc.predict_proba(X_test)[:][:,0]"
   ]
  },
  {
   "cell_type": "code",
   "execution_count": 93,
   "id": "eb20367e",
   "metadata": {},
   "outputs": [],
   "source": [
    "pp=1"
   ]
  },
  {
   "cell_type": "markdown",
   "id": "e0d40758",
   "metadata": {},
   "source": [
    "# Properti data"
   ]
  },
  {
   "cell_type": "code",
   "execution_count": 4,
   "id": "a80dceb7",
   "metadata": {},
   "outputs": [
    {
     "name": "stdout",
     "output_type": "stream",
     "text": [
      "1950\n",
      "1451\n"
     ]
    }
   ],
   "source": [
    "print(len(data[data.wd_subclass == 'DA']))\n",
    "print(len(data[data.wd_subclass == 'DAZ']))"
   ]
  },
  {
   "cell_type": "code",
   "execution_count": 5,
   "id": "18a2cf79",
   "metadata": {},
   "outputs": [
    {
     "data": {
      "text/plain": [
       "3401"
      ]
     },
     "execution_count": 5,
     "metadata": {},
     "output_type": "execute_result"
    }
   ],
   "source": [
    "1950 + 1451"
   ]
  },
  {
   "cell_type": "code",
   "execution_count": 6,
   "id": "9b779747",
   "metadata": {},
   "outputs": [
    {
     "data": {
      "text/html": [
       "<div>\n",
       "<style scoped>\n",
       "    .dataframe tbody tr th:only-of-type {\n",
       "        vertical-align: middle;\n",
       "    }\n",
       "\n",
       "    .dataframe tbody tr th {\n",
       "        vertical-align: top;\n",
       "    }\n",
       "\n",
       "    .dataframe thead th {\n",
       "        text-align: right;\n",
       "    }\n",
       "</style>\n",
       "<table border=\"1\" class=\"dataframe\">\n",
       "  <thead>\n",
       "    <tr style=\"text-align: right;\">\n",
       "      <th></th>\n",
       "      <th>Unnamed: 0</th>\n",
       "      <th>index</th>\n",
       "      <th>3847.6904</th>\n",
       "      <th>3848.5764</th>\n",
       "      <th>3849.4626</th>\n",
       "      <th>3850.349</th>\n",
       "      <th>3851.2358</th>\n",
       "      <th>3852.1228</th>\n",
       "      <th>3853.0098</th>\n",
       "      <th>3853.897</th>\n",
       "      <th>...</th>\n",
       "      <th>8753.87</th>\n",
       "      <th>8755.887</th>\n",
       "      <th>8757.902</th>\n",
       "      <th>8759.919</th>\n",
       "      <th>8761.937</th>\n",
       "      <th>8763.954</th>\n",
       "      <th>8765.973</th>\n",
       "      <th>8767.991</th>\n",
       "      <th>8770.011</th>\n",
       "      <th>wd_subclass</th>\n",
       "    </tr>\n",
       "  </thead>\n",
       "  <tbody>\n",
       "    <tr>\n",
       "      <th>0</th>\n",
       "      <td>0</td>\n",
       "      <td>FLUX315238</td>\n",
       "      <td>24.728888</td>\n",
       "      <td>27.64467</td>\n",
       "      <td>24.893251</td>\n",
       "      <td>27.215405</td>\n",
       "      <td>26.310278</td>\n",
       "      <td>24.307577</td>\n",
       "      <td>29.245514</td>\n",
       "      <td>29.070126</td>\n",
       "      <td>...</td>\n",
       "      <td>2.305983</td>\n",
       "      <td>2.318109</td>\n",
       "      <td>2.765418</td>\n",
       "      <td>3.867865</td>\n",
       "      <td>2.649998</td>\n",
       "      <td>2.567636</td>\n",
       "      <td>4.272257</td>\n",
       "      <td>3.811362</td>\n",
       "      <td>3.450063</td>\n",
       "      <td>DA</td>\n",
       "    </tr>\n",
       "    <tr>\n",
       "      <th>1</th>\n",
       "      <td>1</td>\n",
       "      <td>FLUX1608014</td>\n",
       "      <td>1290.423500</td>\n",
       "      <td>1190.24150</td>\n",
       "      <td>1224.700700</td>\n",
       "      <td>1160.337400</td>\n",
       "      <td>1100.303100</td>\n",
       "      <td>1088.031500</td>\n",
       "      <td>1152.384600</td>\n",
       "      <td>1154.704500</td>\n",
       "      <td>...</td>\n",
       "      <td>29.975872</td>\n",
       "      <td>29.589800</td>\n",
       "      <td>23.640617</td>\n",
       "      <td>29.610317</td>\n",
       "      <td>40.758750</td>\n",
       "      <td>18.753872</td>\n",
       "      <td>17.967580</td>\n",
       "      <td>41.045070</td>\n",
       "      <td>27.532790</td>\n",
       "      <td>DA</td>\n",
       "    </tr>\n",
       "    <tr>\n",
       "      <th>2</th>\n",
       "      <td>2</td>\n",
       "      <td>FLUX2915216</td>\n",
       "      <td>9819.987000</td>\n",
       "      <td>9687.30800</td>\n",
       "      <td>9957.726000</td>\n",
       "      <td>9896.959000</td>\n",
       "      <td>10370.940000</td>\n",
       "      <td>10643.110000</td>\n",
       "      <td>10709.778000</td>\n",
       "      <td>11047.445000</td>\n",
       "      <td>...</td>\n",
       "      <td>579.567200</td>\n",
       "      <td>578.883200</td>\n",
       "      <td>583.971700</td>\n",
       "      <td>584.477800</td>\n",
       "      <td>574.144800</td>\n",
       "      <td>595.889800</td>\n",
       "      <td>582.767200</td>\n",
       "      <td>592.659670</td>\n",
       "      <td>604.935850</td>\n",
       "      <td>DA</td>\n",
       "    </tr>\n",
       "    <tr>\n",
       "      <th>3</th>\n",
       "      <td>3</td>\n",
       "      <td>FLUX8206211</td>\n",
       "      <td>1093.884500</td>\n",
       "      <td>1043.11580</td>\n",
       "      <td>1102.687500</td>\n",
       "      <td>1149.345100</td>\n",
       "      <td>1114.538500</td>\n",
       "      <td>1140.821400</td>\n",
       "      <td>1153.040000</td>\n",
       "      <td>1195.502800</td>\n",
       "      <td>...</td>\n",
       "      <td>42.978703</td>\n",
       "      <td>43.923730</td>\n",
       "      <td>48.343330</td>\n",
       "      <td>53.065643</td>\n",
       "      <td>42.269257</td>\n",
       "      <td>54.907402</td>\n",
       "      <td>44.017075</td>\n",
       "      <td>50.292423</td>\n",
       "      <td>54.463524</td>\n",
       "      <td>DA</td>\n",
       "    </tr>\n",
       "    <tr>\n",
       "      <th>4</th>\n",
       "      <td>4</td>\n",
       "      <td>FLUX14604029</td>\n",
       "      <td>1945.595200</td>\n",
       "      <td>1919.27200</td>\n",
       "      <td>1890.047000</td>\n",
       "      <td>2007.562900</td>\n",
       "      <td>1974.344600</td>\n",
       "      <td>1933.755500</td>\n",
       "      <td>2028.300500</td>\n",
       "      <td>2040.959200</td>\n",
       "      <td>...</td>\n",
       "      <td>75.729020</td>\n",
       "      <td>80.580010</td>\n",
       "      <td>78.621864</td>\n",
       "      <td>77.513725</td>\n",
       "      <td>85.217270</td>\n",
       "      <td>80.622410</td>\n",
       "      <td>79.995480</td>\n",
       "      <td>79.216170</td>\n",
       "      <td>73.160150</td>\n",
       "      <td>DA</td>\n",
       "    </tr>\n",
       "  </tbody>\n",
       "</table>\n",
       "<p>5 rows × 3582 columns</p>\n",
       "</div>"
      ],
      "text/plain": [
       "   Unnamed: 0         index    3847.6904   3848.5764    3849.4626  \\\n",
       "0           0    FLUX315238    24.728888    27.64467    24.893251   \n",
       "1           1   FLUX1608014  1290.423500  1190.24150  1224.700700   \n",
       "2           2   FLUX2915216  9819.987000  9687.30800  9957.726000   \n",
       "3           3   FLUX8206211  1093.884500  1043.11580  1102.687500   \n",
       "4           4  FLUX14604029  1945.595200  1919.27200  1890.047000   \n",
       "\n",
       "      3850.349     3851.2358     3852.1228     3853.0098      3853.897  ...  \\\n",
       "0    27.215405     26.310278     24.307577     29.245514     29.070126  ...   \n",
       "1  1160.337400   1100.303100   1088.031500   1152.384600   1154.704500  ...   \n",
       "2  9896.959000  10370.940000  10643.110000  10709.778000  11047.445000  ...   \n",
       "3  1149.345100   1114.538500   1140.821400   1153.040000   1195.502800  ...   \n",
       "4  2007.562900   1974.344600   1933.755500   2028.300500   2040.959200  ...   \n",
       "\n",
       "      8753.87    8755.887    8757.902    8759.919    8761.937    8763.954  \\\n",
       "0    2.305983    2.318109    2.765418    3.867865    2.649998    2.567636   \n",
       "1   29.975872   29.589800   23.640617   29.610317   40.758750   18.753872   \n",
       "2  579.567200  578.883200  583.971700  584.477800  574.144800  595.889800   \n",
       "3   42.978703   43.923730   48.343330   53.065643   42.269257   54.907402   \n",
       "4   75.729020   80.580010   78.621864   77.513725   85.217270   80.622410   \n",
       "\n",
       "     8765.973    8767.991    8770.011  wd_subclass  \n",
       "0    4.272257    3.811362    3.450063           DA  \n",
       "1   17.967580   41.045070   27.532790           DA  \n",
       "2  582.767200  592.659670  604.935850           DA  \n",
       "3   44.017075   50.292423   54.463524           DA  \n",
       "4   79.995480   79.216170   73.160150           DA  \n",
       "\n",
       "[5 rows x 3582 columns]"
      ]
     },
     "execution_count": 6,
     "metadata": {},
     "output_type": "execute_result"
    }
   ],
   "source": [
    "#rerata SNR\n",
    "\n",
    "obsid = pd.read_csv('data olah dg scid.csv')\n",
    "obsid.head()"
   ]
  },
  {
   "cell_type": "code",
   "execution_count": 7,
   "id": "4f17a0d1",
   "metadata": {},
   "outputs": [
    {
     "data": {
      "text/html": [
       "<div>\n",
       "<style scoped>\n",
       "    .dataframe tbody tr th:only-of-type {\n",
       "        vertical-align: middle;\n",
       "    }\n",
       "\n",
       "    .dataframe tbody tr th {\n",
       "        vertical-align: top;\n",
       "    }\n",
       "\n",
       "    .dataframe thead th {\n",
       "        text-align: right;\n",
       "    }\n",
       "</style>\n",
       "<table border=\"1\" class=\"dataframe\">\n",
       "  <thead>\n",
       "    <tr style=\"text-align: right;\">\n",
       "      <th></th>\n",
       "      <th>obsid</th>\n",
       "      <th>uid</th>\n",
       "      <th>gp_id</th>\n",
       "      <th>designation</th>\n",
       "      <th>obsdate</th>\n",
       "      <th>lmjd</th>\n",
       "      <th>mjd</th>\n",
       "      <th>planid</th>\n",
       "      <th>spid</th>\n",
       "      <th>fiberid</th>\n",
       "      <th>...</th>\n",
       "      <th>tcomment</th>\n",
       "      <th>offsets</th>\n",
       "      <th>offsets_v</th>\n",
       "      <th>ra</th>\n",
       "      <th>dec</th>\n",
       "      <th>wd_subclass</th>\n",
       "      <th>teff</th>\n",
       "      <th>teff_err</th>\n",
       "      <th>logg</th>\n",
       "      <th>logg_err</th>\n",
       "    </tr>\n",
       "  </thead>\n",
       "  <tbody>\n",
       "    <tr>\n",
       "      <th>0</th>\n",
       "      <td>101076</td>\n",
       "      <td>G12763484624375</td>\n",
       "      <td>2676893926929699200</td>\n",
       "      <td>J220838.58-013731.7</td>\n",
       "      <td>2011-10-24</td>\n",
       "      <td>55859</td>\n",
       "      <td>55858</td>\n",
       "      <td>F5902</td>\n",
       "      <td>1</td>\n",
       "      <td>76</td>\n",
       "      <td>...</td>\n",
       "      <td>.</td>\n",
       "      <td>0</td>\n",
       "      <td>0.0</td>\n",
       "      <td>332.160763</td>\n",
       "      <td>-1.625490</td>\n",
       "      <td>DA</td>\n",
       "      <td>-9999.00</td>\n",
       "      <td>-9999.00</td>\n",
       "      <td>-9999.000</td>\n",
       "      <td>-9999.000</td>\n",
       "    </tr>\n",
       "    <tr>\n",
       "      <th>1</th>\n",
       "      <td>101151</td>\n",
       "      <td>G12762587004699</td>\n",
       "      <td>2677056689010163456</td>\n",
       "      <td>J220823.66-011534.2</td>\n",
       "      <td>2011-10-24</td>\n",
       "      <td>55859</td>\n",
       "      <td>55858</td>\n",
       "      <td>F5902</td>\n",
       "      <td>1</td>\n",
       "      <td>151</td>\n",
       "      <td>...</td>\n",
       "      <td>.</td>\n",
       "      <td>0</td>\n",
       "      <td>0.0</td>\n",
       "      <td>332.098588</td>\n",
       "      <td>-1.259508</td>\n",
       "      <td>DA</td>\n",
       "      <td>24000.00</td>\n",
       "      <td>672.02</td>\n",
       "      <td>8.263</td>\n",
       "      <td>0.076</td>\n",
       "    </tr>\n",
       "    <tr>\n",
       "      <th>2</th>\n",
       "      <td>112211</td>\n",
       "      <td>G13351718912434</td>\n",
       "      <td>2679476512239443328</td>\n",
       "      <td>J221640.39+012741.2</td>\n",
       "      <td>2011-10-24</td>\n",
       "      <td>55859</td>\n",
       "      <td>55858</td>\n",
       "      <td>F5902</td>\n",
       "      <td>12</td>\n",
       "      <td>211</td>\n",
       "      <td>...</td>\n",
       "      <td>.</td>\n",
       "      <td>0</td>\n",
       "      <td>0.0</td>\n",
       "      <td>334.168324</td>\n",
       "      <td>1.461445</td>\n",
       "      <td>DA</td>\n",
       "      <td>17122.64</td>\n",
       "      <td>221.39</td>\n",
       "      <td>7.933</td>\n",
       "      <td>0.037</td>\n",
       "    </tr>\n",
       "    <tr>\n",
       "      <th>3</th>\n",
       "      <td>116148</td>\n",
       "      <td>G13358737732360</td>\n",
       "      <td>2683213511743993472</td>\n",
       "      <td>J220522.86+021837.5</td>\n",
       "      <td>2011-10-24</td>\n",
       "      <td>55859</td>\n",
       "      <td>55858</td>\n",
       "      <td>F5902</td>\n",
       "      <td>16</td>\n",
       "      <td>148</td>\n",
       "      <td>...</td>\n",
       "      <td>.</td>\n",
       "      <td>0</td>\n",
       "      <td>0.0</td>\n",
       "      <td>331.345250</td>\n",
       "      <td>2.310432</td>\n",
       "      <td>DA</td>\n",
       "      <td>14070.30</td>\n",
       "      <td>215.59</td>\n",
       "      <td>8.063</td>\n",
       "      <td>0.028</td>\n",
       "    </tr>\n",
       "    <tr>\n",
       "      <th>4</th>\n",
       "      <td>204023</td>\n",
       "      <td>G8933577968159</td>\n",
       "      <td>2497952567036766848</td>\n",
       "      <td>J025747.26-002737.2</td>\n",
       "      <td>2011-10-24</td>\n",
       "      <td>55859</td>\n",
       "      <td>55858</td>\n",
       "      <td>F5907</td>\n",
       "      <td>4</td>\n",
       "      <td>23</td>\n",
       "      <td>...</td>\n",
       "      <td>No</td>\n",
       "      <td>0</td>\n",
       "      <td>0.0</td>\n",
       "      <td>44.446950</td>\n",
       "      <td>-0.460360</td>\n",
       "      <td>DA</td>\n",
       "      <td>-9999.00</td>\n",
       "      <td>-9999.00</td>\n",
       "      <td>-9999.000</td>\n",
       "      <td>-9999.000</td>\n",
       "    </tr>\n",
       "  </tbody>\n",
       "</table>\n",
       "<p>5 rows × 42 columns</p>\n",
       "</div>"
      ],
      "text/plain": [
       "    obsid              uid                gp_id          designation  \\\n",
       "0  101076  G12763484624375  2676893926929699200  J220838.58-013731.7   \n",
       "1  101151  G12762587004699  2677056689010163456  J220823.66-011534.2   \n",
       "2  112211  G13351718912434  2679476512239443328  J221640.39+012741.2   \n",
       "3  116148  G13358737732360  2683213511743993472  J220522.86+021837.5   \n",
       "4  204023   G8933577968159  2497952567036766848  J025747.26-002737.2   \n",
       "\n",
       "      obsdate   lmjd    mjd planid  spid  fiberid  ...  tcomment  offsets  \\\n",
       "0  2011-10-24  55859  55858  F5902     1       76  ...         .        0   \n",
       "1  2011-10-24  55859  55858  F5902     1      151  ...         .        0   \n",
       "2  2011-10-24  55859  55858  F5902    12      211  ...         .        0   \n",
       "3  2011-10-24  55859  55858  F5902    16      148  ...         .        0   \n",
       "4  2011-10-24  55859  55858  F5907     4       23  ...        No        0   \n",
       "\n",
       "   offsets_v          ra       dec  wd_subclass      teff teff_err      logg  \\\n",
       "0        0.0  332.160763 -1.625490           DA  -9999.00 -9999.00 -9999.000   \n",
       "1        0.0  332.098588 -1.259508           DA  24000.00   672.02     8.263   \n",
       "2        0.0  334.168324  1.461445           DA  17122.64   221.39     7.933   \n",
       "3        0.0  331.345250  2.310432           DA  14070.30   215.59     8.063   \n",
       "4        0.0   44.446950 -0.460360           DA  -9999.00 -9999.00 -9999.000   \n",
       "\n",
       "   logg_err  \n",
       "0 -9999.000  \n",
       "1     0.076  \n",
       "2     0.037  \n",
       "3     0.028  \n",
       "4 -9999.000  \n",
       "\n",
       "[5 rows x 42 columns]"
      ]
     },
     "execution_count": 7,
     "metadata": {},
     "output_type": "execute_result"
    }
   ],
   "source": [
    "lamost = pd.read_csv('lamost_full')\n",
    "lamost.head()"
   ]
  },
  {
   "cell_type": "code",
   "execution_count": 9,
   "id": "d20bbff5",
   "metadata": {},
   "outputs": [],
   "source": [
    "fluxobsid = []\n",
    "for i in lamost.index:\n",
    "    fluxobsid.append('FLUX'+str(lamost.obsid[i]))\n",
    "lamost['index'] = fluxobsid"
   ]
  },
  {
   "cell_type": "code",
   "execution_count": 10,
   "id": "58026b84",
   "metadata": {},
   "outputs": [],
   "source": [
    "df = pd.merge(lamost,obsid, how='inner')"
   ]
  },
  {
   "cell_type": "code",
   "execution_count": 12,
   "id": "2bb63f22",
   "metadata": {},
   "outputs": [],
   "source": [
    "lamost = df.copy()\n",
    "snr = lamost[(lamost.snru != -9999) & (lamost.snru != 9999) \n",
    "             & (lamost.snrg != -9999) & (lamost.snrg != 9999) \n",
    "             & (lamost.snrr != -9999) & (lamost.snrr != 9999) \n",
    "             & (lamost.snri != -9999) & (lamost.snri != 9999) \n",
    "             & (lamost.snrz != -9999) & (lamost.snrz != 9999)]"
   ]
  },
  {
   "cell_type": "code",
   "execution_count": 13,
   "id": "8c9790b3",
   "metadata": {},
   "outputs": [
    {
     "name": "stderr",
     "output_type": "stream",
     "text": [
      "C:\\Users\\pc\\AppData\\Local\\Temp/ipykernel_4004/264863837.py:2: SettingWithCopyWarning: \n",
      "A value is trying to be set on a copy of a slice from a DataFrame.\n",
      "Try using .loc[row_indexer,col_indexer] = value instead\n",
      "\n",
      "See the caveats in the documentation: https://pandas.pydata.org/pandas-docs/stable/user_guide/indexing.html#returning-a-view-versus-a-copy\n",
      "  snr['meansnr'] = meansnr\n"
     ]
    }
   ],
   "source": [
    "meansnr = (snr.snru + snr.snrg + snr.snrr + snr.snri + snr.snrz)/5\n",
    "snr['meansnr'] = meansnr"
   ]
  },
  {
   "cell_type": "code",
   "execution_count": 16,
   "id": "9bc16615",
   "metadata": {},
   "outputs": [
    {
     "data": {
      "text/plain": [
       "25.2819870370371"
      ]
     },
     "execution_count": 16,
     "metadata": {},
     "output_type": "execute_result"
    }
   ],
   "source": [
    "snr.meansnr[snr.meansnr<= 100].mean()"
   ]
  },
  {
   "cell_type": "code",
   "execution_count": 17,
   "id": "70ae33fb",
   "metadata": {},
   "outputs": [
    {
     "data": {
      "text/plain": [
       "0.046"
      ]
     },
     "execution_count": 17,
     "metadata": {},
     "output_type": "execute_result"
    }
   ],
   "source": [
    "snr.meansnr.min()"
   ]
  },
  {
   "cell_type": "code",
   "execution_count": 18,
   "id": "fe593cf9",
   "metadata": {},
   "outputs": [
    {
     "data": {
      "text/plain": [
       "3240"
      ]
     },
     "execution_count": 18,
     "metadata": {},
     "output_type": "execute_result"
    }
   ],
   "source": [
    "len(snr[snr.meansnr <=100])"
   ]
  },
  {
   "cell_type": "code",
   "execution_count": 19,
   "id": "ac042492",
   "metadata": {},
   "outputs": [
    {
     "data": {
      "text/plain": [
       "148"
      ]
     },
     "execution_count": 19,
     "metadata": {},
     "output_type": "execute_result"
    }
   ],
   "source": [
    "len(snr[snr.meansnr > 100])"
   ]
  },
  {
   "cell_type": "code",
   "execution_count": 29,
   "id": "60ff0332",
   "metadata": {},
   "outputs": [
    {
     "name": "stdout",
     "output_type": "stream",
     "text": [
      "Index(['obsid', 'uid', 'gp_id', 'designation', 'obsdate', 'lmjd', 'mjd',\n",
      "       'planid', 'spid', 'fiberid', 'ra_obs', 'dec_obs', 'snru', 'snrg',\n",
      "       'snrr', 'snri', 'snrz', 'class', 'subclass', 'z', 'z_err', 'ps_id',\n",
      "       'mag_ps_g', 'mag_ps_r', 'mag_ps_i', 'mag_ps_z', 'mag_ps_y',\n",
      "       'gaia_source_id', 'gaia_g_mean_mag', 'tsource', 'fibertype', 'tfrom',\n",
      "       'tcomment', 'offsets', 'offsets_v', 'ra', 'dec', 'wd_subclass', 'teff',\n",
      "       'teff_err', 'logg', 'logg_err', 'index', 'Unnamed: 0', '3847.6904',\n",
      "       '3848.5764', '3849.4626', '3850.349', '3851.2358', '3852.1228'],\n",
      "      dtype='object')\n"
     ]
    }
   ],
   "source": [
    "print(snr.columns[0:50])"
   ]
  },
  {
   "cell_type": "code",
   "execution_count": 46,
   "id": "92d274e4",
   "metadata": {},
   "outputs": [
    {
     "data": {
      "text/html": [
       "<div>\n",
       "<style scoped>\n",
       "    .dataframe tbody tr th:only-of-type {\n",
       "        vertical-align: middle;\n",
       "    }\n",
       "\n",
       "    .dataframe tbody tr th {\n",
       "        vertical-align: top;\n",
       "    }\n",
       "\n",
       "    .dataframe thead th {\n",
       "        text-align: right;\n",
       "    }\n",
       "</style>\n",
       "<table border=\"1\" class=\"dataframe\">\n",
       "  <thead>\n",
       "    <tr style=\"text-align: right;\">\n",
       "      <th></th>\n",
       "      <th>obsid</th>\n",
       "      <th>uid</th>\n",
       "      <th>gp_id</th>\n",
       "      <th>designation</th>\n",
       "      <th>obsdate</th>\n",
       "      <th>lmjd</th>\n",
       "      <th>mjd</th>\n",
       "      <th>planid</th>\n",
       "      <th>spid</th>\n",
       "      <th>fiberid</th>\n",
       "      <th>...</th>\n",
       "      <th>8753.87</th>\n",
       "      <th>8755.887</th>\n",
       "      <th>8757.902</th>\n",
       "      <th>8759.919</th>\n",
       "      <th>8761.937</th>\n",
       "      <th>8763.954</th>\n",
       "      <th>8765.973</th>\n",
       "      <th>8767.991</th>\n",
       "      <th>8770.011</th>\n",
       "      <th>meansnr</th>\n",
       "    </tr>\n",
       "  </thead>\n",
       "  <tbody>\n",
       "    <tr>\n",
       "      <th>1958</th>\n",
       "      <td>486308021</td>\n",
       "      <td>G16169785713991</td>\n",
       "      <td>3376977929802701440</td>\n",
       "      <td>J061447.54+222646.4</td>\n",
       "      <td>2016-12-01</td>\n",
       "      <td>57724</td>\n",
       "      <td>57723</td>\n",
       "      <td>HIP29425K201</td>\n",
       "      <td>8</td>\n",
       "      <td>21</td>\n",
       "      <td>...</td>\n",
       "      <td>354.22668</td>\n",
       "      <td>364.52414</td>\n",
       "      <td>358.47653</td>\n",
       "      <td>363.86636</td>\n",
       "      <td>377.20425</td>\n",
       "      <td>385.70102</td>\n",
       "      <td>386.25687</td>\n",
       "      <td>403.31894</td>\n",
       "      <td>417.89703</td>\n",
       "      <td>82.86</td>\n",
       "    </tr>\n",
       "    <tr>\n",
       "      <th>2035</th>\n",
       "      <td>497208206</td>\n",
       "      <td>G16169866391408</td>\n",
       "      <td>3376869834066408960</td>\n",
       "      <td>J061419.01+214304.8</td>\n",
       "      <td>2016-12-17</td>\n",
       "      <td>57740</td>\n",
       "      <td>57739</td>\n",
       "      <td>HIP29425K201</td>\n",
       "      <td>8</td>\n",
       "      <td>206</td>\n",
       "      <td>...</td>\n",
       "      <td>764.32880</td>\n",
       "      <td>781.60266</td>\n",
       "      <td>818.94640</td>\n",
       "      <td>835.67236</td>\n",
       "      <td>868.14670</td>\n",
       "      <td>864.86194</td>\n",
       "      <td>884.32275</td>\n",
       "      <td>932.13040</td>\n",
       "      <td>913.46110</td>\n",
       "      <td>84.55</td>\n",
       "    </tr>\n",
       "  </tbody>\n",
       "</table>\n",
       "<p>2 rows × 3624 columns</p>\n",
       "</div>"
      ],
      "text/plain": [
       "          obsid              uid                gp_id          designation  \\\n",
       "1958  486308021  G16169785713991  3376977929802701440  J061447.54+222646.4   \n",
       "2035  497208206  G16169866391408  3376869834066408960  J061419.01+214304.8   \n",
       "\n",
       "         obsdate   lmjd    mjd        planid  spid  fiberid  ...    8753.87  \\\n",
       "1958  2016-12-01  57724  57723  HIP29425K201     8       21  ...  354.22668   \n",
       "2035  2016-12-17  57740  57739  HIP29425K201     8      206  ...  764.32880   \n",
       "\n",
       "       8755.887   8757.902   8759.919   8761.937   8763.954   8765.973  \\\n",
       "1958  364.52414  358.47653  363.86636  377.20425  385.70102  386.25687   \n",
       "2035  781.60266  818.94640  835.67236  868.14670  864.86194  884.32275   \n",
       "\n",
       "       8767.991   8770.011  meansnr  \n",
       "1958  403.31894  417.89703    82.86  \n",
       "2035  932.13040  913.46110    84.55  \n",
       "\n",
       "[2 rows x 3624 columns]"
      ]
     },
     "execution_count": 46,
     "metadata": {},
     "output_type": "execute_result"
    }
   ],
   "source": [
    "snr[(snr.meansnr > 80) & (snr.meansnr <= 90) & (snr.wd_subclass == 'DAZ')]"
   ]
  },
  {
   "cell_type": "code",
   "execution_count": null,
   "id": "96d3e3fb",
   "metadata": {},
   "outputs": [],
   "source": [
    "snr[(snr.meansnr > 80) & (snr.meansnr < 90) & (snr.wd_subclass == 'DAZ')]"
   ]
  },
  {
   "cell_type": "code",
   "execution_count": null,
   "id": "4c8e0416",
   "metadata": {},
   "outputs": [],
   "source": []
  },
  {
   "cell_type": "code",
   "execution_count": 73,
   "id": "60b38dd8",
   "metadata": {},
   "outputs": [
    {
     "data": {
      "text/plain": [
       "array([  0.,  30.,  60.,  90., 120., 150., 180.])"
      ]
     },
     "execution_count": 73,
     "metadata": {},
     "output_type": "execute_result"
    }
   ],
   "source": [
    "x = np.linspace(0,180)\n",
    "x"
   ]
  },
  {
   "cell_type": "code",
   "execution_count": 76,
   "id": "7d86ba86",
   "metadata": {},
   "outputs": [],
   "source": [
    "# bikin grafik perbandingan gini dan entropi\n",
    "\n",
    "x = np.linspace(0,180)\n",
    "entropi = np.sin(np.radians(x))\n",
    "gini = 0.5*(np.sin(np.radians(x)))\n",
    "p = x/90"
   ]
  },
  {
   "cell_type": "code",
   "execution_count": 83,
   "id": "fa1845ee",
   "metadata": {},
   "outputs": [
    {
     "data": {
      "image/png": "[encoded data removed]",
      "text/plain": [
       "<Figure size 576x432 with 1 Axes>"
      ]
     },
     "metadata": {
      "needs_background": "light"
     },
     "output_type": "display_data"
    }
   ],
   "source": [
    "plt.figure(figsize = (8,6))\n",
    "\n",
    "plt.plot(p/2,entropi, label = 'Entropi')\n",
    "plt.plot(p/2,gini, label = 'Gini')\n",
    "plt.xlabel('frekuensi (p)')\n",
    "plt.ylabel('nilai kriteria pemisahan')\n",
    "plt.legend()\n",
    "plt.show()"
   ]
  },
  {
   "cell_type": "code",
   "execution_count": 1,
   "id": "56eb96c0",
   "metadata": {},
   "outputs": [],
   "source": [
    "p=0"
   ]
  },
  {
   "cell_type": "code",
   "execution_count": null,
   "id": "02c60958",
   "metadata": {},
   "outputs": [],
   "source": []
  }
 ],
 "metadata": {
  "kernelspec": {
   "display_name": "Python 3 (ipykernel)",
   "language": "python",
   "name": "python3"
  },
  "language_info": {
   "codemirror_mode": {
    "name": "ipython",
    "version": 3
   },
   "file_extension": ".py",
   "mimetype": "text/x-python",
   "name": "python",
   "nbconvert_exporter": "python",
   "pygments_lexer": "ipython3",
   "version": "3.9.7"
  }
 },
 "nbformat": 4,
 "nbformat_minor": 5
}
