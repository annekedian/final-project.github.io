{
 "cells": [
  {
   "cell_type": "code",
   "execution_count": 1,
   "id": "a7e21ebb",
   "metadata": {},
   "outputs": [],
   "source": [
    "import pandas as pd\n",
    "import matplotlib.pyplot as plt\n",
    "import seaborn as sns\n",
    "import numpy as np"
   ]
  },
  {
   "cell_type": "code",
   "execution_count": 2,
   "id": "a185dc40",
   "metadata": {},
   "outputs": [],
   "source": [
    "data = pd.read_csv('data olah.csv')\n",
    "data = data.drop('Unnamed: 0', axis = 1)"
   ]
  },
  {
   "cell_type": "code",
   "execution_count": 3,
   "id": "00c415c0",
   "metadata": {},
   "outputs": [
    {
     "data": {
      "text/html": [
       "<div>\n",
       "<style scoped>\n",
       "    .dataframe tbody tr th:only-of-type {\n",
       "        vertical-align: middle;\n",
       "    }\n",
       "\n",
       "    .dataframe tbody tr th {\n",
       "        vertical-align: top;\n",
       "    }\n",
       "\n",
       "    .dataframe thead th {\n",
       "        text-align: right;\n",
       "    }\n",
       "</style>\n",
       "<table border=\"1\" class=\"dataframe\">\n",
       "  <thead>\n",
       "    <tr style=\"text-align: right;\">\n",
       "      <th></th>\n",
       "      <th>3847.6904</th>\n",
       "      <th>3848.5764</th>\n",
       "      <th>3849.4626</th>\n",
       "      <th>3850.349</th>\n",
       "      <th>3851.2358</th>\n",
       "      <th>3852.1228</th>\n",
       "      <th>3853.0098</th>\n",
       "      <th>3853.897</th>\n",
       "      <th>3854.7847</th>\n",
       "      <th>3855.6724</th>\n",
       "      <th>...</th>\n",
       "      <th>6688.059</th>\n",
       "      <th>6689.5996</th>\n",
       "      <th>6691.14</th>\n",
       "      <th>6692.6807</th>\n",
       "      <th>6694.222</th>\n",
       "      <th>6695.7637</th>\n",
       "      <th>6697.3057</th>\n",
       "      <th>6698.8477</th>\n",
       "      <th>6700.3906</th>\n",
       "      <th>wd_subclass</th>\n",
       "    </tr>\n",
       "  </thead>\n",
       "  <tbody>\n",
       "    <tr>\n",
       "      <th>0</th>\n",
       "      <td>24.728888</td>\n",
       "      <td>27.64467</td>\n",
       "      <td>24.893251</td>\n",
       "      <td>27.215405</td>\n",
       "      <td>26.310278</td>\n",
       "      <td>24.307577</td>\n",
       "      <td>29.245514</td>\n",
       "      <td>29.070126</td>\n",
       "      <td>30.490877</td>\n",
       "      <td>35.01845</td>\n",
       "      <td>...</td>\n",
       "      <td>17.665596</td>\n",
       "      <td>17.521635</td>\n",
       "      <td>18.051397</td>\n",
       "      <td>17.52665</td>\n",
       "      <td>17.180534</td>\n",
       "      <td>17.99281</td>\n",
       "      <td>17.179358</td>\n",
       "      <td>17.089285</td>\n",
       "      <td>17.443895</td>\n",
       "      <td>DA</td>\n",
       "    </tr>\n",
       "    <tr>\n",
       "      <th>1</th>\n",
       "      <td>1290.423500</td>\n",
       "      <td>1190.24150</td>\n",
       "      <td>1224.700700</td>\n",
       "      <td>1160.337400</td>\n",
       "      <td>1100.303100</td>\n",
       "      <td>1088.031500</td>\n",
       "      <td>1152.384600</td>\n",
       "      <td>1154.704500</td>\n",
       "      <td>1115.064600</td>\n",
       "      <td>1319.14640</td>\n",
       "      <td>...</td>\n",
       "      <td>150.075820</td>\n",
       "      <td>150.250370</td>\n",
       "      <td>142.590470</td>\n",
       "      <td>143.92473</td>\n",
       "      <td>148.038850</td>\n",
       "      <td>154.53412</td>\n",
       "      <td>153.505140</td>\n",
       "      <td>149.336000</td>\n",
       "      <td>144.941860</td>\n",
       "      <td>DA</td>\n",
       "    </tr>\n",
       "    <tr>\n",
       "      <th>2</th>\n",
       "      <td>9819.987000</td>\n",
       "      <td>9687.30800</td>\n",
       "      <td>9957.726000</td>\n",
       "      <td>9896.959000</td>\n",
       "      <td>10370.940000</td>\n",
       "      <td>10643.110000</td>\n",
       "      <td>10709.778000</td>\n",
       "      <td>11047.445000</td>\n",
       "      <td>11019.559000</td>\n",
       "      <td>10969.06800</td>\n",
       "      <td>...</td>\n",
       "      <td>1462.006700</td>\n",
       "      <td>1473.770300</td>\n",
       "      <td>1483.637200</td>\n",
       "      <td>1470.29220</td>\n",
       "      <td>1457.449600</td>\n",
       "      <td>1450.70750</td>\n",
       "      <td>1469.381200</td>\n",
       "      <td>1475.331200</td>\n",
       "      <td>1460.837900</td>\n",
       "      <td>DA</td>\n",
       "    </tr>\n",
       "    <tr>\n",
       "      <th>3</th>\n",
       "      <td>1093.884500</td>\n",
       "      <td>1043.11580</td>\n",
       "      <td>1102.687500</td>\n",
       "      <td>1149.345100</td>\n",
       "      <td>1114.538500</td>\n",
       "      <td>1140.821400</td>\n",
       "      <td>1153.040000</td>\n",
       "      <td>1195.502800</td>\n",
       "      <td>1167.717200</td>\n",
       "      <td>1147.95520</td>\n",
       "      <td>...</td>\n",
       "      <td>136.972170</td>\n",
       "      <td>140.127240</td>\n",
       "      <td>140.010470</td>\n",
       "      <td>140.37068</td>\n",
       "      <td>137.124980</td>\n",
       "      <td>138.57338</td>\n",
       "      <td>135.967210</td>\n",
       "      <td>135.260400</td>\n",
       "      <td>138.557480</td>\n",
       "      <td>DA</td>\n",
       "    </tr>\n",
       "    <tr>\n",
       "      <th>4</th>\n",
       "      <td>1945.595200</td>\n",
       "      <td>1919.27200</td>\n",
       "      <td>1890.047000</td>\n",
       "      <td>2007.562900</td>\n",
       "      <td>1974.344600</td>\n",
       "      <td>1933.755500</td>\n",
       "      <td>2028.300500</td>\n",
       "      <td>2040.959200</td>\n",
       "      <td>2060.863300</td>\n",
       "      <td>2075.57150</td>\n",
       "      <td>...</td>\n",
       "      <td>211.261810</td>\n",
       "      <td>214.697770</td>\n",
       "      <td>217.529720</td>\n",
       "      <td>214.75264</td>\n",
       "      <td>221.029900</td>\n",
       "      <td>217.97780</td>\n",
       "      <td>217.672780</td>\n",
       "      <td>212.324870</td>\n",
       "      <td>216.794740</td>\n",
       "      <td>DA</td>\n",
       "    </tr>\n",
       "  </tbody>\n",
       "</table>\n",
       "<p>5 rows × 2411 columns</p>\n",
       "</div>"
      ],
      "text/plain": [
       "     3847.6904   3848.5764    3849.4626     3850.349     3851.2358  \\\n",
       "0    24.728888    27.64467    24.893251    27.215405     26.310278   \n",
       "1  1290.423500  1190.24150  1224.700700  1160.337400   1100.303100   \n",
       "2  9819.987000  9687.30800  9957.726000  9896.959000  10370.940000   \n",
       "3  1093.884500  1043.11580  1102.687500  1149.345100   1114.538500   \n",
       "4  1945.595200  1919.27200  1890.047000  2007.562900   1974.344600   \n",
       "\n",
       "      3852.1228     3853.0098      3853.897     3854.7847    3855.6724  ...  \\\n",
       "0     24.307577     29.245514     29.070126     30.490877     35.01845  ...   \n",
       "1   1088.031500   1152.384600   1154.704500   1115.064600   1319.14640  ...   \n",
       "2  10643.110000  10709.778000  11047.445000  11019.559000  10969.06800  ...   \n",
       "3   1140.821400   1153.040000   1195.502800   1167.717200   1147.95520  ...   \n",
       "4   1933.755500   2028.300500   2040.959200   2060.863300   2075.57150  ...   \n",
       "\n",
       "      6688.059    6689.5996      6691.14   6692.6807     6694.222   6695.7637  \\\n",
       "0    17.665596    17.521635    18.051397    17.52665    17.180534    17.99281   \n",
       "1   150.075820   150.250370   142.590470   143.92473   148.038850   154.53412   \n",
       "2  1462.006700  1473.770300  1483.637200  1470.29220  1457.449600  1450.70750   \n",
       "3   136.972170   140.127240   140.010470   140.37068   137.124980   138.57338   \n",
       "4   211.261810   214.697770   217.529720   214.75264   221.029900   217.97780   \n",
       "\n",
       "     6697.3057    6698.8477    6700.3906  wd_subclass  \n",
       "0    17.179358    17.089285    17.443895           DA  \n",
       "1   153.505140   149.336000   144.941860           DA  \n",
       "2  1469.381200  1475.331200  1460.837900           DA  \n",
       "3   135.967210   135.260400   138.557480           DA  \n",
       "4   217.672780   212.324870   216.794740           DA  \n",
       "\n",
       "[5 rows x 2411 columns]"
      ]
     },
     "execution_count": 3,
     "metadata": {},
     "output_type": "execute_result"
    }
   ],
   "source": [
    "data.drop(data.columns[2410:3579], axis=1, inplace=True)\n",
    "data.head(5)"
   ]
  },
  {
   "cell_type": "code",
   "execution_count": 4,
   "id": "3a910638",
   "metadata": {},
   "outputs": [],
   "source": [
    "dadaz = [\n",
    "    'DA' \n",
    "]\n",
    "\n",
    "data['wd_subclass'] = np.where(data['wd_subclass'].isin(dadaz), 1, 0)"
   ]
  },
  {
   "cell_type": "code",
   "execution_count": 5,
   "id": "9192883d",
   "metadata": {},
   "outputs": [
    {
     "data": {
      "text/plain": [
       "1    57.336078\n",
       "0    42.663922\n",
       "Name: wd_subclass, dtype: float64"
      ]
     },
     "execution_count": 5,
     "metadata": {},
     "output_type": "execute_result"
    }
   ],
   "source": [
    "data['wd_subclass'].value_counts(normalize=True)*100"
   ]
  },
  {
   "cell_type": "markdown",
   "id": "06e2e813",
   "metadata": {},
   "source": [
    "# TTS"
   ]
  },
  {
   "cell_type": "code",
   "execution_count": 6,
   "id": "8bb35d9f",
   "metadata": {},
   "outputs": [],
   "source": [
    "from sklearn.model_selection import train_test_split"
   ]
  },
  {
   "cell_type": "code",
   "execution_count": 7,
   "id": "67d9b757",
   "metadata": {},
   "outputs": [],
   "source": [
    "X = data.drop('wd_subclass', axis=1)\n",
    "y = data['wd_subclass']\n",
    "\n",
    "X_train, X_test, y_train, y_test = train_test_split(X, y, test_size=0.2, random_state=42)"
   ]
  },
  {
   "cell_type": "code",
   "execution_count": 8,
   "id": "fbfcde6c",
   "metadata": {},
   "outputs": [
    {
     "data": {
      "text/plain": [
       "((2720, 2410), (681, 2410))"
      ]
     },
     "execution_count": 8,
     "metadata": {},
     "output_type": "execute_result"
    }
   ],
   "source": [
    "X_train.shape, X_test.shape"
   ]
  },
  {
   "cell_type": "code",
   "execution_count": 9,
   "id": "12dc471a",
   "metadata": {},
   "outputs": [
    {
     "data": {
      "text/html": [
       "<style>#sk-container-id-1 {color: black;background-color: white;}#sk-container-id-1 pre{padding: 0;}#sk-container-id-1 div.sk-toggleable {background-color: white;}#sk-container-id-1 label.sk-toggleable__label {cursor: pointer;display: block;width: 100%;margin-bottom: 0;padding: 0.3em;box-sizing: border-box;text-align: center;}#sk-container-id-1 label.sk-toggleable__label-arrow:before {content: \"▸\";float: left;margin-right: 0.25em;color: #696969;}#sk-container-id-1 label.sk-toggleable__label-arrow:hover:before {color: black;}#sk-container-id-1 div.sk-estimator:hover label.sk-toggleable__label-arrow:before {color: black;}#sk-container-id-1 div.sk-toggleable__content {max-height: 0;max-width: 0;overflow: hidden;text-align: left;background-color: #f0f8ff;}#sk-container-id-1 div.sk-toggleable__content pre {margin: 0.2em;color: black;border-radius: 0.25em;background-color: #f0f8ff;}#sk-container-id-1 input.sk-toggleable__control:checked~div.sk-toggleable__content {max-height: 200px;max-width: 100%;overflow: auto;}#sk-container-id-1 input.sk-toggleable__control:checked~label.sk-toggleable__label-arrow:before {content: \"▾\";}#sk-container-id-1 div.sk-estimator input.sk-toggleable__control:checked~label.sk-toggleable__label {background-color: #d4ebff;}#sk-container-id-1 div.sk-label input.sk-toggleable__control:checked~label.sk-toggleable__label {background-color: #d4ebff;}#sk-container-id-1 input.sk-hidden--visually {border: 0;clip: rect(1px 1px 1px 1px);clip: rect(1px, 1px, 1px, 1px);height: 1px;margin: -1px;overflow: hidden;padding: 0;position: absolute;width: 1px;}#sk-container-id-1 div.sk-estimator {font-family: monospace;background-color: #f0f8ff;border: 1px dotted black;border-radius: 0.25em;box-sizing: border-box;margin-bottom: 0.5em;}#sk-container-id-1 div.sk-estimator:hover {background-color: #d4ebff;}#sk-container-id-1 div.sk-parallel-item::after {content: \"\";width: 100%;border-bottom: 1px solid gray;flex-grow: 1;}#sk-container-id-1 div.sk-label:hover label.sk-toggleable__label {background-color: #d4ebff;}#sk-container-id-1 div.sk-serial::before {content: \"\";position: absolute;border-left: 1px solid gray;box-sizing: border-box;top: 0;bottom: 0;left: 50%;z-index: 0;}#sk-container-id-1 div.sk-serial {display: flex;flex-direction: column;align-items: center;background-color: white;padding-right: 0.2em;padding-left: 0.2em;position: relative;}#sk-container-id-1 div.sk-item {position: relative;z-index: 1;}#sk-container-id-1 div.sk-parallel {display: flex;align-items: stretch;justify-content: center;background-color: white;position: relative;}#sk-container-id-1 div.sk-item::before, #sk-container-id-1 div.sk-parallel-item::before {content: \"\";position: absolute;border-left: 1px solid gray;box-sizing: border-box;top: 0;bottom: 0;left: 50%;z-index: -1;}#sk-container-id-1 div.sk-parallel-item {display: flex;flex-direction: column;z-index: 1;position: relative;background-color: white;}#sk-container-id-1 div.sk-parallel-item:first-child::after {align-self: flex-end;width: 50%;}#sk-container-id-1 div.sk-parallel-item:last-child::after {align-self: flex-start;width: 50%;}#sk-container-id-1 div.sk-parallel-item:only-child::after {width: 0;}#sk-container-id-1 div.sk-dashed-wrapped {border: 1px dashed gray;margin: 0 0.4em 0.5em 0.4em;box-sizing: border-box;padding-bottom: 0.4em;background-color: white;}#sk-container-id-1 div.sk-label label {font-family: monospace;font-weight: bold;display: inline-block;line-height: 1.2em;}#sk-container-id-1 div.sk-label-container {text-align: center;}#sk-container-id-1 div.sk-container {/* jupyter's `normalize.less` sets `[hidden] { display: none; }` but bootstrap.min.css set `[hidden] { display: none !important; }` so we also need the `!important` here to be able to override the default hidden behavior on the sphinx rendered scikit-learn.org. See: https://github.com/scikit-learn/scikit-learn/issues/21755 */display: inline-block !important;position: relative;}#sk-container-id-1 div.sk-text-repr-fallback {display: none;}</style><div id=\"sk-container-id-1\" class=\"sk-top-container\"><div class=\"sk-text-repr-fallback\"><pre>RandomForestClassifier(max_features=25, n_estimators=500)</pre><b>In a Jupyter environment, please rerun this cell to show the HTML representation or trust the notebook. <br />On GitHub, the HTML representation is unable to render, please try loading this page with nbviewer.org.</b></div><div class=\"sk-container\" hidden><div class=\"sk-item\"><div class=\"sk-estimator sk-toggleable\"><input class=\"sk-toggleable__control sk-hidden--visually\" id=\"sk-estimator-id-1\" type=\"checkbox\" checked><label for=\"sk-estimator-id-1\" class=\"sk-toggleable__label sk-toggleable__label-arrow\">RandomForestClassifier</label><div class=\"sk-toggleable__content\"><pre>RandomForestClassifier(max_features=25, n_estimators=500)</pre></div></div></div></div></div>"
      ],
      "text/plain": [
       "RandomForestClassifier(max_features=25, n_estimators=500)"
      ]
     },
     "execution_count": 9,
     "metadata": {},
     "output_type": "execute_result"
    }
   ],
   "source": [
    "from sklearn.ensemble import RandomForestClassifier\n",
    "from sklearn.metrics import roc_curve, roc_auc_score\n",
    "\n",
    "\n",
    "rfc = RandomForestClassifier(n_estimators=500, max_features = 25)\n",
    "rfc.fit(X_train, y_train)"
   ]
  },
  {
   "cell_type": "code",
   "execution_count": 10,
   "id": "45f19861",
   "metadata": {},
   "outputs": [
    {
     "data": {
      "text/html": [
       "<div>\n",
       "<style scoped>\n",
       "    .dataframe tbody tr th:only-of-type {\n",
       "        vertical-align: middle;\n",
       "    }\n",
       "\n",
       "    .dataframe tbody tr th {\n",
       "        vertical-align: top;\n",
       "    }\n",
       "\n",
       "    .dataframe thead th {\n",
       "        text-align: right;\n",
       "    }\n",
       "</style>\n",
       "<table border=\"1\" class=\"dataframe\">\n",
       "  <thead>\n",
       "    <tr style=\"text-align: right;\">\n",
       "      <th></th>\n",
       "      <th>feature</th>\n",
       "      <th>importance</th>\n",
       "    </tr>\n",
       "  </thead>\n",
       "  <tbody>\n",
       "    <tr>\n",
       "      <th>47</th>\n",
       "      <td>3889.5566</td>\n",
       "      <td>0.006068</td>\n",
       "    </tr>\n",
       "    <tr>\n",
       "      <th>46</th>\n",
       "      <td>3888.6611</td>\n",
       "      <td>0.005956</td>\n",
       "    </tr>\n",
       "    <tr>\n",
       "      <th>53</th>\n",
       "      <td>3894.934</td>\n",
       "      <td>0.005306</td>\n",
       "    </tr>\n",
       "  </tbody>\n",
       "</table>\n",
       "</div>"
      ],
      "text/plain": [
       "      feature  importance\n",
       "47  3889.5566    0.006068\n",
       "46  3888.6611    0.005956\n",
       "53   3894.934    0.005306"
      ]
     },
     "execution_count": 10,
     "metadata": {},
     "output_type": "execute_result"
    }
   ],
   "source": [
    "arr_feature_importances = rfc.feature_importances_\n",
    "arr_feature_names = X_train.columns.values\n",
    "    \n",
    "df_feature_importance = pd.DataFrame(index=range(len(arr_feature_importances)), columns=['feature', 'importance'])\n",
    "df_feature_importance['feature'] = arr_feature_names\n",
    "df_feature_importance['importance'] = arr_feature_importances\n",
    "df_all_features = df_feature_importance.sort_values(by='importance', ascending=False)\n",
    "df_all_features.head(3)"
   ]
  },
  {
   "cell_type": "code",
   "execution_count": 11,
   "id": "d9109008",
   "metadata": {},
   "outputs": [],
   "source": [
    "y_pred_proba = rfc.predict_proba(X_test)[:][:,1]\n",
    "\n",
    "df_actual_predicted = pd.concat([pd.DataFrame(np.array(y_test), columns=['y_actual']), pd.DataFrame(y_pred_proba, columns=['y_pred_proba'])], axis=1)\n",
    "df_actual_predicted.index = y_test.index"
   ]
  },
  {
   "cell_type": "code",
   "execution_count": 12,
   "id": "dff93791",
   "metadata": {},
   "outputs": [
    {
     "data": {
      "text/plain": [
       "<matplotlib.legend.Legend at 0x27a698557c0>"
      ]
     },
     "execution_count": 12,
     "metadata": {},
     "output_type": "execute_result"
    },
    {
     "data": {
      "image/png": "[encoded data removed]",
      "text/plain": [
       "<Figure size 432x288 with 1 Axes>"
      ]
     },
     "metadata": {
      "needs_background": "light"
     },
     "output_type": "display_data"
    }
   ],
   "source": [
    "fpr, tpr, tr = roc_curve(df_actual_predicted['y_actual'], df_actual_predicted['y_pred_proba'])\n",
    "auc = roc_auc_score(df_actual_predicted['y_actual'], df_actual_predicted['y_pred_proba'])\n",
    "\n",
    "plt.plot(fpr, tpr, label='AUC = %0.4f' %auc)\n",
    "plt.plot(fpr, fpr, linestyle = '--', color='k')\n",
    "plt.xlabel('False Positive Rate')\n",
    "plt.ylabel('True Positive Rate')\n",
    "plt.title('ROC Curve')\n",
    "plt.legend()"
   ]
  },
  {
   "cell_type": "code",
   "execution_count": 14,
   "id": "695845d3",
   "metadata": {},
   "outputs": [
    {
     "data": {
      "text/html": [
       "<div>\n",
       "<style scoped>\n",
       "    .dataframe tbody tr th:only-of-type {\n",
       "        vertical-align: middle;\n",
       "    }\n",
       "\n",
       "    .dataframe tbody tr th {\n",
       "        vertical-align: top;\n",
       "    }\n",
       "\n",
       "    .dataframe thead th {\n",
       "        text-align: right;\n",
       "    }\n",
       "</style>\n",
       "<table border=\"1\" class=\"dataframe\">\n",
       "  <thead>\n",
       "    <tr style=\"text-align: right;\">\n",
       "      <th></th>\n",
       "      <th>fpr</th>\n",
       "      <th>tpr</th>\n",
       "      <th>threshold</th>\n",
       "    </tr>\n",
       "  </thead>\n",
       "  <tbody>\n",
       "    <tr>\n",
       "      <th>110</th>\n",
       "      <td>0.154982</td>\n",
       "      <td>0.878049</td>\n",
       "      <td>0.514</td>\n",
       "    </tr>\n",
       "    <tr>\n",
       "      <th>111</th>\n",
       "      <td>0.158672</td>\n",
       "      <td>0.878049</td>\n",
       "      <td>0.510</td>\n",
       "    </tr>\n",
       "    <tr>\n",
       "      <th>112</th>\n",
       "      <td>0.162362</td>\n",
       "      <td>0.882927</td>\n",
       "      <td>0.508</td>\n",
       "    </tr>\n",
       "    <tr>\n",
       "      <th>113</th>\n",
       "      <td>0.162362</td>\n",
       "      <td>0.887805</td>\n",
       "      <td>0.504</td>\n",
       "    </tr>\n",
       "    <tr>\n",
       "      <th>114</th>\n",
       "      <td>0.169742</td>\n",
       "      <td>0.890244</td>\n",
       "      <td>0.502</td>\n",
       "    </tr>\n",
       "    <tr>\n",
       "      <th>115</th>\n",
       "      <td>0.173432</td>\n",
       "      <td>0.892683</td>\n",
       "      <td>0.500</td>\n",
       "    </tr>\n",
       "  </tbody>\n",
       "</table>\n",
       "</div>"
      ],
      "text/plain": [
       "          fpr       tpr  threshold\n",
       "110  0.154982  0.878049      0.514\n",
       "111  0.158672  0.878049      0.510\n",
       "112  0.162362  0.882927      0.508\n",
       "113  0.162362  0.887805      0.504\n",
       "114  0.169742  0.890244      0.502\n",
       "115  0.173432  0.892683      0.500"
      ]
     },
     "execution_count": 14,
     "metadata": {},
     "output_type": "execute_result"
    }
   ],
   "source": [
    "roccurve = pd.DataFrame({'fpr' : fpr,\n",
    "                  'tpr' : tpr,\n",
    "                  'threshold' : tr})\n",
    "roccurve[(roccurve.threshold >= 0.5) & (roccurve.threshold <= 0.52)]"
   ]
  },
  {
   "cell_type": "code",
   "execution_count": 15,
   "id": "5f177085",
   "metadata": {},
   "outputs": [
    {
     "data": {
      "text/html": [
       "<div>\n",
       "<style scoped>\n",
       "    .dataframe tbody tr th:only-of-type {\n",
       "        vertical-align: middle;\n",
       "    }\n",
       "\n",
       "    .dataframe tbody tr th {\n",
       "        vertical-align: top;\n",
       "    }\n",
       "\n",
       "    .dataframe thead th {\n",
       "        text-align: right;\n",
       "    }\n",
       "</style>\n",
       "<table border=\"1\" class=\"dataframe\">\n",
       "  <thead>\n",
       "    <tr style=\"text-align: right;\">\n",
       "      <th></th>\n",
       "      <th>fpr</th>\n",
       "      <th>tpr</th>\n",
       "      <th>threshold</th>\n",
       "    </tr>\n",
       "  </thead>\n",
       "  <tbody>\n",
       "    <tr>\n",
       "      <th>58</th>\n",
       "      <td>0.03321</td>\n",
       "      <td>0.687805</td>\n",
       "      <td>0.820</td>\n",
       "    </tr>\n",
       "    <tr>\n",
       "      <th>59</th>\n",
       "      <td>0.03321</td>\n",
       "      <td>0.695122</td>\n",
       "      <td>0.816</td>\n",
       "    </tr>\n",
       "    <tr>\n",
       "      <th>60</th>\n",
       "      <td>0.03690</td>\n",
       "      <td>0.695122</td>\n",
       "      <td>0.810</td>\n",
       "    </tr>\n",
       "    <tr>\n",
       "      <th>61</th>\n",
       "      <td>0.03690</td>\n",
       "      <td>0.700000</td>\n",
       "      <td>0.806</td>\n",
       "    </tr>\n",
       "  </tbody>\n",
       "</table>\n",
       "</div>"
      ],
      "text/plain": [
       "        fpr       tpr  threshold\n",
       "58  0.03321  0.687805      0.820\n",
       "59  0.03321  0.695122      0.816\n",
       "60  0.03690  0.695122      0.810\n",
       "61  0.03690  0.700000      0.806"
      ]
     },
     "execution_count": 15,
     "metadata": {},
     "output_type": "execute_result"
    }
   ],
   "source": [
    "roccurve[(roccurve.threshold >= 0.8) & (roccurve.threshold <= 0.82)]"
   ]
  },
  {
   "cell_type": "code",
   "execution_count": 16,
   "id": "7215155c",
   "metadata": {},
   "outputs": [
    {
     "data": {
      "text/html": [
       "<div>\n",
       "<style scoped>\n",
       "    .dataframe tbody tr th:only-of-type {\n",
       "        vertical-align: middle;\n",
       "    }\n",
       "\n",
       "    .dataframe tbody tr th {\n",
       "        vertical-align: top;\n",
       "    }\n",
       "\n",
       "    .dataframe thead th {\n",
       "        text-align: right;\n",
       "    }\n",
       "</style>\n",
       "<table border=\"1\" class=\"dataframe\">\n",
       "  <thead>\n",
       "    <tr style=\"text-align: right;\">\n",
       "      <th></th>\n",
       "      <th>fpr</th>\n",
       "      <th>tpr</th>\n",
       "      <th>threshold</th>\n",
       "    </tr>\n",
       "  </thead>\n",
       "  <tbody>\n",
       "    <tr>\n",
       "      <th>158</th>\n",
       "      <td>0.428044</td>\n",
       "      <td>0.960976</td>\n",
       "      <td>0.320</td>\n",
       "    </tr>\n",
       "    <tr>\n",
       "      <th>159</th>\n",
       "      <td>0.431734</td>\n",
       "      <td>0.960976</td>\n",
       "      <td>0.318</td>\n",
       "    </tr>\n",
       "    <tr>\n",
       "      <th>160</th>\n",
       "      <td>0.431734</td>\n",
       "      <td>0.963415</td>\n",
       "      <td>0.316</td>\n",
       "    </tr>\n",
       "    <tr>\n",
       "      <th>161</th>\n",
       "      <td>0.435424</td>\n",
       "      <td>0.963415</td>\n",
       "      <td>0.314</td>\n",
       "    </tr>\n",
       "    <tr>\n",
       "      <th>162</th>\n",
       "      <td>0.435424</td>\n",
       "      <td>0.965854</td>\n",
       "      <td>0.312</td>\n",
       "    </tr>\n",
       "    <tr>\n",
       "      <th>163</th>\n",
       "      <td>0.439114</td>\n",
       "      <td>0.965854</td>\n",
       "      <td>0.308</td>\n",
       "    </tr>\n",
       "    <tr>\n",
       "      <th>164</th>\n",
       "      <td>0.446494</td>\n",
       "      <td>0.965854</td>\n",
       "      <td>0.306</td>\n",
       "    </tr>\n",
       "    <tr>\n",
       "      <th>165</th>\n",
       "      <td>0.450185</td>\n",
       "      <td>0.968293</td>\n",
       "      <td>0.304</td>\n",
       "    </tr>\n",
       "    <tr>\n",
       "      <th>166</th>\n",
       "      <td>0.457565</td>\n",
       "      <td>0.968293</td>\n",
       "      <td>0.300</td>\n",
       "    </tr>\n",
       "  </tbody>\n",
       "</table>\n",
       "</div>"
      ],
      "text/plain": [
       "          fpr       tpr  threshold\n",
       "158  0.428044  0.960976      0.320\n",
       "159  0.431734  0.960976      0.318\n",
       "160  0.431734  0.963415      0.316\n",
       "161  0.435424  0.963415      0.314\n",
       "162  0.435424  0.965854      0.312\n",
       "163  0.439114  0.965854      0.308\n",
       "164  0.446494  0.965854      0.306\n",
       "165  0.450185  0.968293      0.304\n",
       "166  0.457565  0.968293      0.300"
      ]
     },
     "execution_count": 16,
     "metadata": {},
     "output_type": "execute_result"
    }
   ],
   "source": [
    "roccurve[(roccurve.threshold >= 0.3) & (roccurve.threshold <= 0.32)]"
   ]
  },
  {
   "cell_type": "code",
   "execution_count": 36,
   "id": "ffd3d5a1",
   "metadata": {},
   "outputs": [
    {
     "data": {
      "text/plain": [
       "<matplotlib.legend.Legend at 0x27a7ea6d370>"
      ]
     },
     "execution_count": 36,
     "metadata": {},
     "output_type": "execute_result"
    },
    {
     "data": {
      "image/png": "[encoded data removed]",
      "text/plain": [
       "<Figure size 432x288 with 1 Axes>"
      ]
     },
     "metadata": {
      "needs_background": "light"
     },
     "output_type": "display_data"
    }
   ],
   "source": [
    "plt.plot(fpr, tpr, label='AUC = %0.4f' %auc)\n",
    "plt.plot(fpr, fpr, linestyle = '--', color='k')\n",
    "\n",
    "\n",
    "plt.scatter(x = 0.173432, y = 0.892683, color = 'r',  label = 'threshold')\n",
    "plt.annotate('0.5', xy=[0.173432, 0.922683],  ha = 'center', color='r', size = 11)\n",
    "\n",
    "plt.scatter(x = 0.03690, y = 0.700000, color = 'r')\n",
    "plt.annotate('0.8', xy=[0.0030, 0.710000],  ha = 'center', color='r', size = 11)\n",
    "\n",
    "plt.scatter(x = 0.457565, y = 0.968293, color = 'r')\n",
    "plt.annotate('0.3', xy=[0.457565, 0.998293],  ha = 'center', color='r', size = 11)\n",
    "\n",
    "plt.xlabel('False Positive Rate')\n",
    "plt.ylabel('True Positive Rate')\n",
    "plt.title('ROC Curve')\n",
    "plt.legend()\n",
    "#plt.grid()"
   ]
  },
  {
   "cell_type": "code",
   "execution_count": 41,
   "id": "dd3c5a1a",
   "metadata": {},
   "outputs": [
    {
     "data": {
      "text/html": [
       "<div>\n",
       "<style scoped>\n",
       "    .dataframe tbody tr th:only-of-type {\n",
       "        vertical-align: middle;\n",
       "    }\n",
       "\n",
       "    .dataframe tbody tr th {\n",
       "        vertical-align: top;\n",
       "    }\n",
       "\n",
       "    .dataframe thead th {\n",
       "        text-align: right;\n",
       "    }\n",
       "</style>\n",
       "<table border=\"1\" class=\"dataframe\">\n",
       "  <thead>\n",
       "    <tr style=\"text-align: right;\">\n",
       "      <th></th>\n",
       "      <th>Unnamed: 0</th>\n",
       "      <th>y_pred_proba</th>\n",
       "      <th>y_pred</th>\n",
       "    </tr>\n",
       "  </thead>\n",
       "  <tbody>\n",
       "    <tr>\n",
       "      <th>0</th>\n",
       "      <td>0</td>\n",
       "      <td>0.950</td>\n",
       "      <td>1</td>\n",
       "    </tr>\n",
       "    <tr>\n",
       "      <th>1</th>\n",
       "      <td>1</td>\n",
       "      <td>0.952</td>\n",
       "      <td>1</td>\n",
       "    </tr>\n",
       "    <tr>\n",
       "      <th>2</th>\n",
       "      <td>2</td>\n",
       "      <td>0.372</td>\n",
       "      <td>0</td>\n",
       "    </tr>\n",
       "  </tbody>\n",
       "</table>\n",
       "</div>"
      ],
      "text/plain": [
       "   Unnamed: 0  y_pred_proba  y_pred\n",
       "0           0         0.950       1\n",
       "1           1         0.952       1\n",
       "2           2         0.372       0"
      ]
     },
     "execution_count": 41,
     "metadata": {},
     "output_type": "execute_result"
    }
   ],
   "source": [
    "nilaitest = pd.read_csv('nilai test.csv')\n",
    "nilaitest.head(3)"
   ]
  },
  {
   "cell_type": "code",
   "execution_count": 44,
   "id": "9875aeee",
   "metadata": {},
   "outputs": [
    {
     "data": {
      "text/plain": [
       "Text(0.5, 0, 'Predicted Probability')"
      ]
     },
     "execution_count": 44,
     "metadata": {},
     "output_type": "execute_result"
    },
    {
     "data": {
      "image/png": "[encoded data removed]",
      "text/plain": [
       "<Figure size 432x288 with 1 Axes>"
      ]
     },
     "metadata": {
      "needs_background": "light"
     },
     "output_type": "display_data"
    }
   ],
   "source": [
    "\n",
    "sns.histplot(x=nilaitest.y_pred_proba, kde=True, hue = dh.wd_subclass)\n",
    "\n",
    "plt.axvline(x = 0.5, color = 'r', label = 'threshold = 0.5')\n",
    "plt.axvline(x = 0.3, color = 'r', label = 'threshold = 0.3')\n",
    "plt.axvline(x = 0.8, color = 'r', label = 'threshold = 0.8')\n",
    "\n",
    "plt.annotate('threshold = 0.5', xy=[0.48, 125],  ha = 'center', rotation = 90, color='r', size = 10)\n",
    "plt.annotate('threshold = 0.3', xy=[0.28, 125],  ha = 'center', rotation = 90, color='r', size = 10)\n",
    "plt.annotate('threshold = 0.8', xy=[0.78, 125],  ha = 'center', rotation = 90, color='r', size = 10)\n",
    "\n",
    "plt.xlabel('Predicted Probability')\n",
    "#plt.grid()"
   ]
  },
  {
   "cell_type": "code",
   "execution_count": 46,
   "id": "0b34e0af",
   "metadata": {},
   "outputs": [],
   "source": [
    "kelas = []\n",
    "for i in dh.wd_subclass :\n",
    "    if i == 'Katai putih DA':\n",
    "        kelas.append('Kelas 1')\n",
    "    elif i == 'Katai putih DAZ':\n",
    "        kelas.append('Kelas 0')"
   ]
  },
  {
   "cell_type": "code",
   "execution_count": 47,
   "id": "474385c6",
   "metadata": {},
   "outputs": [
    {
     "data": {
      "text/plain": [
       "Text(0.5, 0, 'Predicted Probability')"
      ]
     },
     "execution_count": 47,
     "metadata": {},
     "output_type": "execute_result"
    },
    {
     "data": {
      "image/png": "[encoded data removed]",
      "text/plain": [
       "<Figure size 432x288 with 1 Axes>"
      ]
     },
     "metadata": {
      "needs_background": "light"
     },
     "output_type": "display_data"
    }
   ],
   "source": [
    "\n",
    "sns.histplot(x=nilaitest.y_pred_proba, kde=True, hue = kelas)\n",
    "\n",
    "plt.axvline(x = 0.5, color = 'r', label = 'threshold = 0.5')\n",
    "plt.axvline(x = 0.3, color = 'r', label = 'threshold = 0.3')\n",
    "plt.axvline(x = 0.8, color = 'r', label = 'threshold = 0.8')\n",
    "\n",
    "plt.annotate('threshold = 0.5', xy=[0.48, 125],  ha = 'center', rotation = 90, color='r', size = 10)\n",
    "plt.annotate('threshold = 0.3', xy=[0.28, 125],  ha = 'center', rotation = 90, color='r', size = 10)\n",
    "plt.annotate('threshold = 0.8', xy=[0.78, 125],  ha = 'center', rotation = 90, color='r', size = 10)\n",
    "\n",
    "plt.xlabel('Predicted Probability')\n",
    "#plt.grid()"
   ]
  },
  {
   "cell_type": "code",
   "execution_count": null,
   "id": "e3779eca",
   "metadata": {},
   "outputs": [],
   "source": []
  }
 ],
 "metadata": {
  "kernelspec": {
   "display_name": "Python 3 (ipykernel)",
   "language": "python",
   "name": "python3"
  },
  "language_info": {
   "codemirror_mode": {
    "name": "ipython",
    "version": 3
   },
   "file_extension": ".py",
   "mimetype": "text/x-python",
   "name": "python",
   "nbconvert_exporter": "python",
   "pygments_lexer": "ipython3",
   "version": "3.9.7"
  }
 },
 "nbformat": 4,
 "nbformat_minor": 5
}
