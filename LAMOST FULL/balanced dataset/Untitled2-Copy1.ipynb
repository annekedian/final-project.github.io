{
 "cells": [
  {
   "cell_type": "code",
   "execution_count": 10,
   "id": "3b535600",
   "metadata": {},
   "outputs": [],
   "source": [
    "import pandas as pd\n",
    "import matplotlib.pyplot as plt\n",
    "import seaborn as sns\n",
    "import numpy as np"
   ]
  },
  {
   "cell_type": "code",
   "execution_count": 11,
   "id": "77f282ca",
   "metadata": {},
   "outputs": [],
   "source": [
    "data = pd.read_csv('data olah.csv')\n",
    "data = data.drop('Unnamed: 0', axis = 1)"
   ]
  },
  {
   "cell_type": "code",
   "execution_count": 12,
   "id": "4c8c1e1f",
   "metadata": {},
   "outputs": [
    {
     "data": {
      "text/html": [
       "<div>\n",
       "<style scoped>\n",
       "    .dataframe tbody tr th:only-of-type {\n",
       "        vertical-align: middle;\n",
       "    }\n",
       "\n",
       "    .dataframe tbody tr th {\n",
       "        vertical-align: top;\n",
       "    }\n",
       "\n",
       "    .dataframe thead th {\n",
       "        text-align: right;\n",
       "    }\n",
       "</style>\n",
       "<table border=\"1\" class=\"dataframe\">\n",
       "  <thead>\n",
       "    <tr style=\"text-align: right;\">\n",
       "      <th></th>\n",
       "      <th>3847.6904</th>\n",
       "      <th>3848.5764</th>\n",
       "      <th>3849.4626</th>\n",
       "      <th>3850.349</th>\n",
       "      <th>3851.2358</th>\n",
       "      <th>3852.1228</th>\n",
       "      <th>3853.0098</th>\n",
       "      <th>3853.897</th>\n",
       "      <th>3854.7847</th>\n",
       "      <th>3855.6724</th>\n",
       "      <th>...</th>\n",
       "      <th>6688.059</th>\n",
       "      <th>6689.5996</th>\n",
       "      <th>6691.14</th>\n",
       "      <th>6692.6807</th>\n",
       "      <th>6694.222</th>\n",
       "      <th>6695.7637</th>\n",
       "      <th>6697.3057</th>\n",
       "      <th>6698.8477</th>\n",
       "      <th>6700.3906</th>\n",
       "      <th>wd_subclass</th>\n",
       "    </tr>\n",
       "  </thead>\n",
       "  <tbody>\n",
       "    <tr>\n",
       "      <th>0</th>\n",
       "      <td>24.728888</td>\n",
       "      <td>27.64467</td>\n",
       "      <td>24.893251</td>\n",
       "      <td>27.215405</td>\n",
       "      <td>26.310278</td>\n",
       "      <td>24.307577</td>\n",
       "      <td>29.245514</td>\n",
       "      <td>29.070126</td>\n",
       "      <td>30.490877</td>\n",
       "      <td>35.01845</td>\n",
       "      <td>...</td>\n",
       "      <td>17.665596</td>\n",
       "      <td>17.521635</td>\n",
       "      <td>18.051397</td>\n",
       "      <td>17.52665</td>\n",
       "      <td>17.180534</td>\n",
       "      <td>17.99281</td>\n",
       "      <td>17.179358</td>\n",
       "      <td>17.089285</td>\n",
       "      <td>17.443895</td>\n",
       "      <td>DA</td>\n",
       "    </tr>\n",
       "    <tr>\n",
       "      <th>1</th>\n",
       "      <td>1290.423500</td>\n",
       "      <td>1190.24150</td>\n",
       "      <td>1224.700700</td>\n",
       "      <td>1160.337400</td>\n",
       "      <td>1100.303100</td>\n",
       "      <td>1088.031500</td>\n",
       "      <td>1152.384600</td>\n",
       "      <td>1154.704500</td>\n",
       "      <td>1115.064600</td>\n",
       "      <td>1319.14640</td>\n",
       "      <td>...</td>\n",
       "      <td>150.075820</td>\n",
       "      <td>150.250370</td>\n",
       "      <td>142.590470</td>\n",
       "      <td>143.92473</td>\n",
       "      <td>148.038850</td>\n",
       "      <td>154.53412</td>\n",
       "      <td>153.505140</td>\n",
       "      <td>149.336000</td>\n",
       "      <td>144.941860</td>\n",
       "      <td>DA</td>\n",
       "    </tr>\n",
       "    <tr>\n",
       "      <th>2</th>\n",
       "      <td>9819.987000</td>\n",
       "      <td>9687.30800</td>\n",
       "      <td>9957.726000</td>\n",
       "      <td>9896.959000</td>\n",
       "      <td>10370.940000</td>\n",
       "      <td>10643.110000</td>\n",
       "      <td>10709.778000</td>\n",
       "      <td>11047.445000</td>\n",
       "      <td>11019.559000</td>\n",
       "      <td>10969.06800</td>\n",
       "      <td>...</td>\n",
       "      <td>1462.006700</td>\n",
       "      <td>1473.770300</td>\n",
       "      <td>1483.637200</td>\n",
       "      <td>1470.29220</td>\n",
       "      <td>1457.449600</td>\n",
       "      <td>1450.70750</td>\n",
       "      <td>1469.381200</td>\n",
       "      <td>1475.331200</td>\n",
       "      <td>1460.837900</td>\n",
       "      <td>DA</td>\n",
       "    </tr>\n",
       "    <tr>\n",
       "      <th>3</th>\n",
       "      <td>1093.884500</td>\n",
       "      <td>1043.11580</td>\n",
       "      <td>1102.687500</td>\n",
       "      <td>1149.345100</td>\n",
       "      <td>1114.538500</td>\n",
       "      <td>1140.821400</td>\n",
       "      <td>1153.040000</td>\n",
       "      <td>1195.502800</td>\n",
       "      <td>1167.717200</td>\n",
       "      <td>1147.95520</td>\n",
       "      <td>...</td>\n",
       "      <td>136.972170</td>\n",
       "      <td>140.127240</td>\n",
       "      <td>140.010470</td>\n",
       "      <td>140.37068</td>\n",
       "      <td>137.124980</td>\n",
       "      <td>138.57338</td>\n",
       "      <td>135.967210</td>\n",
       "      <td>135.260400</td>\n",
       "      <td>138.557480</td>\n",
       "      <td>DA</td>\n",
       "    </tr>\n",
       "    <tr>\n",
       "      <th>4</th>\n",
       "      <td>1945.595200</td>\n",
       "      <td>1919.27200</td>\n",
       "      <td>1890.047000</td>\n",
       "      <td>2007.562900</td>\n",
       "      <td>1974.344600</td>\n",
       "      <td>1933.755500</td>\n",
       "      <td>2028.300500</td>\n",
       "      <td>2040.959200</td>\n",
       "      <td>2060.863300</td>\n",
       "      <td>2075.57150</td>\n",
       "      <td>...</td>\n",
       "      <td>211.261810</td>\n",
       "      <td>214.697770</td>\n",
       "      <td>217.529720</td>\n",
       "      <td>214.75264</td>\n",
       "      <td>221.029900</td>\n",
       "      <td>217.97780</td>\n",
       "      <td>217.672780</td>\n",
       "      <td>212.324870</td>\n",
       "      <td>216.794740</td>\n",
       "      <td>DA</td>\n",
       "    </tr>\n",
       "  </tbody>\n",
       "</table>\n",
       "<p>5 rows × 2411 columns</p>\n",
       "</div>"
      ],
      "text/plain": [
       "     3847.6904   3848.5764    3849.4626     3850.349     3851.2358  \\\n",
       "0    24.728888    27.64467    24.893251    27.215405     26.310278   \n",
       "1  1290.423500  1190.24150  1224.700700  1160.337400   1100.303100   \n",
       "2  9819.987000  9687.30800  9957.726000  9896.959000  10370.940000   \n",
       "3  1093.884500  1043.11580  1102.687500  1149.345100   1114.538500   \n",
       "4  1945.595200  1919.27200  1890.047000  2007.562900   1974.344600   \n",
       "\n",
       "      3852.1228     3853.0098      3853.897     3854.7847    3855.6724  ...  \\\n",
       "0     24.307577     29.245514     29.070126     30.490877     35.01845  ...   \n",
       "1   1088.031500   1152.384600   1154.704500   1115.064600   1319.14640  ...   \n",
       "2  10643.110000  10709.778000  11047.445000  11019.559000  10969.06800  ...   \n",
       "3   1140.821400   1153.040000   1195.502800   1167.717200   1147.95520  ...   \n",
       "4   1933.755500   2028.300500   2040.959200   2060.863300   2075.57150  ...   \n",
       "\n",
       "      6688.059    6689.5996      6691.14   6692.6807     6694.222   6695.7637  \\\n",
       "0    17.665596    17.521635    18.051397    17.52665    17.180534    17.99281   \n",
       "1   150.075820   150.250370   142.590470   143.92473   148.038850   154.53412   \n",
       "2  1462.006700  1473.770300  1483.637200  1470.29220  1457.449600  1450.70750   \n",
       "3   136.972170   140.127240   140.010470   140.37068   137.124980   138.57338   \n",
       "4   211.261810   214.697770   217.529720   214.75264   221.029900   217.97780   \n",
       "\n",
       "     6697.3057    6698.8477    6700.3906  wd_subclass  \n",
       "0    17.179358    17.089285    17.443895           DA  \n",
       "1   153.505140   149.336000   144.941860           DA  \n",
       "2  1469.381200  1475.331200  1460.837900           DA  \n",
       "3   135.967210   135.260400   138.557480           DA  \n",
       "4   217.672780   212.324870   216.794740           DA  \n",
       "\n",
       "[5 rows x 2411 columns]"
      ]
     },
     "execution_count": 12,
     "metadata": {},
     "output_type": "execute_result"
    }
   ],
   "source": [
    "data.drop(data.columns[2410:3579], axis=1, inplace=True)\n",
    "data.head(5)"
   ]
  },
  {
   "cell_type": "code",
   "execution_count": 13,
   "id": "7aae0ccf",
   "metadata": {},
   "outputs": [],
   "source": [
    "dadaz = [\n",
    "    'DA' \n",
    "]\n",
    "\n",
    "data['wd_subclass'] = np.where(data['wd_subclass'].isin(dadaz), 1, 0)"
   ]
  },
  {
   "cell_type": "code",
   "execution_count": 14,
   "id": "f33bf43a",
   "metadata": {},
   "outputs": [
    {
     "data": {
      "text/plain": [
       "1    57.336078\n",
       "0    42.663922\n",
       "Name: wd_subclass, dtype: float64"
      ]
     },
     "execution_count": 14,
     "metadata": {},
     "output_type": "execute_result"
    }
   ],
   "source": [
    "data['wd_subclass'].value_counts(normalize=True)*100"
   ]
  },
  {
   "cell_type": "markdown",
   "id": "43fb698d",
   "metadata": {},
   "source": [
    "# Train test split"
   ]
  },
  {
   "cell_type": "code",
   "execution_count": 15,
   "id": "4bd72c23",
   "metadata": {},
   "outputs": [],
   "source": [
    "from sklearn.model_selection import train_test_split"
   ]
  },
  {
   "cell_type": "code",
   "execution_count": 16,
   "id": "189b692a",
   "metadata": {},
   "outputs": [],
   "source": [
    "X = data.drop('wd_subclass', axis=1)\n",
    "y = data['wd_subclass']\n",
    "\n",
    "X_train, X_test, y_train, y_test = train_test_split(X, y, test_size=0.2, random_state=42)"
   ]
  },
  {
   "cell_type": "code",
   "execution_count": 17,
   "id": "acf4a369",
   "metadata": {},
   "outputs": [
    {
     "data": {
      "text/plain": [
       "((2720, 2410), (681, 2410))"
      ]
     },
     "execution_count": 17,
     "metadata": {},
     "output_type": "execute_result"
    }
   ],
   "source": [
    "X_train.shape, X_test.shape"
   ]
  },
  {
   "cell_type": "code",
   "execution_count": 18,
   "id": "03b2f010",
   "metadata": {},
   "outputs": [
    {
     "data": {
      "text/html": [
       "<style>#sk-container-id-1 {color: black;background-color: white;}#sk-container-id-1 pre{padding: 0;}#sk-container-id-1 div.sk-toggleable {background-color: white;}#sk-container-id-1 label.sk-toggleable__label {cursor: pointer;display: block;width: 100%;margin-bottom: 0;padding: 0.3em;box-sizing: border-box;text-align: center;}#sk-container-id-1 label.sk-toggleable__label-arrow:before {content: \"▸\";float: left;margin-right: 0.25em;color: #696969;}#sk-container-id-1 label.sk-toggleable__label-arrow:hover:before {color: black;}#sk-container-id-1 div.sk-estimator:hover label.sk-toggleable__label-arrow:before {color: black;}#sk-container-id-1 div.sk-toggleable__content {max-height: 0;max-width: 0;overflow: hidden;text-align: left;background-color: #f0f8ff;}#sk-container-id-1 div.sk-toggleable__content pre {margin: 0.2em;color: black;border-radius: 0.25em;background-color: #f0f8ff;}#sk-container-id-1 input.sk-toggleable__control:checked~div.sk-toggleable__content {max-height: 200px;max-width: 100%;overflow: auto;}#sk-container-id-1 input.sk-toggleable__control:checked~label.sk-toggleable__label-arrow:before {content: \"▾\";}#sk-container-id-1 div.sk-estimator input.sk-toggleable__control:checked~label.sk-toggleable__label {background-color: #d4ebff;}#sk-container-id-1 div.sk-label input.sk-toggleable__control:checked~label.sk-toggleable__label {background-color: #d4ebff;}#sk-container-id-1 input.sk-hidden--visually {border: 0;clip: rect(1px 1px 1px 1px);clip: rect(1px, 1px, 1px, 1px);height: 1px;margin: -1px;overflow: hidden;padding: 0;position: absolute;width: 1px;}#sk-container-id-1 div.sk-estimator {font-family: monospace;background-color: #f0f8ff;border: 1px dotted black;border-radius: 0.25em;box-sizing: border-box;margin-bottom: 0.5em;}#sk-container-id-1 div.sk-estimator:hover {background-color: #d4ebff;}#sk-container-id-1 div.sk-parallel-item::after {content: \"\";width: 100%;border-bottom: 1px solid gray;flex-grow: 1;}#sk-container-id-1 div.sk-label:hover label.sk-toggleable__label {background-color: #d4ebff;}#sk-container-id-1 div.sk-serial::before {content: \"\";position: absolute;border-left: 1px solid gray;box-sizing: border-box;top: 0;bottom: 0;left: 50%;z-index: 0;}#sk-container-id-1 div.sk-serial {display: flex;flex-direction: column;align-items: center;background-color: white;padding-right: 0.2em;padding-left: 0.2em;position: relative;}#sk-container-id-1 div.sk-item {position: relative;z-index: 1;}#sk-container-id-1 div.sk-parallel {display: flex;align-items: stretch;justify-content: center;background-color: white;position: relative;}#sk-container-id-1 div.sk-item::before, #sk-container-id-1 div.sk-parallel-item::before {content: \"\";position: absolute;border-left: 1px solid gray;box-sizing: border-box;top: 0;bottom: 0;left: 50%;z-index: -1;}#sk-container-id-1 div.sk-parallel-item {display: flex;flex-direction: column;z-index: 1;position: relative;background-color: white;}#sk-container-id-1 div.sk-parallel-item:first-child::after {align-self: flex-end;width: 50%;}#sk-container-id-1 div.sk-parallel-item:last-child::after {align-self: flex-start;width: 50%;}#sk-container-id-1 div.sk-parallel-item:only-child::after {width: 0;}#sk-container-id-1 div.sk-dashed-wrapped {border: 1px dashed gray;margin: 0 0.4em 0.5em 0.4em;box-sizing: border-box;padding-bottom: 0.4em;background-color: white;}#sk-container-id-1 div.sk-label label {font-family: monospace;font-weight: bold;display: inline-block;line-height: 1.2em;}#sk-container-id-1 div.sk-label-container {text-align: center;}#sk-container-id-1 div.sk-container {/* jupyter's `normalize.less` sets `[hidden] { display: none; }` but bootstrap.min.css set `[hidden] { display: none !important; }` so we also need the `!important` here to be able to override the default hidden behavior on the sphinx rendered scikit-learn.org. See: https://github.com/scikit-learn/scikit-learn/issues/21755 */display: inline-block !important;position: relative;}#sk-container-id-1 div.sk-text-repr-fallback {display: none;}</style><div id=\"sk-container-id-1\" class=\"sk-top-container\"><div class=\"sk-text-repr-fallback\"><pre>RandomForestClassifier(max_features=500, n_estimators=200)</pre><b>In a Jupyter environment, please rerun this cell to show the HTML representation or trust the notebook. <br />On GitHub, the HTML representation is unable to render, please try loading this page with nbviewer.org.</b></div><div class=\"sk-container\" hidden><div class=\"sk-item\"><div class=\"sk-estimator sk-toggleable\"><input class=\"sk-toggleable__control sk-hidden--visually\" id=\"sk-estimator-id-1\" type=\"checkbox\" checked><label for=\"sk-estimator-id-1\" class=\"sk-toggleable__label sk-toggleable__label-arrow\">RandomForestClassifier</label><div class=\"sk-toggleable__content\"><pre>RandomForestClassifier(max_features=500, n_estimators=200)</pre></div></div></div></div></div>"
      ],
      "text/plain": [
       "RandomForestClassifier(max_features=500, n_estimators=200)"
      ]
     },
     "execution_count": 18,
     "metadata": {},
     "output_type": "execute_result"
    }
   ],
   "source": [
    "from sklearn.ensemble import RandomForestClassifier\n",
    "from sklearn.metrics import roc_curve, roc_auc_score\n",
    "\n",
    "\n",
    "rfc = RandomForestClassifier(n_estimators=200, max_features = 500)\n",
    "rfc.fit(X_train, y_train)"
   ]
  },
  {
   "cell_type": "code",
   "execution_count": 19,
   "id": "0b2601d9",
   "metadata": {},
   "outputs": [
    {
     "data": {
      "text/html": [
       "<div>\n",
       "<style scoped>\n",
       "    .dataframe tbody tr th:only-of-type {\n",
       "        vertical-align: middle;\n",
       "    }\n",
       "\n",
       "    .dataframe tbody tr th {\n",
       "        vertical-align: top;\n",
       "    }\n",
       "\n",
       "    .dataframe thead th {\n",
       "        text-align: right;\n",
       "    }\n",
       "</style>\n",
       "<table border=\"1\" class=\"dataframe\">\n",
       "  <thead>\n",
       "    <tr style=\"text-align: right;\">\n",
       "      <th></th>\n",
       "      <th>feature</th>\n",
       "      <th>importance</th>\n",
       "    </tr>\n",
       "  </thead>\n",
       "  <tbody>\n",
       "    <tr>\n",
       "      <th>47</th>\n",
       "      <td>3889.5566</td>\n",
       "      <td>0.047520</td>\n",
       "    </tr>\n",
       "    <tr>\n",
       "      <th>48</th>\n",
       "      <td>3890.4524</td>\n",
       "      <td>0.028267</td>\n",
       "    </tr>\n",
       "    <tr>\n",
       "      <th>46</th>\n",
       "      <td>3888.6611</td>\n",
       "      <td>0.027082</td>\n",
       "    </tr>\n",
       "  </tbody>\n",
       "</table>\n",
       "</div>"
      ],
      "text/plain": [
       "      feature  importance\n",
       "47  3889.5566    0.047520\n",
       "48  3890.4524    0.028267\n",
       "46  3888.6611    0.027082"
      ]
     },
     "execution_count": 19,
     "metadata": {},
     "output_type": "execute_result"
    }
   ],
   "source": [
    "arr_feature_importances = rfc.feature_importances_\n",
    "arr_feature_names = X_train.columns.values\n",
    "    \n",
    "df_feature_importance = pd.DataFrame(index=range(len(arr_feature_importances)), columns=['feature', 'importance'])\n",
    "df_feature_importance['feature'] = arr_feature_names\n",
    "df_feature_importance['importance'] = arr_feature_importances\n",
    "df_all_features = df_feature_importance.sort_values(by='importance', ascending=False)\n",
    "df_all_features.head(3)"
   ]
  },
  {
   "cell_type": "code",
   "execution_count": 20,
   "id": "e9db3b74",
   "metadata": {},
   "outputs": [],
   "source": [
    "y_pred_proba = rfc.predict_proba(X_test)[:][:,1]\n",
    "\n",
    "df_actual_predicted = pd.concat([pd.DataFrame(np.array(y_test), columns=['y_actual']), pd.DataFrame(y_pred_proba, columns=['y_pred_proba'])], axis=1)\n",
    "df_actual_predicted.index = y_test.index"
   ]
  },
  {
   "cell_type": "code",
   "execution_count": 21,
   "id": "bd0b2095",
   "metadata": {},
   "outputs": [
    {
     "data": {
      "text/plain": [
       "<matplotlib.legend.Legend at 0x21ed1ccf1f0>"
      ]
     },
     "execution_count": 21,
     "metadata": {},
     "output_type": "execute_result"
    },
    {
     "data": {
      "image/png": "[encoded data removed]",
      "text/plain": [
       "<Figure size 432x288 with 1 Axes>"
      ]
     },
     "metadata": {
      "needs_background": "light"
     },
     "output_type": "display_data"
    }
   ],
   "source": [
    "fpr, tpr, tr = roc_curve(df_actual_predicted['y_actual'], df_actual_predicted['y_pred_proba'])\n",
    "auc = roc_auc_score(df_actual_predicted['y_actual'], df_actual_predicted['y_pred_proba'])\n",
    "\n",
    "plt.plot(fpr, tpr, label='AUC = %0.4f' %auc)\n",
    "plt.plot(fpr, fpr, linestyle = '--', color='k')\n",
    "plt.xlabel('False Positive Rate')\n",
    "plt.ylabel('True Positive Rate')\n",
    "plt.title('ROC Curve')\n",
    "plt.legend()"
   ]
  },
  {
   "cell_type": "code",
   "execution_count": 22,
   "id": "14a0a51b",
   "metadata": {},
   "outputs": [
    {
     "data": {
      "text/html": [
       "<div>\n",
       "<style scoped>\n",
       "    .dataframe tbody tr th:only-of-type {\n",
       "        vertical-align: middle;\n",
       "    }\n",
       "\n",
       "    .dataframe tbody tr th {\n",
       "        vertical-align: top;\n",
       "    }\n",
       "\n",
       "    .dataframe thead th {\n",
       "        text-align: right;\n",
       "    }\n",
       "</style>\n",
       "<table border=\"1\" class=\"dataframe\">\n",
       "  <thead>\n",
       "    <tr style=\"text-align: right;\">\n",
       "      <th></th>\n",
       "      <th>fpr</th>\n",
       "      <th>tpr</th>\n",
       "      <th>threshold</th>\n",
       "    </tr>\n",
       "  </thead>\n",
       "  <tbody>\n",
       "    <tr>\n",
       "      <th>74</th>\n",
       "      <td>0.151292</td>\n",
       "      <td>0.868293</td>\n",
       "      <td>0.520</td>\n",
       "    </tr>\n",
       "    <tr>\n",
       "      <th>75</th>\n",
       "      <td>0.154982</td>\n",
       "      <td>0.870732</td>\n",
       "      <td>0.515</td>\n",
       "    </tr>\n",
       "    <tr>\n",
       "      <th>76</th>\n",
       "      <td>0.154982</td>\n",
       "      <td>0.878049</td>\n",
       "      <td>0.510</td>\n",
       "    </tr>\n",
       "    <tr>\n",
       "      <th>77</th>\n",
       "      <td>0.162362</td>\n",
       "      <td>0.885366</td>\n",
       "      <td>0.505</td>\n",
       "    </tr>\n",
       "    <tr>\n",
       "      <th>78</th>\n",
       "      <td>0.162362</td>\n",
       "      <td>0.890244</td>\n",
       "      <td>0.490</td>\n",
       "    </tr>\n",
       "  </tbody>\n",
       "</table>\n",
       "</div>"
      ],
      "text/plain": [
       "         fpr       tpr  threshold\n",
       "74  0.151292  0.868293      0.520\n",
       "75  0.154982  0.870732      0.515\n",
       "76  0.154982  0.878049      0.510\n",
       "77  0.162362  0.885366      0.505\n",
       "78  0.162362  0.890244      0.490"
      ]
     },
     "execution_count": 22,
     "metadata": {},
     "output_type": "execute_result"
    }
   ],
   "source": [
    "roccurve = pd.DataFrame({'fpr' : fpr,\n",
    "                  'tpr' : tpr,\n",
    "                  'threshold' : tr})\n",
    "roccurve[(roccurve.threshold >= 0.49) & (roccurve.threshold <= 0.52)]"
   ]
  },
  {
   "cell_type": "code",
   "execution_count": 23,
   "id": "7a2ea326",
   "metadata": {},
   "outputs": [
    {
     "data": {
      "image/png": "[encoded data removed]",
      "text/plain": [
       "<Figure size 432x288 with 1 Axes>"
      ]
     },
     "metadata": {
      "needs_background": "light"
     },
     "output_type": "display_data"
    }
   ],
   "source": [
    "plt.plot(fpr, tpr, label='AUC = %0.4f' %auc)\n",
    "plt.plot(fpr, fpr, linestyle = '--', color='k')\n",
    "plt.scatter(x = 0.169742, y = 0.892683, color = 'r',  label = 'threshold')\n",
    "plt.annotate('0.5', xy=[0.169742, 0.922683],  ha = 'center', color='r', size = 11)\n",
    "plt.xlabel('False Positive Rate')\n",
    "plt.ylabel('True Positive Rate')\n",
    "plt.title('ROC Curve')\n",
    "plt.legend()\n",
    "plt.grid()"
   ]
  },
  {
   "cell_type": "code",
   "execution_count": 24,
   "id": "106298f6",
   "metadata": {},
   "outputs": [],
   "source": [
    "y_pred = rfc.predict(X_test)"
   ]
  },
  {
   "cell_type": "code",
   "execution_count": 25,
   "id": "f36cb89a",
   "metadata": {},
   "outputs": [
    {
     "ename": "NameError",
     "evalue": "name 'y_pred_proba_test' is not defined",
     "output_type": "error",
     "traceback": [
      "\u001b[1;31m---------------------------------------------------------------------------\u001b[0m",
      "\u001b[1;31mNameError\u001b[0m                                 Traceback (most recent call last)",
      "\u001b[1;32m~\\AppData\\Local\\Temp/ipykernel_15320/198554781.py\u001b[0m in \u001b[0;36m<module>\u001b[1;34m\u001b[0m\n\u001b[0;32m      1\u001b[0m \u001b[1;31m#plt.figure(figsize=(14,7))\u001b[0m\u001b[1;33m\u001b[0m\u001b[1;33m\u001b[0m\u001b[0m\n\u001b[0;32m      2\u001b[0m \u001b[1;31m#sns.histplot(x=1 - y_pred_proba_test,  bins = 50, color = 'firebrick')\u001b[0m\u001b[1;33m\u001b[0m\u001b[1;33m\u001b[0m\u001b[0m\n\u001b[1;32m----> 3\u001b[1;33m \u001b[0msns\u001b[0m\u001b[1;33m.\u001b[0m\u001b[0mhistplot\u001b[0m\u001b[1;33m(\u001b[0m\u001b[0mx\u001b[0m\u001b[1;33m=\u001b[0m\u001b[1;36m1\u001b[0m \u001b[1;33m-\u001b[0m \u001b[0my_pred_proba_test\u001b[0m\u001b[1;33m,\u001b[0m  \u001b[0mbins\u001b[0m \u001b[1;33m=\u001b[0m \u001b[1;36m15\u001b[0m\u001b[1;33m,\u001b[0m \u001b[0mcolor\u001b[0m \u001b[1;33m=\u001b[0m \u001b[1;34m'firebrick'\u001b[0m\u001b[1;33m,\u001b[0m \u001b[0mkde\u001b[0m\u001b[1;33m=\u001b[0m\u001b[1;32mTrue\u001b[0m\u001b[1;33m)\u001b[0m\u001b[1;33m\u001b[0m\u001b[1;33m\u001b[0m\u001b[0m\n\u001b[0m\u001b[0;32m      4\u001b[0m \u001b[0mplt\u001b[0m\u001b[1;33m.\u001b[0m\u001b[0mxlabel\u001b[0m\u001b[1;33m(\u001b[0m\u001b[1;34m'Predicted Probability of Correct Class'\u001b[0m\u001b[1;33m)\u001b[0m\u001b[1;33m\u001b[0m\u001b[1;33m\u001b[0m\u001b[0m\n\u001b[0;32m      5\u001b[0m \u001b[0mplt\u001b[0m\u001b[1;33m.\u001b[0m\u001b[0mylabel\u001b[0m\u001b[1;33m(\u001b[0m\u001b[1;34m'Loss'\u001b[0m\u001b[1;33m)\u001b[0m\u001b[1;33m\u001b[0m\u001b[1;33m\u001b[0m\u001b[0m\n",
      "\u001b[1;31mNameError\u001b[0m: name 'y_pred_proba_test' is not defined"
     ]
    }
   ],
   "source": [
    "#plt.figure(figsize=(14,7))\n",
    "#sns.histplot(x=1 - y_pred_proba_test,  bins = 50, color = 'firebrick')\n",
    "sns.histplot(x=1 - y_pred_proba_test,  bins = 15, color = 'firebrick', kde=True)\n",
    "plt.xlabel('Predicted Probability of Correct Class')\n",
    "plt.ylabel('Loss')\n",
    "plt.title('Cross-Entropy')\n",
    "plt.grid()"
   ]
  },
  {
   "cell_type": "code",
   "execution_count": null,
   "id": "cfe27760",
   "metadata": {},
   "outputs": [],
   "source": [
    "wd_subclass = []\n",
    "for i in y_test :\n",
    "    if i == 0:\n",
    "        wd_subclass.append('Katai putih DAZ')\n",
    "    elif i == 1 :\n",
    "        wd_subclass.append('Katai putih DA')\n",
    "dh = pd.DataFrame({'wd_subclass' : wd_subclass})"
   ]
  },
  {
   "cell_type": "code",
   "execution_count": null,
   "id": "442d0250",
   "metadata": {},
   "outputs": [],
   "source": [
    "#plt.figure(figsize=(14,7))\n",
    "sns.histplot(x=y_pred_proba_test, kde=True, hue = dh.wd_subclass, palette = 'Set2_r')\n",
    "plt.axvline(x = 0.5, color = 'r', label = 'threshold = 0.5')\n",
    "plt.annotate('threshold = 0.5', xy=[0.48, 125],  ha = 'center', rotation = 90, color='r', size = 10)\n",
    "plt.xlabel('Predicted Probability')\n",
    "plt.grid()"
   ]
  },
  {
   "cell_type": "code",
   "execution_count": null,
   "id": "9c8944d4",
   "metadata": {},
   "outputs": [],
   "source": [
    "y_pred_proba_test = rfc.predict_proba(X_test)[:][:,1]\n",
    "y_pred_test = rfc.predict(X_test)\n",
    "\n",
    "test = pd.DataFrame({'y_pred_proba' : y_pred_proba_test,\n",
    "                    'y_pred' : y_pred_test})\n",
    "test.head(3)"
   ]
  },
  {
   "cell_type": "code",
   "execution_count": null,
   "id": "5ed1c9c4",
   "metadata": {},
   "outputs": [],
   "source": [
    "y_pred_proba_train = rfc.predict_proba(X_train)[:][:,1]\n",
    "y_pred_train = rfc.predict(X_train)\n",
    "\n",
    "test = pd.DataFrame({'y_pred_proba' : y_pred_proba_train,\n",
    "                    'y_pred' : y_pred_train})\n",
    "test.head(3)"
   ]
  },
  {
   "cell_type": "code",
   "execution_count": null,
   "id": "b931fc12",
   "metadata": {},
   "outputs": [],
   "source": [
    "y_pred_proba = rfc.predict_proba(X_test)\n",
    "y_pred_proba"
   ]
  },
  {
   "cell_type": "code",
   "execution_count": null,
   "id": "206e7f01",
   "metadata": {},
   "outputs": [],
   "source": [
    "y_pred_proba_test"
   ]
  },
  {
   "cell_type": "code",
   "execution_count": null,
   "id": "3654468a",
   "metadata": {},
   "outputs": [],
   "source": [
    "y_pred_0 = rfc.predict_proba(X_test)[:][:,0]"
   ]
  },
  {
   "cell_type": "code",
   "execution_count": null,
   "id": "eb20367e",
   "metadata": {},
   "outputs": [],
   "source": [
    "pp=1"
   ]
  },
  {
   "cell_type": "markdown",
   "id": "5cb44e77",
   "metadata": {},
   "source": [
    "# Properti data"
   ]
  },
  {
   "cell_type": "code",
   "execution_count": null,
   "id": "fde684a3",
   "metadata": {},
   "outputs": [],
   "source": [
    "print(len(data[data.wd_subclass == 'DA']))\n",
    "print(len(data[data.wd_subclass == 'DAZ']))"
   ]
  },
  {
   "cell_type": "code",
   "execution_count": null,
   "id": "92729a0b",
   "metadata": {},
   "outputs": [],
   "source": [
    "1950 + 1451"
   ]
  },
  {
   "cell_type": "code",
   "execution_count": null,
   "id": "b7e02c6d",
   "metadata": {},
   "outputs": [],
   "source": [
    "#rerata SNR\n",
    "\n",
    "obsid = pd.read_csv('data olah dg scid.csv')\n",
    "obsid.head()"
   ]
  },
  {
   "cell_type": "code",
   "execution_count": null,
   "id": "9a4fad43",
   "metadata": {},
   "outputs": [],
   "source": [
    "lamost = pd.read_csv('lamost_full')\n",
    "lamost.head()"
   ]
  },
  {
   "cell_type": "code",
   "execution_count": null,
   "id": "60bc6585",
   "metadata": {},
   "outputs": [],
   "source": [
    "fluxobsid = []\n",
    "for i in lamost.index:\n",
    "    fluxobsid.append('FLUX'+str(lamost.obsid[i]))\n",
    "lamost['index'] = fluxobsid"
   ]
  },
  {
   "cell_type": "code",
   "execution_count": null,
   "id": "a92cfd62",
   "metadata": {},
   "outputs": [],
   "source": [
    "df = pd.merge(lamost,obsid, how='inner')"
   ]
  },
  {
   "cell_type": "code",
   "execution_count": null,
   "id": "f8e0be92",
   "metadata": {},
   "outputs": [],
   "source": [
    "lamost = df.copy()\n",
    "snr = lamost[(lamost.snru != -9999) & (lamost.snru != 9999) \n",
    "             & (lamost.snrg != -9999) & (lamost.snrg != 9999) \n",
    "             & (lamost.snrr != -9999) & (lamost.snrr != 9999) \n",
    "             & (lamost.snri != -9999) & (lamost.snri != 9999) \n",
    "             & (lamost.snrz != -9999) & (lamost.snrz != 9999)]"
   ]
  },
  {
   "cell_type": "code",
   "execution_count": null,
   "id": "81f2ea1a",
   "metadata": {},
   "outputs": [],
   "source": [
    "meansnr = (snr.snru + snr.snrg + snr.snrr + snr.snri + snr.snrz)/5\n",
    "snr['meansnr'] = meansnr"
   ]
  },
  {
   "cell_type": "code",
   "execution_count": null,
   "id": "f3650e6c",
   "metadata": {},
   "outputs": [],
   "source": [
    "snr.meansnr[snr.meansnr<= 100].mean()"
   ]
  },
  {
   "cell_type": "code",
   "execution_count": null,
   "id": "9455ddbf",
   "metadata": {},
   "outputs": [],
   "source": [
    "snr.meansnr.min()"
   ]
  },
  {
   "cell_type": "code",
   "execution_count": null,
   "id": "9b6fd9b8",
   "metadata": {},
   "outputs": [],
   "source": [
    "len(snr[snr.meansnr <=100])"
   ]
  },
  {
   "cell_type": "code",
   "execution_count": null,
   "id": "4bc4eb95",
   "metadata": {},
   "outputs": [],
   "source": [
    "len(snr[snr.meansnr > 100])"
   ]
  },
  {
   "cell_type": "code",
   "execution_count": null,
   "id": "05e259da",
   "metadata": {},
   "outputs": [],
   "source": []
  }
 ],
 "metadata": {
  "kernelspec": {
   "display_name": "Python 3 (ipykernel)",
   "language": "python",
   "name": "python3"
  },
  "language_info": {
   "codemirror_mode": {
    "name": "ipython",
    "version": 3
   },
   "file_extension": ".py",
   "mimetype": "text/x-python",
   "name": "python",
   "nbconvert_exporter": "python",
   "pygments_lexer": "ipython3",
   "version": "3.9.7"
  }
 },
 "nbformat": 4,
 "nbformat_minor": 5
}
